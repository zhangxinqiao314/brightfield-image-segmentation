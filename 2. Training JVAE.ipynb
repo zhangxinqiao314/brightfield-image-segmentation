{
 "cells": [
  {
   "cell_type": "markdown",
   "metadata": {
    "heading_collapsed": true,
    "id": "7gy9KV-hpo9Y"
   },
   "source": [
    "# Imports"
   ]
  },
  {
   "cell_type": "markdown",
   "metadata": {
    "id": "8o7NUlze5Ukm",
    "jp-MarkdownHeadingCollapsed": true,
    "tags": []
   },
   "source": [
    "## Install"
   ]
  },
  {
   "cell_type": "code",
   "execution_count": 1,
   "metadata": {
    "colab": {
     "base_uri": "https://localhost:8080/"
    },
    "executionInfo": {
     "elapsed": 10621,
     "status": "ok",
     "timestamp": 1665613366110,
     "user": {
      "displayName": "M3 Learning",
      "userId": "18025570991736547060"
     },
     "user_tz": 240
    },
    "hidden": true,
    "id": "a0EIzhMBpo9a",
    "outputId": "523814a7-737b-4b5c-89fa-987a77011c34"
   },
   "outputs": [
    {
     "name": "stdout",
     "output_type": "stream",
     "text": [
      "Looking in indexes: https://pypi.org/simple, https://us-python.pkg.dev/colab-wheels/public/simple/\n",
      "Collecting sidpy\n",
      "  Downloading sidpy-0.11-py2.py3-none-any.whl (96 kB)\n",
      "\u001b[K     |████████████████████████████████| 96 kB 5.2 MB/s \n",
      "\u001b[?25hRequirement already satisfied: numpy>=1.10 in /usr/local/lib/python3.7/dist-packages (from sidpy) (1.21.6)\n",
      "Requirement already satisfied: h5py>=2.6.0 in /usr/local/lib/python3.7/dist-packages (from sidpy) (3.1.0)\n",
      "Collecting sklearn\n",
      "  Downloading sklearn-0.0.tar.gz (1.1 kB)\n",
      "Requirement already satisfied: matplotlib>=2.0.0 in /usr/local/lib/python3.7/dist-packages (from sidpy) (3.2.2)\n",
      "Requirement already satisfied: distributed>=2.0.0psutil in /usr/local/lib/python3.7/dist-packages (from sidpy) (2022.2.0)\n",
      "Collecting ipyfilechooser>=0.0.6\n",
      "  Downloading ipyfilechooser-0.6.0-py3-none-any.whl (11 kB)\n",
      "Requirement already satisfied: toolz in /usr/local/lib/python3.7/dist-packages (from sidpy) (0.12.0)\n",
      "Requirement already satisfied: scipy in /usr/local/lib/python3.7/dist-packages (from sidpy) (1.7.3)\n",
      "Requirement already satisfied: ipywidgets>=5.2.2 in /usr/local/lib/python3.7/dist-packages (from sidpy) (7.7.1)\n",
      "Requirement already satisfied: ipython>=6.0 in /usr/local/lib/python3.7/dist-packages (from sidpy) (7.9.0)\n",
      "Requirement already satisfied: six in /usr/local/lib/python3.7/dist-packages (from sidpy) (1.15.0)\n",
      "Requirement already satisfied: dask>=0.10 in /usr/local/lib/python3.7/dist-packages (from sidpy) (2022.2.0)\n",
      "Collecting cytoolz\n",
      "  Downloading cytoolz-0.12.0-cp37-cp37m-manylinux_2_17_x86_64.manylinux2014_x86_64.whl (1.6 MB)\n",
      "\u001b[K     |████████████████████████████████| 1.6 MB 54.7 MB/s \n",
      "\u001b[?25hRequirement already satisfied: joblib>=0.11.0 in /usr/local/lib/python3.7/dist-packages (from sidpy) (1.2.0)\n",
      "Requirement already satisfied: packaging>=20.0 in /usr/local/lib/python3.7/dist-packages (from dask>=0.10->sidpy) (21.3)\n",
      "Requirement already satisfied: cloudpickle>=1.1.1 in /usr/local/lib/python3.7/dist-packages (from dask>=0.10->sidpy) (1.5.0)\n",
      "Requirement already satisfied: pyyaml>=5.3.1 in /usr/local/lib/python3.7/dist-packages (from dask>=0.10->sidpy) (6.0)\n",
      "Requirement already satisfied: fsspec>=0.6.0 in /usr/local/lib/python3.7/dist-packages (from dask>=0.10->sidpy) (2022.8.2)\n",
      "Requirement already satisfied: partd>=0.3.10 in /usr/local/lib/python3.7/dist-packages (from dask>=0.10->sidpy) (1.3.0)\n",
      "Requirement already satisfied: tblib>=1.6.0 in /usr/local/lib/python3.7/dist-packages (from distributed>=2.0.0psutil->sidpy) (1.7.0)\n",
      "Requirement already satisfied: zict>=0.1.3 in /usr/local/lib/python3.7/dist-packages (from distributed>=2.0.0psutil->sidpy) (2.2.0)\n",
      "Requirement already satisfied: setuptools in /usr/local/lib/python3.7/dist-packages (from distributed>=2.0.0psutil->sidpy) (57.4.0)\n",
      "Requirement already satisfied: click>=6.6 in /usr/local/lib/python3.7/dist-packages (from distributed>=2.0.0psutil->sidpy) (7.1.2)\n",
      "Requirement already satisfied: msgpack>=0.6.0 in /usr/local/lib/python3.7/dist-packages (from distributed>=2.0.0psutil->sidpy) (1.0.4)\n",
      "Requirement already satisfied: tornado>=5 in /usr/local/lib/python3.7/dist-packages (from distributed>=2.0.0psutil->sidpy) (5.1.1)\n",
      "Requirement already satisfied: jinja2 in /usr/local/lib/python3.7/dist-packages (from distributed>=2.0.0psutil->sidpy) (2.11.3)\n",
      "Requirement already satisfied: psutil>=5.0 in /usr/local/lib/python3.7/dist-packages (from distributed>=2.0.0psutil->sidpy) (5.4.8)\n",
      "Requirement already satisfied: sortedcontainers!=2.0.0,!=2.0.1 in /usr/local/lib/python3.7/dist-packages (from distributed>=2.0.0psutil->sidpy) (2.4.0)\n",
      "Requirement already satisfied: cached-property in /usr/local/lib/python3.7/dist-packages (from h5py>=2.6.0->sidpy) (1.5.2)\n",
      "Requirement already satisfied: backcall in /usr/local/lib/python3.7/dist-packages (from ipython>=6.0->sidpy) (0.2.0)\n",
      "Collecting jedi>=0.10\n",
      "  Downloading jedi-0.18.1-py2.py3-none-any.whl (1.6 MB)\n",
      "\u001b[K     |████████████████████████████████| 1.6 MB 43.8 MB/s \n",
      "\u001b[?25hRequirement already satisfied: pygments in /usr/local/lib/python3.7/dist-packages (from ipython>=6.0->sidpy) (2.6.1)\n",
      "Requirement already satisfied: pexpect in /usr/local/lib/python3.7/dist-packages (from ipython>=6.0->sidpy) (4.8.0)\n",
      "Requirement already satisfied: traitlets>=4.2 in /usr/local/lib/python3.7/dist-packages (from ipython>=6.0->sidpy) (5.1.1)\n",
      "Requirement already satisfied: pickleshare in /usr/local/lib/python3.7/dist-packages (from ipython>=6.0->sidpy) (0.7.5)\n",
      "Requirement already satisfied: decorator in /usr/local/lib/python3.7/dist-packages (from ipython>=6.0->sidpy) (4.4.2)\n",
      "Requirement already satisfied: prompt-toolkit<2.1.0,>=2.0.0 in /usr/local/lib/python3.7/dist-packages (from ipython>=6.0->sidpy) (2.0.10)\n",
      "Requirement already satisfied: ipython-genutils~=0.2.0 in /usr/local/lib/python3.7/dist-packages (from ipywidgets>=5.2.2->sidpy) (0.2.0)\n",
      "Requirement already satisfied: ipykernel>=4.5.1 in /usr/local/lib/python3.7/dist-packages (from ipywidgets>=5.2.2->sidpy) (5.3.4)\n",
      "Requirement already satisfied: widgetsnbextension~=3.6.0 in /usr/local/lib/python3.7/dist-packages (from ipywidgets>=5.2.2->sidpy) (3.6.1)\n",
      "Requirement already satisfied: jupyterlab-widgets>=1.0.0 in /usr/local/lib/python3.7/dist-packages (from ipywidgets>=5.2.2->sidpy) (3.0.3)\n",
      "Requirement already satisfied: jupyter-client in /usr/local/lib/python3.7/dist-packages (from ipykernel>=4.5.1->ipywidgets>=5.2.2->sidpy) (6.1.12)\n",
      "Requirement already satisfied: parso<0.9.0,>=0.8.0 in /usr/local/lib/python3.7/dist-packages (from jedi>=0.10->ipython>=6.0->sidpy) (0.8.3)\n",
      "Requirement already satisfied: pyparsing!=2.0.4,!=2.1.2,!=2.1.6,>=2.0.1 in /usr/local/lib/python3.7/dist-packages (from matplotlib>=2.0.0->sidpy) (3.0.9)\n",
      "Requirement already satisfied: kiwisolver>=1.0.1 in /usr/local/lib/python3.7/dist-packages (from matplotlib>=2.0.0->sidpy) (1.4.4)\n",
      "Requirement already satisfied: cycler>=0.10 in /usr/local/lib/python3.7/dist-packages (from matplotlib>=2.0.0->sidpy) (0.11.0)\n",
      "Requirement already satisfied: python-dateutil>=2.1 in /usr/local/lib/python3.7/dist-packages (from matplotlib>=2.0.0->sidpy) (2.8.2)\n",
      "Requirement already satisfied: typing-extensions in /usr/local/lib/python3.7/dist-packages (from kiwisolver>=1.0.1->matplotlib>=2.0.0->sidpy) (4.1.1)\n",
      "Requirement already satisfied: locket in /usr/local/lib/python3.7/dist-packages (from partd>=0.3.10->dask>=0.10->sidpy) (1.0.0)\n",
      "Requirement already satisfied: wcwidth in /usr/local/lib/python3.7/dist-packages (from prompt-toolkit<2.1.0,>=2.0.0->ipython>=6.0->sidpy) (0.2.5)\n",
      "Requirement already satisfied: notebook>=4.4.1 in /usr/local/lib/python3.7/dist-packages (from widgetsnbextension~=3.6.0->ipywidgets>=5.2.2->sidpy) (5.5.0)\n",
      "Requirement already satisfied: terminado>=0.8.1 in /usr/local/lib/python3.7/dist-packages (from notebook>=4.4.1->widgetsnbextension~=3.6.0->ipywidgets>=5.2.2->sidpy) (0.13.3)\n",
      "Requirement already satisfied: nbformat in /usr/local/lib/python3.7/dist-packages (from notebook>=4.4.1->widgetsnbextension~=3.6.0->ipywidgets>=5.2.2->sidpy) (5.7.0)\n",
      "Requirement already satisfied: nbconvert in /usr/local/lib/python3.7/dist-packages (from notebook>=4.4.1->widgetsnbextension~=3.6.0->ipywidgets>=5.2.2->sidpy) (5.6.1)\n",
      "Requirement already satisfied: Send2Trash in /usr/local/lib/python3.7/dist-packages (from notebook>=4.4.1->widgetsnbextension~=3.6.0->ipywidgets>=5.2.2->sidpy) (1.8.0)\n",
      "Requirement already satisfied: pyzmq>=17 in /usr/local/lib/python3.7/dist-packages (from notebook>=4.4.1->widgetsnbextension~=3.6.0->ipywidgets>=5.2.2->sidpy) (23.2.1)\n",
      "Requirement already satisfied: jupyter-core>=4.4.0 in /usr/local/lib/python3.7/dist-packages (from notebook>=4.4.1->widgetsnbextension~=3.6.0->ipywidgets>=5.2.2->sidpy) (4.11.1)\n",
      "Requirement already satisfied: ptyprocess in /usr/local/lib/python3.7/dist-packages (from terminado>=0.8.1->notebook>=4.4.1->widgetsnbextension~=3.6.0->ipywidgets>=5.2.2->sidpy) (0.7.0)\n",
      "Requirement already satisfied: heapdict in /usr/local/lib/python3.7/dist-packages (from zict>=0.1.3->distributed>=2.0.0psutil->sidpy) (1.0.1)\n",
      "Requirement already satisfied: MarkupSafe>=0.23 in /usr/local/lib/python3.7/dist-packages (from jinja2->distributed>=2.0.0psutil->sidpy) (2.0.1)\n",
      "Requirement already satisfied: mistune<2,>=0.8.1 in /usr/local/lib/python3.7/dist-packages (from nbconvert->notebook>=4.4.1->widgetsnbextension~=3.6.0->ipywidgets>=5.2.2->sidpy) (0.8.4)\n",
      "Requirement already satisfied: entrypoints>=0.2.2 in /usr/local/lib/python3.7/dist-packages (from nbconvert->notebook>=4.4.1->widgetsnbextension~=3.6.0->ipywidgets>=5.2.2->sidpy) (0.4)\n",
      "Requirement already satisfied: testpath in /usr/local/lib/python3.7/dist-packages (from nbconvert->notebook>=4.4.1->widgetsnbextension~=3.6.0->ipywidgets>=5.2.2->sidpy) (0.6.0)\n",
      "Requirement already satisfied: defusedxml in /usr/local/lib/python3.7/dist-packages (from nbconvert->notebook>=4.4.1->widgetsnbextension~=3.6.0->ipywidgets>=5.2.2->sidpy) (0.7.1)\n",
      "Requirement already satisfied: bleach in /usr/local/lib/python3.7/dist-packages (from nbconvert->notebook>=4.4.1->widgetsnbextension~=3.6.0->ipywidgets>=5.2.2->sidpy) (5.0.1)\n",
      "Requirement already satisfied: pandocfilters>=1.4.1 in /usr/local/lib/python3.7/dist-packages (from nbconvert->notebook>=4.4.1->widgetsnbextension~=3.6.0->ipywidgets>=5.2.2->sidpy) (1.5.0)\n",
      "Requirement already satisfied: jsonschema>=2.6 in /usr/local/lib/python3.7/dist-packages (from nbformat->notebook>=4.4.1->widgetsnbextension~=3.6.0->ipywidgets>=5.2.2->sidpy) (4.3.3)\n",
      "Requirement already satisfied: importlib-metadata>=3.6 in /usr/local/lib/python3.7/dist-packages (from nbformat->notebook>=4.4.1->widgetsnbextension~=3.6.0->ipywidgets>=5.2.2->sidpy) (5.0.0)\n",
      "Requirement already satisfied: fastjsonschema in /usr/local/lib/python3.7/dist-packages (from nbformat->notebook>=4.4.1->widgetsnbextension~=3.6.0->ipywidgets>=5.2.2->sidpy) (2.16.2)\n",
      "Requirement already satisfied: zipp>=0.5 in /usr/local/lib/python3.7/dist-packages (from importlib-metadata>=3.6->nbformat->notebook>=4.4.1->widgetsnbextension~=3.6.0->ipywidgets>=5.2.2->sidpy) (3.9.0)\n",
      "Requirement already satisfied: importlib-resources>=1.4.0 in /usr/local/lib/python3.7/dist-packages (from jsonschema>=2.6->nbformat->notebook>=4.4.1->widgetsnbextension~=3.6.0->ipywidgets>=5.2.2->sidpy) (5.10.0)\n",
      "Requirement already satisfied: attrs>=17.4.0 in /usr/local/lib/python3.7/dist-packages (from jsonschema>=2.6->nbformat->notebook>=4.4.1->widgetsnbextension~=3.6.0->ipywidgets>=5.2.2->sidpy) (22.1.0)\n",
      "Requirement already satisfied: pyrsistent!=0.17.0,!=0.17.1,!=0.17.2,>=0.14.0 in /usr/local/lib/python3.7/dist-packages (from jsonschema>=2.6->nbformat->notebook>=4.4.1->widgetsnbextension~=3.6.0->ipywidgets>=5.2.2->sidpy) (0.18.1)\n",
      "Requirement already satisfied: webencodings in /usr/local/lib/python3.7/dist-packages (from bleach->nbconvert->notebook>=4.4.1->widgetsnbextension~=3.6.0->ipywidgets>=5.2.2->sidpy) (0.5.1)\n",
      "Requirement already satisfied: scikit-learn in /usr/local/lib/python3.7/dist-packages (from sklearn->sidpy) (1.0.2)\n",
      "Requirement already satisfied: threadpoolctl>=2.0.0 in /usr/local/lib/python3.7/dist-packages (from scikit-learn->sklearn->sidpy) (3.1.0)\n",
      "Building wheels for collected packages: sklearn\n",
      "  Building wheel for sklearn (setup.py) ... \u001b[?25l\u001b[?25hdone\n",
      "  Created wheel for sklearn: filename=sklearn-0.0-py2.py3-none-any.whl size=1310 sha256=5b7609992a624d7d0384d3393c0bf6e123c8c391af6382eff163be6101c11479\n",
      "  Stored in directory: /root/.cache/pip/wheels/46/ef/c3/157e41f5ee1372d1be90b09f74f82b10e391eaacca8f22d33e\n",
      "Successfully built sklearn\n",
      "Installing collected packages: jedi, sklearn, ipyfilechooser, cytoolz, sidpy\n",
      "Successfully installed cytoolz-0.12.0 ipyfilechooser-0.6.0 jedi-0.18.1 sidpy-0.11 sklearn-0.0\n"
     ]
    }
   ],
   "source": [
    "# we will need the sidpy package and pyNSID and SciFIreaders\n",
    "!pip install sidpy;\n",
    "#git+https://github.com/pycroscopy/sidpy.git"
   ]
  },
  {
   "cell_type": "code",
   "execution_count": 2,
   "metadata": {
    "colab": {
     "base_uri": "https://localhost:8080/"
    },
    "executionInfo": {
     "elapsed": 5277,
     "status": "ok",
     "timestamp": 1665613371383,
     "user": {
      "displayName": "M3 Learning",
      "userId": "18025570991736547060"
     },
     "user_tz": 240
    },
    "id": "0QYAs_VetAuR",
    "outputId": "b3151e6b-f37f-4b4c-ecfc-22cc9f42c674"
   },
   "outputs": [
    {
     "name": "stdout",
     "output_type": "stream",
     "text": [
      "Looking in indexes: https://pypi.org/simple, https://us-python.pkg.dev/colab-wheels/public/simple/\n",
      "Collecting pyNSID\n",
      "  Downloading pyNSID-0.0.3-py2.py3-none-any.whl (13 kB)\n",
      "Requirement already satisfied: cytoolz in /usr/local/lib/python3.7/dist-packages (from pyNSID) (0.12.0)\n",
      "Requirement already satisfied: toolz in /usr/local/lib/python3.7/dist-packages (from pyNSID) (0.12.0)\n",
      "Requirement already satisfied: numpy>=1.10 in /usr/local/lib/python3.7/dist-packages (from pyNSID) (1.21.6)\n",
      "Requirement already satisfied: six in /usr/local/lib/python3.7/dist-packages (from pyNSID) (1.15.0)\n",
      "Requirement already satisfied: h5py>=2.6.0 in /usr/local/lib/python3.7/dist-packages (from pyNSID) (3.1.0)\n",
      "Requirement already satisfied: sidpy>=0.0.2 in /usr/local/lib/python3.7/dist-packages (from pyNSID) (0.11)\n",
      "Requirement already satisfied: dask>=0.10 in /usr/local/lib/python3.7/dist-packages (from pyNSID) (2022.2.0)\n",
      "Requirement already satisfied: cloudpickle>=1.1.1 in /usr/local/lib/python3.7/dist-packages (from dask>=0.10->pyNSID) (1.5.0)\n",
      "Requirement already satisfied: packaging>=20.0 in /usr/local/lib/python3.7/dist-packages (from dask>=0.10->pyNSID) (21.3)\n",
      "Requirement already satisfied: fsspec>=0.6.0 in /usr/local/lib/python3.7/dist-packages (from dask>=0.10->pyNSID) (2022.8.2)\n",
      "Requirement already satisfied: partd>=0.3.10 in /usr/local/lib/python3.7/dist-packages (from dask>=0.10->pyNSID) (1.3.0)\n",
      "Requirement already satisfied: pyyaml>=5.3.1 in /usr/local/lib/python3.7/dist-packages (from dask>=0.10->pyNSID) (6.0)\n",
      "Requirement already satisfied: cached-property in /usr/local/lib/python3.7/dist-packages (from h5py>=2.6.0->pyNSID) (1.5.2)\n",
      "Requirement already satisfied: pyparsing!=3.0.5,>=2.0.2 in /usr/local/lib/python3.7/dist-packages (from packaging>=20.0->dask>=0.10->pyNSID) (3.0.9)\n",
      "Requirement already satisfied: locket in /usr/local/lib/python3.7/dist-packages (from partd>=0.3.10->dask>=0.10->pyNSID) (1.0.0)\n",
      "Requirement already satisfied: matplotlib>=2.0.0 in /usr/local/lib/python3.7/dist-packages (from sidpy>=0.0.2->pyNSID) (3.2.2)\n",
      "Requirement already satisfied: ipython>=6.0 in /usr/local/lib/python3.7/dist-packages (from sidpy>=0.0.2->pyNSID) (7.9.0)\n",
      "Requirement already satisfied: scipy in /usr/local/lib/python3.7/dist-packages (from sidpy>=0.0.2->pyNSID) (1.7.3)\n",
      "Requirement already satisfied: ipyfilechooser>=0.0.6 in /usr/local/lib/python3.7/dist-packages (from sidpy>=0.0.2->pyNSID) (0.6.0)\n",
      "Requirement already satisfied: sklearn in /usr/local/lib/python3.7/dist-packages (from sidpy>=0.0.2->pyNSID) (0.0)\n",
      "Requirement already satisfied: ipywidgets>=5.2.2 in /usr/local/lib/python3.7/dist-packages (from sidpy>=0.0.2->pyNSID) (7.7.1)\n",
      "Requirement already satisfied: distributed>=2.0.0psutil in /usr/local/lib/python3.7/dist-packages (from sidpy>=0.0.2->pyNSID) (2022.2.0)\n",
      "Requirement already satisfied: joblib>=0.11.0 in /usr/local/lib/python3.7/dist-packages (from sidpy>=0.0.2->pyNSID) (1.2.0)\n",
      "Requirement already satisfied: tblib>=1.6.0 in /usr/local/lib/python3.7/dist-packages (from distributed>=2.0.0psutil->sidpy>=0.0.2->pyNSID) (1.7.0)\n",
      "Requirement already satisfied: jinja2 in /usr/local/lib/python3.7/dist-packages (from distributed>=2.0.0psutil->sidpy>=0.0.2->pyNSID) (2.11.3)\n",
      "Requirement already satisfied: msgpack>=0.6.0 in /usr/local/lib/python3.7/dist-packages (from distributed>=2.0.0psutil->sidpy>=0.0.2->pyNSID) (1.0.4)\n",
      "Requirement already satisfied: click>=6.6 in /usr/local/lib/python3.7/dist-packages (from distributed>=2.0.0psutil->sidpy>=0.0.2->pyNSID) (7.1.2)\n",
      "Requirement already satisfied: tornado>=5 in /usr/local/lib/python3.7/dist-packages (from distributed>=2.0.0psutil->sidpy>=0.0.2->pyNSID) (5.1.1)\n",
      "Requirement already satisfied: sortedcontainers!=2.0.0,!=2.0.1 in /usr/local/lib/python3.7/dist-packages (from distributed>=2.0.0psutil->sidpy>=0.0.2->pyNSID) (2.4.0)\n",
      "Requirement already satisfied: setuptools in /usr/local/lib/python3.7/dist-packages (from distributed>=2.0.0psutil->sidpy>=0.0.2->pyNSID) (57.4.0)\n",
      "Requirement already satisfied: psutil>=5.0 in /usr/local/lib/python3.7/dist-packages (from distributed>=2.0.0psutil->sidpy>=0.0.2->pyNSID) (5.4.8)\n",
      "Requirement already satisfied: zict>=0.1.3 in /usr/local/lib/python3.7/dist-packages (from distributed>=2.0.0psutil->sidpy>=0.0.2->pyNSID) (2.2.0)\n",
      "Requirement already satisfied: backcall in /usr/local/lib/python3.7/dist-packages (from ipython>=6.0->sidpy>=0.0.2->pyNSID) (0.2.0)\n",
      "Requirement already satisfied: pygments in /usr/local/lib/python3.7/dist-packages (from ipython>=6.0->sidpy>=0.0.2->pyNSID) (2.6.1)\n",
      "Requirement already satisfied: jedi>=0.10 in /usr/local/lib/python3.7/dist-packages (from ipython>=6.0->sidpy>=0.0.2->pyNSID) (0.18.1)\n",
      "Requirement already satisfied: pickleshare in /usr/local/lib/python3.7/dist-packages (from ipython>=6.0->sidpy>=0.0.2->pyNSID) (0.7.5)\n",
      "Requirement already satisfied: decorator in /usr/local/lib/python3.7/dist-packages (from ipython>=6.0->sidpy>=0.0.2->pyNSID) (4.4.2)\n",
      "Requirement already satisfied: prompt-toolkit<2.1.0,>=2.0.0 in /usr/local/lib/python3.7/dist-packages (from ipython>=6.0->sidpy>=0.0.2->pyNSID) (2.0.10)\n",
      "Requirement already satisfied: pexpect in /usr/local/lib/python3.7/dist-packages (from ipython>=6.0->sidpy>=0.0.2->pyNSID) (4.8.0)\n",
      "Requirement already satisfied: traitlets>=4.2 in /usr/local/lib/python3.7/dist-packages (from ipython>=6.0->sidpy>=0.0.2->pyNSID) (5.1.1)\n",
      "Requirement already satisfied: ipython-genutils~=0.2.0 in /usr/local/lib/python3.7/dist-packages (from ipywidgets>=5.2.2->sidpy>=0.0.2->pyNSID) (0.2.0)\n",
      "Requirement already satisfied: jupyterlab-widgets>=1.0.0 in /usr/local/lib/python3.7/dist-packages (from ipywidgets>=5.2.2->sidpy>=0.0.2->pyNSID) (3.0.3)\n",
      "Requirement already satisfied: ipykernel>=4.5.1 in /usr/local/lib/python3.7/dist-packages (from ipywidgets>=5.2.2->sidpy>=0.0.2->pyNSID) (5.3.4)\n",
      "Requirement already satisfied: widgetsnbextension~=3.6.0 in /usr/local/lib/python3.7/dist-packages (from ipywidgets>=5.2.2->sidpy>=0.0.2->pyNSID) (3.6.1)\n",
      "Requirement already satisfied: jupyter-client in /usr/local/lib/python3.7/dist-packages (from ipykernel>=4.5.1->ipywidgets>=5.2.2->sidpy>=0.0.2->pyNSID) (6.1.12)\n",
      "Requirement already satisfied: parso<0.9.0,>=0.8.0 in /usr/local/lib/python3.7/dist-packages (from jedi>=0.10->ipython>=6.0->sidpy>=0.0.2->pyNSID) (0.8.3)\n",
      "Requirement already satisfied: cycler>=0.10 in /usr/local/lib/python3.7/dist-packages (from matplotlib>=2.0.0->sidpy>=0.0.2->pyNSID) (0.11.0)\n",
      "Requirement already satisfied: python-dateutil>=2.1 in /usr/local/lib/python3.7/dist-packages (from matplotlib>=2.0.0->sidpy>=0.0.2->pyNSID) (2.8.2)\n",
      "Requirement already satisfied: kiwisolver>=1.0.1 in /usr/local/lib/python3.7/dist-packages (from matplotlib>=2.0.0->sidpy>=0.0.2->pyNSID) (1.4.4)\n",
      "Requirement already satisfied: typing-extensions in /usr/local/lib/python3.7/dist-packages (from kiwisolver>=1.0.1->matplotlib>=2.0.0->sidpy>=0.0.2->pyNSID) (4.1.1)\n",
      "Requirement already satisfied: wcwidth in /usr/local/lib/python3.7/dist-packages (from prompt-toolkit<2.1.0,>=2.0.0->ipython>=6.0->sidpy>=0.0.2->pyNSID) (0.2.5)\n",
      "Requirement already satisfied: notebook>=4.4.1 in /usr/local/lib/python3.7/dist-packages (from widgetsnbextension~=3.6.0->ipywidgets>=5.2.2->sidpy>=0.0.2->pyNSID) (5.5.0)\n",
      "Requirement already satisfied: terminado>=0.8.1 in /usr/local/lib/python3.7/dist-packages (from notebook>=4.4.1->widgetsnbextension~=3.6.0->ipywidgets>=5.2.2->sidpy>=0.0.2->pyNSID) (0.13.3)\n",
      "Requirement already satisfied: Send2Trash in /usr/local/lib/python3.7/dist-packages (from notebook>=4.4.1->widgetsnbextension~=3.6.0->ipywidgets>=5.2.2->sidpy>=0.0.2->pyNSID) (1.8.0)\n",
      "Requirement already satisfied: jupyter-core>=4.4.0 in /usr/local/lib/python3.7/dist-packages (from notebook>=4.4.1->widgetsnbextension~=3.6.0->ipywidgets>=5.2.2->sidpy>=0.0.2->pyNSID) (4.11.1)\n",
      "Requirement already satisfied: nbformat in /usr/local/lib/python3.7/dist-packages (from notebook>=4.4.1->widgetsnbextension~=3.6.0->ipywidgets>=5.2.2->sidpy>=0.0.2->pyNSID) (5.7.0)\n",
      "Requirement already satisfied: nbconvert in /usr/local/lib/python3.7/dist-packages (from notebook>=4.4.1->widgetsnbextension~=3.6.0->ipywidgets>=5.2.2->sidpy>=0.0.2->pyNSID) (5.6.1)\n",
      "Requirement already satisfied: pyzmq>=17 in /usr/local/lib/python3.7/dist-packages (from notebook>=4.4.1->widgetsnbextension~=3.6.0->ipywidgets>=5.2.2->sidpy>=0.0.2->pyNSID) (23.2.1)\n",
      "Requirement already satisfied: ptyprocess in /usr/local/lib/python3.7/dist-packages (from terminado>=0.8.1->notebook>=4.4.1->widgetsnbextension~=3.6.0->ipywidgets>=5.2.2->sidpy>=0.0.2->pyNSID) (0.7.0)\n",
      "Requirement already satisfied: heapdict in /usr/local/lib/python3.7/dist-packages (from zict>=0.1.3->distributed>=2.0.0psutil->sidpy>=0.0.2->pyNSID) (1.0.1)\n",
      "Requirement already satisfied: MarkupSafe>=0.23 in /usr/local/lib/python3.7/dist-packages (from jinja2->distributed>=2.0.0psutil->sidpy>=0.0.2->pyNSID) (2.0.1)\n",
      "Requirement already satisfied: mistune<2,>=0.8.1 in /usr/local/lib/python3.7/dist-packages (from nbconvert->notebook>=4.4.1->widgetsnbextension~=3.6.0->ipywidgets>=5.2.2->sidpy>=0.0.2->pyNSID) (0.8.4)\n",
      "Requirement already satisfied: bleach in /usr/local/lib/python3.7/dist-packages (from nbconvert->notebook>=4.4.1->widgetsnbextension~=3.6.0->ipywidgets>=5.2.2->sidpy>=0.0.2->pyNSID) (5.0.1)\n",
      "Requirement already satisfied: pandocfilters>=1.4.1 in /usr/local/lib/python3.7/dist-packages (from nbconvert->notebook>=4.4.1->widgetsnbextension~=3.6.0->ipywidgets>=5.2.2->sidpy>=0.0.2->pyNSID) (1.5.0)\n",
      "Requirement already satisfied: defusedxml in /usr/local/lib/python3.7/dist-packages (from nbconvert->notebook>=4.4.1->widgetsnbextension~=3.6.0->ipywidgets>=5.2.2->sidpy>=0.0.2->pyNSID) (0.7.1)\n",
      "Requirement already satisfied: testpath in /usr/local/lib/python3.7/dist-packages (from nbconvert->notebook>=4.4.1->widgetsnbextension~=3.6.0->ipywidgets>=5.2.2->sidpy>=0.0.2->pyNSID) (0.6.0)\n",
      "Requirement already satisfied: entrypoints>=0.2.2 in /usr/local/lib/python3.7/dist-packages (from nbconvert->notebook>=4.4.1->widgetsnbextension~=3.6.0->ipywidgets>=5.2.2->sidpy>=0.0.2->pyNSID) (0.4)\n",
      "Requirement already satisfied: jsonschema>=2.6 in /usr/local/lib/python3.7/dist-packages (from nbformat->notebook>=4.4.1->widgetsnbextension~=3.6.0->ipywidgets>=5.2.2->sidpy>=0.0.2->pyNSID) (4.3.3)\n",
      "Requirement already satisfied: fastjsonschema in /usr/local/lib/python3.7/dist-packages (from nbformat->notebook>=4.4.1->widgetsnbextension~=3.6.0->ipywidgets>=5.2.2->sidpy>=0.0.2->pyNSID) (2.16.2)\n",
      "Requirement already satisfied: importlib-metadata>=3.6 in /usr/local/lib/python3.7/dist-packages (from nbformat->notebook>=4.4.1->widgetsnbextension~=3.6.0->ipywidgets>=5.2.2->sidpy>=0.0.2->pyNSID) (5.0.0)\n",
      "Requirement already satisfied: zipp>=0.5 in /usr/local/lib/python3.7/dist-packages (from importlib-metadata>=3.6->nbformat->notebook>=4.4.1->widgetsnbextension~=3.6.0->ipywidgets>=5.2.2->sidpy>=0.0.2->pyNSID) (3.9.0)\n",
      "Requirement already satisfied: attrs>=17.4.0 in /usr/local/lib/python3.7/dist-packages (from jsonschema>=2.6->nbformat->notebook>=4.4.1->widgetsnbextension~=3.6.0->ipywidgets>=5.2.2->sidpy>=0.0.2->pyNSID) (22.1.0)\n",
      "Requirement already satisfied: pyrsistent!=0.17.0,!=0.17.1,!=0.17.2,>=0.14.0 in /usr/local/lib/python3.7/dist-packages (from jsonschema>=2.6->nbformat->notebook>=4.4.1->widgetsnbextension~=3.6.0->ipywidgets>=5.2.2->sidpy>=0.0.2->pyNSID) (0.18.1)\n",
      "Requirement already satisfied: importlib-resources>=1.4.0 in /usr/local/lib/python3.7/dist-packages (from jsonschema>=2.6->nbformat->notebook>=4.4.1->widgetsnbextension~=3.6.0->ipywidgets>=5.2.2->sidpy>=0.0.2->pyNSID) (5.10.0)\n",
      "Requirement already satisfied: webencodings in /usr/local/lib/python3.7/dist-packages (from bleach->nbconvert->notebook>=4.4.1->widgetsnbextension~=3.6.0->ipywidgets>=5.2.2->sidpy>=0.0.2->pyNSID) (0.5.1)\n",
      "Requirement already satisfied: scikit-learn in /usr/local/lib/python3.7/dist-packages (from sklearn->sidpy>=0.0.2->pyNSID) (1.0.2)\n",
      "Requirement already satisfied: threadpoolctl>=2.0.0 in /usr/local/lib/python3.7/dist-packages (from scikit-learn->sklearn->sidpy>=0.0.2->pyNSID) (3.1.0)\n",
      "Installing collected packages: pyNSID\n",
      "Successfully installed pyNSID-0.0.3\n"
     ]
    }
   ],
   "source": [
    "!pip install pyNSID;"
   ]
  },
  {
   "cell_type": "code",
   "execution_count": 3,
   "metadata": {
    "colab": {
     "base_uri": "https://localhost:8080/"
    },
    "executionInfo": {
     "elapsed": 5210,
     "status": "ok",
     "timestamp": 1665613376588,
     "user": {
      "displayName": "M3 Learning",
      "userId": "18025570991736547060"
     },
     "user_tz": 240
    },
    "id": "QsyHKKTktCw9",
    "outputId": "716cdb04-5510-467e-f35e-96aac8934114"
   },
   "outputs": [
    {
     "name": "stdout",
     "output_type": "stream",
     "text": [
      "Looking in indexes: https://pypi.org/simple, https://us-python.pkg.dev/colab-wheels/public/simple/\n",
      "Collecting pyUSID\n",
      "  Downloading pyUSID-0.0.10-py2.py3-none-any.whl (66 kB)\n",
      "\u001b[K     |████████████████████████████████| 66 kB 4.4 MB/s \n",
      "\u001b[?25hRequirement already satisfied: cytoolz in /usr/local/lib/python3.7/dist-packages (from pyUSID) (0.12.0)\n",
      "Requirement already satisfied: sidpy>=0.0.2 in /usr/local/lib/python3.7/dist-packages (from pyUSID) (0.11)\n",
      "Requirement already satisfied: toolz in /usr/local/lib/python3.7/dist-packages (from pyUSID) (0.12.0)\n",
      "Requirement already satisfied: dask>=0.10 in /usr/local/lib/python3.7/dist-packages (from pyUSID) (2022.2.0)\n",
      "Requirement already satisfied: psutil in /usr/local/lib/python3.7/dist-packages (from pyUSID) (5.4.8)\n",
      "Requirement already satisfied: six in /usr/local/lib/python3.7/dist-packages (from pyUSID) (1.15.0)\n",
      "Requirement already satisfied: numpy>=1.10 in /usr/local/lib/python3.7/dist-packages (from pyUSID) (1.21.6)\n",
      "Requirement already satisfied: pillow in /usr/local/lib/python3.7/dist-packages (from pyUSID) (7.1.2)\n",
      "Requirement already satisfied: h5py>=2.6.0 in /usr/local/lib/python3.7/dist-packages (from pyUSID) (3.1.0)\n",
      "Requirement already satisfied: partd>=0.3.10 in /usr/local/lib/python3.7/dist-packages (from dask>=0.10->pyUSID) (1.3.0)\n",
      "Requirement already satisfied: cloudpickle>=1.1.1 in /usr/local/lib/python3.7/dist-packages (from dask>=0.10->pyUSID) (1.5.0)\n",
      "Requirement already satisfied: fsspec>=0.6.0 in /usr/local/lib/python3.7/dist-packages (from dask>=0.10->pyUSID) (2022.8.2)\n",
      "Requirement already satisfied: packaging>=20.0 in /usr/local/lib/python3.7/dist-packages (from dask>=0.10->pyUSID) (21.3)\n",
      "Requirement already satisfied: pyyaml>=5.3.1 in /usr/local/lib/python3.7/dist-packages (from dask>=0.10->pyUSID) (6.0)\n",
      "Requirement already satisfied: cached-property in /usr/local/lib/python3.7/dist-packages (from h5py>=2.6.0->pyUSID) (1.5.2)\n",
      "Requirement already satisfied: pyparsing!=3.0.5,>=2.0.2 in /usr/local/lib/python3.7/dist-packages (from packaging>=20.0->dask>=0.10->pyUSID) (3.0.9)\n",
      "Requirement already satisfied: locket in /usr/local/lib/python3.7/dist-packages (from partd>=0.3.10->dask>=0.10->pyUSID) (1.0.0)\n",
      "Requirement already satisfied: ipywidgets>=5.2.2 in /usr/local/lib/python3.7/dist-packages (from sidpy>=0.0.2->pyUSID) (7.7.1)\n",
      "Requirement already satisfied: scipy in /usr/local/lib/python3.7/dist-packages (from sidpy>=0.0.2->pyUSID) (1.7.3)\n",
      "Requirement already satisfied: distributed>=2.0.0psutil in /usr/local/lib/python3.7/dist-packages (from sidpy>=0.0.2->pyUSID) (2022.2.0)\n",
      "Requirement already satisfied: ipyfilechooser>=0.0.6 in /usr/local/lib/python3.7/dist-packages (from sidpy>=0.0.2->pyUSID) (0.6.0)\n",
      "Requirement already satisfied: joblib>=0.11.0 in /usr/local/lib/python3.7/dist-packages (from sidpy>=0.0.2->pyUSID) (1.2.0)\n",
      "Requirement already satisfied: matplotlib>=2.0.0 in /usr/local/lib/python3.7/dist-packages (from sidpy>=0.0.2->pyUSID) (3.2.2)\n",
      "Requirement already satisfied: ipython>=6.0 in /usr/local/lib/python3.7/dist-packages (from sidpy>=0.0.2->pyUSID) (7.9.0)\n",
      "Requirement already satisfied: sklearn in /usr/local/lib/python3.7/dist-packages (from sidpy>=0.0.2->pyUSID) (0.0)\n",
      "Requirement already satisfied: setuptools in /usr/local/lib/python3.7/dist-packages (from distributed>=2.0.0psutil->sidpy>=0.0.2->pyUSID) (57.4.0)\n",
      "Requirement already satisfied: tornado>=5 in /usr/local/lib/python3.7/dist-packages (from distributed>=2.0.0psutil->sidpy>=0.0.2->pyUSID) (5.1.1)\n",
      "Requirement already satisfied: zict>=0.1.3 in /usr/local/lib/python3.7/dist-packages (from distributed>=2.0.0psutil->sidpy>=0.0.2->pyUSID) (2.2.0)\n",
      "Requirement already satisfied: click>=6.6 in /usr/local/lib/python3.7/dist-packages (from distributed>=2.0.0psutil->sidpy>=0.0.2->pyUSID) (7.1.2)\n",
      "Requirement already satisfied: msgpack>=0.6.0 in /usr/local/lib/python3.7/dist-packages (from distributed>=2.0.0psutil->sidpy>=0.0.2->pyUSID) (1.0.4)\n",
      "Requirement already satisfied: jinja2 in /usr/local/lib/python3.7/dist-packages (from distributed>=2.0.0psutil->sidpy>=0.0.2->pyUSID) (2.11.3)\n",
      "Requirement already satisfied: sortedcontainers!=2.0.0,!=2.0.1 in /usr/local/lib/python3.7/dist-packages (from distributed>=2.0.0psutil->sidpy>=0.0.2->pyUSID) (2.4.0)\n",
      "Requirement already satisfied: tblib>=1.6.0 in /usr/local/lib/python3.7/dist-packages (from distributed>=2.0.0psutil->sidpy>=0.0.2->pyUSID) (1.7.0)\n",
      "Requirement already satisfied: prompt-toolkit<2.1.0,>=2.0.0 in /usr/local/lib/python3.7/dist-packages (from ipython>=6.0->sidpy>=0.0.2->pyUSID) (2.0.10)\n",
      "Requirement already satisfied: pygments in /usr/local/lib/python3.7/dist-packages (from ipython>=6.0->sidpy>=0.0.2->pyUSID) (2.6.1)\n",
      "Requirement already satisfied: backcall in /usr/local/lib/python3.7/dist-packages (from ipython>=6.0->sidpy>=0.0.2->pyUSID) (0.2.0)\n",
      "Requirement already satisfied: jedi>=0.10 in /usr/local/lib/python3.7/dist-packages (from ipython>=6.0->sidpy>=0.0.2->pyUSID) (0.18.1)\n",
      "Requirement already satisfied: pickleshare in /usr/local/lib/python3.7/dist-packages (from ipython>=6.0->sidpy>=0.0.2->pyUSID) (0.7.5)\n",
      "Requirement already satisfied: decorator in /usr/local/lib/python3.7/dist-packages (from ipython>=6.0->sidpy>=0.0.2->pyUSID) (4.4.2)\n",
      "Requirement already satisfied: traitlets>=4.2 in /usr/local/lib/python3.7/dist-packages (from ipython>=6.0->sidpy>=0.0.2->pyUSID) (5.1.1)\n",
      "Requirement already satisfied: pexpect in /usr/local/lib/python3.7/dist-packages (from ipython>=6.0->sidpy>=0.0.2->pyUSID) (4.8.0)\n",
      "Requirement already satisfied: widgetsnbextension~=3.6.0 in /usr/local/lib/python3.7/dist-packages (from ipywidgets>=5.2.2->sidpy>=0.0.2->pyUSID) (3.6.1)\n",
      "Requirement already satisfied: jupyterlab-widgets>=1.0.0 in /usr/local/lib/python3.7/dist-packages (from ipywidgets>=5.2.2->sidpy>=0.0.2->pyUSID) (3.0.3)\n",
      "Requirement already satisfied: ipython-genutils~=0.2.0 in /usr/local/lib/python3.7/dist-packages (from ipywidgets>=5.2.2->sidpy>=0.0.2->pyUSID) (0.2.0)\n",
      "Requirement already satisfied: ipykernel>=4.5.1 in /usr/local/lib/python3.7/dist-packages (from ipywidgets>=5.2.2->sidpy>=0.0.2->pyUSID) (5.3.4)\n",
      "Requirement already satisfied: jupyter-client in /usr/local/lib/python3.7/dist-packages (from ipykernel>=4.5.1->ipywidgets>=5.2.2->sidpy>=0.0.2->pyUSID) (6.1.12)\n",
      "Requirement already satisfied: parso<0.9.0,>=0.8.0 in /usr/local/lib/python3.7/dist-packages (from jedi>=0.10->ipython>=6.0->sidpy>=0.0.2->pyUSID) (0.8.3)\n",
      "Requirement already satisfied: python-dateutil>=2.1 in /usr/local/lib/python3.7/dist-packages (from matplotlib>=2.0.0->sidpy>=0.0.2->pyUSID) (2.8.2)\n",
      "Requirement already satisfied: cycler>=0.10 in /usr/local/lib/python3.7/dist-packages (from matplotlib>=2.0.0->sidpy>=0.0.2->pyUSID) (0.11.0)\n",
      "Requirement already satisfied: kiwisolver>=1.0.1 in /usr/local/lib/python3.7/dist-packages (from matplotlib>=2.0.0->sidpy>=0.0.2->pyUSID) (1.4.4)\n",
      "Requirement already satisfied: typing-extensions in /usr/local/lib/python3.7/dist-packages (from kiwisolver>=1.0.1->matplotlib>=2.0.0->sidpy>=0.0.2->pyUSID) (4.1.1)\n",
      "Requirement already satisfied: wcwidth in /usr/local/lib/python3.7/dist-packages (from prompt-toolkit<2.1.0,>=2.0.0->ipython>=6.0->sidpy>=0.0.2->pyUSID) (0.2.5)\n",
      "Requirement already satisfied: notebook>=4.4.1 in /usr/local/lib/python3.7/dist-packages (from widgetsnbextension~=3.6.0->ipywidgets>=5.2.2->sidpy>=0.0.2->pyUSID) (5.5.0)\n",
      "Requirement already satisfied: nbformat in /usr/local/lib/python3.7/dist-packages (from notebook>=4.4.1->widgetsnbextension~=3.6.0->ipywidgets>=5.2.2->sidpy>=0.0.2->pyUSID) (5.7.0)\n",
      "Requirement already satisfied: Send2Trash in /usr/local/lib/python3.7/dist-packages (from notebook>=4.4.1->widgetsnbextension~=3.6.0->ipywidgets>=5.2.2->sidpy>=0.0.2->pyUSID) (1.8.0)\n",
      "Requirement already satisfied: nbconvert in /usr/local/lib/python3.7/dist-packages (from notebook>=4.4.1->widgetsnbextension~=3.6.0->ipywidgets>=5.2.2->sidpy>=0.0.2->pyUSID) (5.6.1)\n",
      "Requirement already satisfied: terminado>=0.8.1 in /usr/local/lib/python3.7/dist-packages (from notebook>=4.4.1->widgetsnbextension~=3.6.0->ipywidgets>=5.2.2->sidpy>=0.0.2->pyUSID) (0.13.3)\n",
      "Requirement already satisfied: jupyter-core>=4.4.0 in /usr/local/lib/python3.7/dist-packages (from notebook>=4.4.1->widgetsnbextension~=3.6.0->ipywidgets>=5.2.2->sidpy>=0.0.2->pyUSID) (4.11.1)\n",
      "Requirement already satisfied: pyzmq>=17 in /usr/local/lib/python3.7/dist-packages (from notebook>=4.4.1->widgetsnbextension~=3.6.0->ipywidgets>=5.2.2->sidpy>=0.0.2->pyUSID) (23.2.1)\n",
      "Requirement already satisfied: ptyprocess in /usr/local/lib/python3.7/dist-packages (from terminado>=0.8.1->notebook>=4.4.1->widgetsnbextension~=3.6.0->ipywidgets>=5.2.2->sidpy>=0.0.2->pyUSID) (0.7.0)\n",
      "Requirement already satisfied: heapdict in /usr/local/lib/python3.7/dist-packages (from zict>=0.1.3->distributed>=2.0.0psutil->sidpy>=0.0.2->pyUSID) (1.0.1)\n",
      "Requirement already satisfied: MarkupSafe>=0.23 in /usr/local/lib/python3.7/dist-packages (from jinja2->distributed>=2.0.0psutil->sidpy>=0.0.2->pyUSID) (2.0.1)\n",
      "Requirement already satisfied: mistune<2,>=0.8.1 in /usr/local/lib/python3.7/dist-packages (from nbconvert->notebook>=4.4.1->widgetsnbextension~=3.6.0->ipywidgets>=5.2.2->sidpy>=0.0.2->pyUSID) (0.8.4)\n",
      "Requirement already satisfied: pandocfilters>=1.4.1 in /usr/local/lib/python3.7/dist-packages (from nbconvert->notebook>=4.4.1->widgetsnbextension~=3.6.0->ipywidgets>=5.2.2->sidpy>=0.0.2->pyUSID) (1.5.0)\n",
      "Requirement already satisfied: testpath in /usr/local/lib/python3.7/dist-packages (from nbconvert->notebook>=4.4.1->widgetsnbextension~=3.6.0->ipywidgets>=5.2.2->sidpy>=0.0.2->pyUSID) (0.6.0)\n",
      "Requirement already satisfied: defusedxml in /usr/local/lib/python3.7/dist-packages (from nbconvert->notebook>=4.4.1->widgetsnbextension~=3.6.0->ipywidgets>=5.2.2->sidpy>=0.0.2->pyUSID) (0.7.1)\n",
      "Requirement already satisfied: bleach in /usr/local/lib/python3.7/dist-packages (from nbconvert->notebook>=4.4.1->widgetsnbextension~=3.6.0->ipywidgets>=5.2.2->sidpy>=0.0.2->pyUSID) (5.0.1)\n",
      "Requirement already satisfied: entrypoints>=0.2.2 in /usr/local/lib/python3.7/dist-packages (from nbconvert->notebook>=4.4.1->widgetsnbextension~=3.6.0->ipywidgets>=5.2.2->sidpy>=0.0.2->pyUSID) (0.4)\n",
      "Requirement already satisfied: fastjsonschema in /usr/local/lib/python3.7/dist-packages (from nbformat->notebook>=4.4.1->widgetsnbextension~=3.6.0->ipywidgets>=5.2.2->sidpy>=0.0.2->pyUSID) (2.16.2)\n",
      "Requirement already satisfied: importlib-metadata>=3.6 in /usr/local/lib/python3.7/dist-packages (from nbformat->notebook>=4.4.1->widgetsnbextension~=3.6.0->ipywidgets>=5.2.2->sidpy>=0.0.2->pyUSID) (5.0.0)\n",
      "Requirement already satisfied: jsonschema>=2.6 in /usr/local/lib/python3.7/dist-packages (from nbformat->notebook>=4.4.1->widgetsnbextension~=3.6.0->ipywidgets>=5.2.2->sidpy>=0.0.2->pyUSID) (4.3.3)\n",
      "Requirement already satisfied: zipp>=0.5 in /usr/local/lib/python3.7/dist-packages (from importlib-metadata>=3.6->nbformat->notebook>=4.4.1->widgetsnbextension~=3.6.0->ipywidgets>=5.2.2->sidpy>=0.0.2->pyUSID) (3.9.0)\n",
      "Requirement already satisfied: pyrsistent!=0.17.0,!=0.17.1,!=0.17.2,>=0.14.0 in /usr/local/lib/python3.7/dist-packages (from jsonschema>=2.6->nbformat->notebook>=4.4.1->widgetsnbextension~=3.6.0->ipywidgets>=5.2.2->sidpy>=0.0.2->pyUSID) (0.18.1)\n",
      "Requirement already satisfied: importlib-resources>=1.4.0 in /usr/local/lib/python3.7/dist-packages (from jsonschema>=2.6->nbformat->notebook>=4.4.1->widgetsnbextension~=3.6.0->ipywidgets>=5.2.2->sidpy>=0.0.2->pyUSID) (5.10.0)\n",
      "Requirement already satisfied: attrs>=17.4.0 in /usr/local/lib/python3.7/dist-packages (from jsonschema>=2.6->nbformat->notebook>=4.4.1->widgetsnbextension~=3.6.0->ipywidgets>=5.2.2->sidpy>=0.0.2->pyUSID) (22.1.0)\n",
      "Requirement already satisfied: webencodings in /usr/local/lib/python3.7/dist-packages (from bleach->nbconvert->notebook>=4.4.1->widgetsnbextension~=3.6.0->ipywidgets>=5.2.2->sidpy>=0.0.2->pyUSID) (0.5.1)\n",
      "Requirement already satisfied: scikit-learn in /usr/local/lib/python3.7/dist-packages (from sklearn->sidpy>=0.0.2->pyUSID) (1.0.2)\n",
      "Requirement already satisfied: threadpoolctl>=2.0.0 in /usr/local/lib/python3.7/dist-packages (from scikit-learn->sklearn->sidpy>=0.0.2->pyUSID) (3.1.0)\n",
      "Installing collected packages: pyUSID\n",
      "Successfully installed pyUSID-0.0.10\n"
     ]
    }
   ],
   "source": [
    "!pip install pyUSID;"
   ]
  },
  {
   "cell_type": "code",
   "execution_count": 4,
   "metadata": {
    "colab": {
     "base_uri": "https://localhost:8080/"
    },
    "executionInfo": {
     "elapsed": 6381,
     "status": "ok",
     "timestamp": 1665613382956,
     "user": {
      "displayName": "M3 Learning",
      "userId": "18025570991736547060"
     },
     "user_tz": 240
    },
    "id": "-JdNylNutRR5",
    "outputId": "605b93db-5b70-4a4f-cbbb-269cd53784fa"
   },
   "outputs": [
    {
     "name": "stdout",
     "output_type": "stream",
     "text": [
      "Looking in indexes: https://pypi.org/simple, https://us-python.pkg.dev/colab-wheels/public/simple/\n",
      "Collecting pycroscopy==0.61.0-alpha\n",
      "  Downloading pycroscopy-0.61.0a0-py2.py3-none-any.whl (27 kB)\n",
      "Collecting tensorly>=0.6.0\n",
      "  Downloading tensorly-0.7.0-py3-none-any.whl (198 kB)\n",
      "\u001b[K     |████████████████████████████████| 198 kB 37.4 MB/s \n",
      "\u001b[?25hRequirement already satisfied: joblib>=0.11.0 in /usr/local/lib/python3.7/dist-packages (from pycroscopy==0.61.0-alpha) (1.2.0)\n",
      "Requirement already satisfied: torch>=1.0.0 in /usr/local/lib/python3.7/dist-packages (from pycroscopy==0.61.0-alpha) (1.12.1+cu113)\n",
      "Requirement already satisfied: six in /usr/local/lib/python3.7/dist-packages (from pycroscopy==0.61.0-alpha) (1.15.0)\n",
      "Requirement already satisfied: pyUSID>=0.0.8 in /usr/local/lib/python3.7/dist-packages (from pycroscopy==0.61.0-alpha) (0.0.10)\n",
      "Requirement already satisfied: ipython>=6.0 in /usr/local/lib/python3.7/dist-packages (from pycroscopy==0.61.0-alpha) (7.9.0)\n",
      "Requirement already satisfied: numpy>=1.13.0 in /usr/local/lib/python3.7/dist-packages (from pycroscopy==0.61.0-alpha) (1.21.6)\n",
      "Requirement already satisfied: ipywidgets>=5.2.2 in /usr/local/lib/python3.7/dist-packages (from pycroscopy==0.61.0-alpha) (7.7.1)\n",
      "Requirement already satisfied: scikit-learn>=0.17.1 in /usr/local/lib/python3.7/dist-packages (from pycroscopy==0.61.0-alpha) (1.0.2)\n",
      "Requirement already satisfied: scikit-image>=0.12.3 in /usr/local/lib/python3.7/dist-packages (from pycroscopy==0.61.0-alpha) (0.18.3)\n",
      "Requirement already satisfied: matplotlib>=2.0.0 in /usr/local/lib/python3.7/dist-packages (from pycroscopy==0.61.0-alpha) (3.2.2)\n",
      "Requirement already satisfied: psutil in /usr/local/lib/python3.7/dist-packages (from pycroscopy==0.61.0-alpha) (5.4.8)\n",
      "Requirement already satisfied: sidpy>=0.0.1 in /usr/local/lib/python3.7/dist-packages (from pycroscopy==0.61.0-alpha) (0.11)\n",
      "Requirement already satisfied: scipy>=0.17.1 in /usr/local/lib/python3.7/dist-packages (from pycroscopy==0.61.0-alpha) (1.7.3)\n",
      "Requirement already satisfied: pillow in /usr/local/lib/python3.7/dist-packages (from pycroscopy==0.61.0-alpha) (7.1.2)\n",
      "Requirement already satisfied: decorator in /usr/local/lib/python3.7/dist-packages (from ipython>=6.0->pycroscopy==0.61.0-alpha) (4.4.2)\n",
      "Requirement already satisfied: pexpect in /usr/local/lib/python3.7/dist-packages (from ipython>=6.0->pycroscopy==0.61.0-alpha) (4.8.0)\n",
      "Requirement already satisfied: traitlets>=4.2 in /usr/local/lib/python3.7/dist-packages (from ipython>=6.0->pycroscopy==0.61.0-alpha) (5.1.1)\n",
      "Requirement already satisfied: pygments in /usr/local/lib/python3.7/dist-packages (from ipython>=6.0->pycroscopy==0.61.0-alpha) (2.6.1)\n",
      "Requirement already satisfied: prompt-toolkit<2.1.0,>=2.0.0 in /usr/local/lib/python3.7/dist-packages (from ipython>=6.0->pycroscopy==0.61.0-alpha) (2.0.10)\n",
      "Requirement already satisfied: backcall in /usr/local/lib/python3.7/dist-packages (from ipython>=6.0->pycroscopy==0.61.0-alpha) (0.2.0)\n",
      "Requirement already satisfied: pickleshare in /usr/local/lib/python3.7/dist-packages (from ipython>=6.0->pycroscopy==0.61.0-alpha) (0.7.5)\n",
      "Requirement already satisfied: jedi>=0.10 in /usr/local/lib/python3.7/dist-packages (from ipython>=6.0->pycroscopy==0.61.0-alpha) (0.18.1)\n",
      "Requirement already satisfied: setuptools>=18.5 in /usr/local/lib/python3.7/dist-packages (from ipython>=6.0->pycroscopy==0.61.0-alpha) (57.4.0)\n",
      "Requirement already satisfied: jupyterlab-widgets>=1.0.0 in /usr/local/lib/python3.7/dist-packages (from ipywidgets>=5.2.2->pycroscopy==0.61.0-alpha) (3.0.3)\n",
      "Requirement already satisfied: ipython-genutils~=0.2.0 in /usr/local/lib/python3.7/dist-packages (from ipywidgets>=5.2.2->pycroscopy==0.61.0-alpha) (0.2.0)\n",
      "Requirement already satisfied: widgetsnbextension~=3.6.0 in /usr/local/lib/python3.7/dist-packages (from ipywidgets>=5.2.2->pycroscopy==0.61.0-alpha) (3.6.1)\n",
      "Requirement already satisfied: ipykernel>=4.5.1 in /usr/local/lib/python3.7/dist-packages (from ipywidgets>=5.2.2->pycroscopy==0.61.0-alpha) (5.3.4)\n",
      "Requirement already satisfied: tornado>=4.2 in /usr/local/lib/python3.7/dist-packages (from ipykernel>=4.5.1->ipywidgets>=5.2.2->pycroscopy==0.61.0-alpha) (5.1.1)\n",
      "Requirement already satisfied: jupyter-client in /usr/local/lib/python3.7/dist-packages (from ipykernel>=4.5.1->ipywidgets>=5.2.2->pycroscopy==0.61.0-alpha) (6.1.12)\n",
      "Requirement already satisfied: parso<0.9.0,>=0.8.0 in /usr/local/lib/python3.7/dist-packages (from jedi>=0.10->ipython>=6.0->pycroscopy==0.61.0-alpha) (0.8.3)\n",
      "Requirement already satisfied: pyparsing!=2.0.4,!=2.1.2,!=2.1.6,>=2.0.1 in /usr/local/lib/python3.7/dist-packages (from matplotlib>=2.0.0->pycroscopy==0.61.0-alpha) (3.0.9)\n",
      "Requirement already satisfied: kiwisolver>=1.0.1 in /usr/local/lib/python3.7/dist-packages (from matplotlib>=2.0.0->pycroscopy==0.61.0-alpha) (1.4.4)\n",
      "Requirement already satisfied: python-dateutil>=2.1 in /usr/local/lib/python3.7/dist-packages (from matplotlib>=2.0.0->pycroscopy==0.61.0-alpha) (2.8.2)\n",
      "Requirement already satisfied: cycler>=0.10 in /usr/local/lib/python3.7/dist-packages (from matplotlib>=2.0.0->pycroscopy==0.61.0-alpha) (0.11.0)\n",
      "Requirement already satisfied: typing-extensions in /usr/local/lib/python3.7/dist-packages (from kiwisolver>=1.0.1->matplotlib>=2.0.0->pycroscopy==0.61.0-alpha) (4.1.1)\n",
      "Requirement already satisfied: wcwidth in /usr/local/lib/python3.7/dist-packages (from prompt-toolkit<2.1.0,>=2.0.0->ipython>=6.0->pycroscopy==0.61.0-alpha) (0.2.5)\n",
      "Requirement already satisfied: h5py>=2.6.0 in /usr/local/lib/python3.7/dist-packages (from pyUSID>=0.0.8->pycroscopy==0.61.0-alpha) (3.1.0)\n",
      "Requirement already satisfied: toolz in /usr/local/lib/python3.7/dist-packages (from pyUSID>=0.0.8->pycroscopy==0.61.0-alpha) (0.12.0)\n",
      "Requirement already satisfied: cytoolz in /usr/local/lib/python3.7/dist-packages (from pyUSID>=0.0.8->pycroscopy==0.61.0-alpha) (0.12.0)\n",
      "Requirement already satisfied: dask>=0.10 in /usr/local/lib/python3.7/dist-packages (from pyUSID>=0.0.8->pycroscopy==0.61.0-alpha) (2022.2.0)\n",
      "Requirement already satisfied: fsspec>=0.6.0 in /usr/local/lib/python3.7/dist-packages (from dask>=0.10->pyUSID>=0.0.8->pycroscopy==0.61.0-alpha) (2022.8.2)\n",
      "Requirement already satisfied: cloudpickle>=1.1.1 in /usr/local/lib/python3.7/dist-packages (from dask>=0.10->pyUSID>=0.0.8->pycroscopy==0.61.0-alpha) (1.5.0)\n",
      "Requirement already satisfied: packaging>=20.0 in /usr/local/lib/python3.7/dist-packages (from dask>=0.10->pyUSID>=0.0.8->pycroscopy==0.61.0-alpha) (21.3)\n",
      "Requirement already satisfied: partd>=0.3.10 in /usr/local/lib/python3.7/dist-packages (from dask>=0.10->pyUSID>=0.0.8->pycroscopy==0.61.0-alpha) (1.3.0)\n",
      "Requirement already satisfied: pyyaml>=5.3.1 in /usr/local/lib/python3.7/dist-packages (from dask>=0.10->pyUSID>=0.0.8->pycroscopy==0.61.0-alpha) (6.0)\n",
      "Requirement already satisfied: cached-property in /usr/local/lib/python3.7/dist-packages (from h5py>=2.6.0->pyUSID>=0.0.8->pycroscopy==0.61.0-alpha) (1.5.2)\n",
      "Requirement already satisfied: locket in /usr/local/lib/python3.7/dist-packages (from partd>=0.3.10->dask>=0.10->pyUSID>=0.0.8->pycroscopy==0.61.0-alpha) (1.0.0)\n",
      "Requirement already satisfied: PyWavelets>=1.1.1 in /usr/local/lib/python3.7/dist-packages (from scikit-image>=0.12.3->pycroscopy==0.61.0-alpha) (1.3.0)\n",
      "Requirement already satisfied: networkx>=2.0 in /usr/local/lib/python3.7/dist-packages (from scikit-image>=0.12.3->pycroscopy==0.61.0-alpha) (2.6.3)\n",
      "Requirement already satisfied: imageio>=2.3.0 in /usr/local/lib/python3.7/dist-packages (from scikit-image>=0.12.3->pycroscopy==0.61.0-alpha) (2.9.0)\n",
      "Requirement already satisfied: tifffile>=2019.7.26 in /usr/local/lib/python3.7/dist-packages (from scikit-image>=0.12.3->pycroscopy==0.61.0-alpha) (2021.11.2)\n",
      "Requirement already satisfied: threadpoolctl>=2.0.0 in /usr/local/lib/python3.7/dist-packages (from scikit-learn>=0.17.1->pycroscopy==0.61.0-alpha) (3.1.0)\n",
      "Requirement already satisfied: ipyfilechooser>=0.0.6 in /usr/local/lib/python3.7/dist-packages (from sidpy>=0.0.1->pycroscopy==0.61.0-alpha) (0.6.0)\n",
      "Requirement already satisfied: distributed>=2.0.0psutil in /usr/local/lib/python3.7/dist-packages (from sidpy>=0.0.1->pycroscopy==0.61.0-alpha) (2022.2.0)\n",
      "Requirement already satisfied: sklearn in /usr/local/lib/python3.7/dist-packages (from sidpy>=0.0.1->pycroscopy==0.61.0-alpha) (0.0)\n",
      "Requirement already satisfied: zict>=0.1.3 in /usr/local/lib/python3.7/dist-packages (from distributed>=2.0.0psutil->sidpy>=0.0.1->pycroscopy==0.61.0-alpha) (2.2.0)\n",
      "Requirement already satisfied: jinja2 in /usr/local/lib/python3.7/dist-packages (from distributed>=2.0.0psutil->sidpy>=0.0.1->pycroscopy==0.61.0-alpha) (2.11.3)\n",
      "Requirement already satisfied: msgpack>=0.6.0 in /usr/local/lib/python3.7/dist-packages (from distributed>=2.0.0psutil->sidpy>=0.0.1->pycroscopy==0.61.0-alpha) (1.0.4)\n",
      "Requirement already satisfied: sortedcontainers!=2.0.0,!=2.0.1 in /usr/local/lib/python3.7/dist-packages (from distributed>=2.0.0psutil->sidpy>=0.0.1->pycroscopy==0.61.0-alpha) (2.4.0)\n",
      "Requirement already satisfied: click>=6.6 in /usr/local/lib/python3.7/dist-packages (from distributed>=2.0.0psutil->sidpy>=0.0.1->pycroscopy==0.61.0-alpha) (7.1.2)\n",
      "Requirement already satisfied: tblib>=1.6.0 in /usr/local/lib/python3.7/dist-packages (from distributed>=2.0.0psutil->sidpy>=0.0.1->pycroscopy==0.61.0-alpha) (1.7.0)\n",
      "Collecting nose\n",
      "  Downloading nose-1.3.7-py3-none-any.whl (154 kB)\n",
      "\u001b[K     |████████████████████████████████| 154 kB 64.8 MB/s \n",
      "\u001b[?25hRequirement already satisfied: notebook>=4.4.1 in /usr/local/lib/python3.7/dist-packages (from widgetsnbextension~=3.6.0->ipywidgets>=5.2.2->pycroscopy==0.61.0-alpha) (5.5.0)\n",
      "Requirement already satisfied: terminado>=0.8.1 in /usr/local/lib/python3.7/dist-packages (from notebook>=4.4.1->widgetsnbextension~=3.6.0->ipywidgets>=5.2.2->pycroscopy==0.61.0-alpha) (0.13.3)\n",
      "Requirement already satisfied: Send2Trash in /usr/local/lib/python3.7/dist-packages (from notebook>=4.4.1->widgetsnbextension~=3.6.0->ipywidgets>=5.2.2->pycroscopy==0.61.0-alpha) (1.8.0)\n",
      "Requirement already satisfied: nbconvert in /usr/local/lib/python3.7/dist-packages (from notebook>=4.4.1->widgetsnbextension~=3.6.0->ipywidgets>=5.2.2->pycroscopy==0.61.0-alpha) (5.6.1)\n",
      "Requirement already satisfied: pyzmq>=17 in /usr/local/lib/python3.7/dist-packages (from notebook>=4.4.1->widgetsnbextension~=3.6.0->ipywidgets>=5.2.2->pycroscopy==0.61.0-alpha) (23.2.1)\n",
      "Requirement already satisfied: nbformat in /usr/local/lib/python3.7/dist-packages (from notebook>=4.4.1->widgetsnbextension~=3.6.0->ipywidgets>=5.2.2->pycroscopy==0.61.0-alpha) (5.7.0)\n",
      "Requirement already satisfied: jupyter-core>=4.4.0 in /usr/local/lib/python3.7/dist-packages (from notebook>=4.4.1->widgetsnbextension~=3.6.0->ipywidgets>=5.2.2->pycroscopy==0.61.0-alpha) (4.11.1)\n",
      "Requirement already satisfied: ptyprocess in /usr/local/lib/python3.7/dist-packages (from terminado>=0.8.1->notebook>=4.4.1->widgetsnbextension~=3.6.0->ipywidgets>=5.2.2->pycroscopy==0.61.0-alpha) (0.7.0)\n",
      "Requirement already satisfied: heapdict in /usr/local/lib/python3.7/dist-packages (from zict>=0.1.3->distributed>=2.0.0psutil->sidpy>=0.0.1->pycroscopy==0.61.0-alpha) (1.0.1)\n",
      "Requirement already satisfied: MarkupSafe>=0.23 in /usr/local/lib/python3.7/dist-packages (from jinja2->distributed>=2.0.0psutil->sidpy>=0.0.1->pycroscopy==0.61.0-alpha) (2.0.1)\n",
      "Requirement already satisfied: bleach in /usr/local/lib/python3.7/dist-packages (from nbconvert->notebook>=4.4.1->widgetsnbextension~=3.6.0->ipywidgets>=5.2.2->pycroscopy==0.61.0-alpha) (5.0.1)\n",
      "Requirement already satisfied: testpath in /usr/local/lib/python3.7/dist-packages (from nbconvert->notebook>=4.4.1->widgetsnbextension~=3.6.0->ipywidgets>=5.2.2->pycroscopy==0.61.0-alpha) (0.6.0)\n",
      "Requirement already satisfied: pandocfilters>=1.4.1 in /usr/local/lib/python3.7/dist-packages (from nbconvert->notebook>=4.4.1->widgetsnbextension~=3.6.0->ipywidgets>=5.2.2->pycroscopy==0.61.0-alpha) (1.5.0)\n",
      "Requirement already satisfied: defusedxml in /usr/local/lib/python3.7/dist-packages (from nbconvert->notebook>=4.4.1->widgetsnbextension~=3.6.0->ipywidgets>=5.2.2->pycroscopy==0.61.0-alpha) (0.7.1)\n",
      "Requirement already satisfied: entrypoints>=0.2.2 in /usr/local/lib/python3.7/dist-packages (from nbconvert->notebook>=4.4.1->widgetsnbextension~=3.6.0->ipywidgets>=5.2.2->pycroscopy==0.61.0-alpha) (0.4)\n",
      "Requirement already satisfied: mistune<2,>=0.8.1 in /usr/local/lib/python3.7/dist-packages (from nbconvert->notebook>=4.4.1->widgetsnbextension~=3.6.0->ipywidgets>=5.2.2->pycroscopy==0.61.0-alpha) (0.8.4)\n",
      "Requirement already satisfied: fastjsonschema in /usr/local/lib/python3.7/dist-packages (from nbformat->notebook>=4.4.1->widgetsnbextension~=3.6.0->ipywidgets>=5.2.2->pycroscopy==0.61.0-alpha) (2.16.2)\n",
      "Requirement already satisfied: importlib-metadata>=3.6 in /usr/local/lib/python3.7/dist-packages (from nbformat->notebook>=4.4.1->widgetsnbextension~=3.6.0->ipywidgets>=5.2.2->pycroscopy==0.61.0-alpha) (5.0.0)\n",
      "Requirement already satisfied: jsonschema>=2.6 in /usr/local/lib/python3.7/dist-packages (from nbformat->notebook>=4.4.1->widgetsnbextension~=3.6.0->ipywidgets>=5.2.2->pycroscopy==0.61.0-alpha) (4.3.3)\n",
      "Requirement already satisfied: zipp>=0.5 in /usr/local/lib/python3.7/dist-packages (from importlib-metadata>=3.6->nbformat->notebook>=4.4.1->widgetsnbextension~=3.6.0->ipywidgets>=5.2.2->pycroscopy==0.61.0-alpha) (3.9.0)\n",
      "Requirement already satisfied: importlib-resources>=1.4.0 in /usr/local/lib/python3.7/dist-packages (from jsonschema>=2.6->nbformat->notebook>=4.4.1->widgetsnbextension~=3.6.0->ipywidgets>=5.2.2->pycroscopy==0.61.0-alpha) (5.10.0)\n",
      "Requirement already satisfied: attrs>=17.4.0 in /usr/local/lib/python3.7/dist-packages (from jsonschema>=2.6->nbformat->notebook>=4.4.1->widgetsnbextension~=3.6.0->ipywidgets>=5.2.2->pycroscopy==0.61.0-alpha) (22.1.0)\n",
      "Requirement already satisfied: pyrsistent!=0.17.0,!=0.17.1,!=0.17.2,>=0.14.0 in /usr/local/lib/python3.7/dist-packages (from jsonschema>=2.6->nbformat->notebook>=4.4.1->widgetsnbextension~=3.6.0->ipywidgets>=5.2.2->pycroscopy==0.61.0-alpha) (0.18.1)\n",
      "Requirement already satisfied: webencodings in /usr/local/lib/python3.7/dist-packages (from bleach->nbconvert->notebook>=4.4.1->widgetsnbextension~=3.6.0->ipywidgets>=5.2.2->pycroscopy==0.61.0-alpha) (0.5.1)\n",
      "Installing collected packages: nose, tensorly, pycroscopy\n",
      "Successfully installed nose-1.3.7 pycroscopy-0.61.0a0 tensorly-0.7.0\n"
     ]
    }
   ],
   "source": [
    "#MAKE SURE TO RESTART RUNTIME AFTER RUNNING THIS CELL!\n",
    "!pip install pycroscopy=='0.61.0-alpha';"
   ]
  },
  {
   "cell_type": "code",
   "execution_count": 5,
   "metadata": {
    "colab": {
     "base_uri": "https://localhost:8080/"
    },
    "executionInfo": {
     "elapsed": 6092,
     "status": "ok",
     "timestamp": 1665613389045,
     "user": {
      "displayName": "M3 Learning",
      "userId": "18025570991736547060"
     },
     "user_tz": 240
    },
    "id": "xfQnymFin0RY",
    "outputId": "2028644f-16df-4b2e-d46f-198d31a118b8"
   },
   "outputs": [
    {
     "name": "stdout",
     "output_type": "stream",
     "text": [
      "Looking in indexes: https://pypi.org/simple, https://us-python.pkg.dev/colab-wheels/public/simple/\n",
      "Collecting wget\n",
      "  Downloading wget-3.2.zip (10 kB)\n",
      "Building wheels for collected packages: wget\n",
      "  Building wheel for wget (setup.py) ... \u001b[?25l\u001b[?25hdone\n",
      "  Created wheel for wget: filename=wget-3.2-py3-none-any.whl size=9675 sha256=7422d2b48a7e16d5360aeb75f95d000a8729c7ab2ca73d2e8f30225d7dfdfd52\n",
      "  Stored in directory: /root/.cache/pip/wheels/a1/b6/7c/0e63e34eb06634181c63adacca38b79ff8f35c37e3c13e3c02\n",
      "Successfully built wget\n",
      "Installing collected packages: wget\n",
      "Successfully installed wget-3.2\n"
     ]
    }
   ],
   "source": [
    "!pip install wget"
   ]
  },
  {
   "cell_type": "code",
   "execution_count": 6,
   "metadata": {
    "colab": {
     "base_uri": "https://localhost:8080/"
    },
    "executionInfo": {
     "elapsed": 5377,
     "status": "ok",
     "timestamp": 1665613769128,
     "user": {
      "displayName": "M3 Learning",
      "userId": "18025570991736547060"
     },
     "user_tz": 240
    },
    "id": "dRh0jKpsTcpx",
    "outputId": "1db37f58-0919-4018-d4bb-9c1139cd25cc"
   },
   "outputs": [
    {
     "name": "stdout",
     "output_type": "stream",
     "text": [
      "Looking in indexes: https://pypi.org/simple, https://us-python.pkg.dev/colab-wheels/public/simple/\n",
      "Collecting imageio-ffmpeg\n",
      "  Downloading imageio_ffmpeg-0.4.7-py3-none-manylinux2010_x86_64.whl (26.9 MB)\n",
      "\u001b[K     |████████████████████████████████| 26.9 MB 1.5 MB/s \n",
      "\u001b[?25hInstalling collected packages: imageio-ffmpeg\n",
      "Successfully installed imageio-ffmpeg-0.4.7\n"
     ]
    }
   ],
   "source": [
    "!pip install imageio-ffmpeg"
   ]
  },
  {
   "cell_type": "markdown",
   "metadata": {
    "id": "5VrpMcRuyfNZ"
   },
   "source": [
    "## Import"
   ]
  },
  {
   "cell_type": "code",
   "execution_count": 1,
   "metadata": {
    "colab": {
     "base_uri": "https://localhost:8080/"
    },
    "executionInfo": {
     "elapsed": 822,
     "status": "ok",
     "timestamp": 1665613580116,
     "user": {
      "displayName": "M3 Learning",
      "userId": "18025570991736547060"
     },
     "user_tz": 240
    },
    "id": "FbJl0j2bwqIm",
    "outputId": "4350efbd-77e5-4c27-d7a3-5a08727b87e6"
   },
   "outputs": [
    {
     "name": "stdout",
     "output_type": "stream",
     "text": [
      "Drive already mounted at /content/drive/; to attempt to forcibly remount, call drive.mount(\"/content/drive/\", force_remount=True).\n"
     ]
    }
   ],
   "source": [
    "# If you are using Colab, mount to drive and move to current colder\n",
    "from google.colab import drive\n",
    "drive.mount('/content/drive/')"
   ]
  },
  {
   "cell_type": "markdown",
   "metadata": {
    "id": "zbSaUYBWqjSm"
   },
   "source": [
    "* Open the [shared BF folder](https://drive.google.com/drive/folders/1LVp9nNW5PbOBQNdcd-Ypp47CXFZ2NYs9?usp=sharing)\n",
    "* create a shortcut to your perosnal drive. Look in the left sidebar, click the dots next to the BF folder, and copy the path and change into this directory"
   ]
  },
  {
   "cell_type": "code",
   "execution_count": 11,
   "metadata": {
    "colab": {
     "base_uri": "https://localhost:8080/"
    },
    "executionInfo": {
     "elapsed": 160,
     "status": "ok",
     "timestamp": 1665613797368,
     "user": {
      "displayName": "M3 Learning",
      "userId": "18025570991736547060"
     },
     "user_tz": 240
    },
    "id": "2knFxfbuSGVo",
    "outputId": "5b17fb82-d499-45a8-fa33-68db4f98c7a5"
   },
   "outputs": [
    {
     "name": "stdout",
     "output_type": "stream",
     "text": [
      "/content/drive/MyDrive/BTO_4DSTEM/BF\n"
     ]
    }
   ],
   "source": [
    "cd /content/drive/MyDrive/BTO_4DSTEM/BF"
   ]
  },
  {
   "cell_type": "code",
   "execution_count": 1,
   "metadata": {
    "colab": {
     "base_uri": "https://localhost:8080/"
    },
    "executionInfo": {
     "elapsed": 4,
     "status": "ok",
     "timestamp": 1665613580269,
     "user": {
      "displayName": "M3 Learning",
      "userId": "18025570991736547060"
     },
     "user_tz": 240
    },
    "id": "FysBCqDIS4fN",
    "outputId": "4fc0f7ff-7465-4bec-8bc6-a78968755227"
   },
   "outputs": [
    {
     "name": "stdout",
     "output_type": "stream",
     "text": [
      "['/home/xinqiao/new_mount/BF', '/home/xinqiao/anaconda3/lib/python39.zip', '/home/xinqiao/anaconda3/lib/python3.9', '/home/xinqiao/anaconda3/lib/python3.9/lib-dynload', '', '/home/xinqiao/.local/lib/python3.9/site-packages', '/home/xinqiao/anaconda3/lib/python3.9/site-packages', '/home/xinqiao/anaconda3/pkgs', '/home/xinqiao/new_mount/BF']\n"
     ]
    }
   ],
   "source": [
    "import sys\n",
    "import os\n",
    "\n",
    "# Append current folder path to system paths to be able to import utilities \n",
    "sys.path.append(os.getcwd())\n",
    "print(sys.path) "
   ]
  },
  {
   "cell_type": "code",
   "execution_count": 1,
   "metadata": {
    "colab": {
     "base_uri": "https://localhost:8080/",
     "height": 53
    },
    "executionInfo": {
     "elapsed": 6761,
     "status": "ok",
     "timestamp": 1665613780049,
     "user": {
      "displayName": "M3 Learning",
      "userId": "18025570991736547060"
     },
     "user_tz": 240
    },
    "hidden": true,
    "id": "ce544da3",
    "outputId": "fbb1c333-f67d-4980-afe1-451eef89fcc0",
    "scrolled": true
   },
   "outputs": [
    {
     "name": "stdout",
     "output_type": "stream",
     "text": [
      "sidpy version:  0.0.7\n",
      "sidpy version:  0.0.7\n"
     ]
    }
   ],
   "source": [
    "# General utilities:\n",
    "import requests\n",
    "import wget\n",
    "import sys\n",
    "import os\n",
    "import urllib\n",
    "from os.path import join as pjoin\n",
    "import datetime\n",
    "import glob as glob\n",
    "from time import time\n",
    "from pdb import set_trace as bp\n",
    "import re\n",
    "import warnings\n",
    "warnings.filterwarnings(\"ignore\")\n",
    "\n",
    "import numpy as np\n",
    "import h5py\n",
    "import math\n",
    "import pickle\n",
    "from collections import OrderedDict\n",
    "from tqdm import tqdm\n",
    "from pprint import pprint\n",
    "\n",
    "#Vis\n",
    "import imageio\n",
    "from sklearn.preprocessing import StandardScaler\n",
    "from skimage.color import rgb2gray\n",
    "from skimage.filters import difference_of_gaussians, window\n",
    "from skimage import morphology\n",
    "from skimage.filters import *\n",
    "from skimage.transform import rescale\n",
    "from skimage.feature import peak_local_max\n",
    "from skimage import data, img_as_float\n",
    "from scipy import ndimage\n",
    "from scipy.fft import fftn, fftshift\n",
    "import cv2\n",
    "from moviepy.video.io.ImageSequenceClip import ImageSequenceClip\n",
    "\n",
    "import matplotlib.pyplot as plt\n",
    "import matplotlib.patches as patches\n",
    "import matplotlib.gridspec as gridspec\n",
    "from mpl_toolkits.axes_grid1 import make_axes_locatable\n",
    "\n",
    "# Pycroscopy\n",
    "import sidpy\n",
    "import pyNSID\n",
    "print('sidpy version: ', sidpy.__version__)\n",
    "import pycroscopy as px\n",
    "from pycroscopy.image import ImageWindowing\n",
    "import dask.array as da\n",
    "\n",
    "# NN\n",
    "import torch\n",
    "import torch.autograd as autograd\n",
    "from torch.autograd import Variable\n",
    "from torch.autograd import Function\n",
    "import torchvision\n",
    "from torchvision import datasets, models\n",
    "import torchvision.models as models\n",
    "import torchvision.transforms as transforms\n",
    "import torchvision.transforms as T\n",
    "import torch.nn as nn\n",
    "import torch.nn.functional as F\n",
    "import torch.optim as optim\n",
    "from torch.optim import lr_scheduler\n",
    "from torch.utils.data import Dataset, DataLoader\n",
    "\n",
    "# My Utilities\n",
    "import utils\n",
    "import io_utils"
   ]
  },
  {
   "cell_type": "code",
   "execution_count": 3,
   "metadata": {
    "colab": {
     "base_uri": "https://localhost:8080/"
    },
    "executionInfo": {
     "elapsed": 186,
     "status": "ok",
     "timestamp": 1665613784982,
     "user": {
      "displayName": "M3 Learning",
      "userId": "18025570991736547060"
     },
     "user_tz": 240
    },
    "id": "vVTgBkh9N4EE",
    "outputId": "9f814aaf-fe30-4a1f-e6fc-7ac4a1a08444"
   },
   "outputs": [
    {
     "name": "stdout",
     "output_type": "stream",
     "text": [
      "GPU 0: NVIDIA TITAN RTX (UUID: GPU-4ac1e14b-3b2c-eb47-df82-17dec2923617)\n",
      "GPU 1: NVIDIA TITAN RTX (UUID: GPU-bf1b2c38-3c62-e46b-76c2-c6c20a94b11c)\n"
     ]
    }
   ],
   "source": [
    "# Take the name to set device\n",
    "!nvidia-smi -L"
   ]
  },
  {
   "cell_type": "code",
   "execution_count": 4,
   "metadata": {
    "executionInfo": {
     "elapsed": 2,
     "status": "ok",
     "timestamp": 1665613784982,
     "user": {
      "displayName": "M3 Learning",
      "userId": "18025570991736547060"
     },
     "user_tz": 240
    },
    "id": "Mlq1hU_1po9q"
   },
   "outputs": [],
   "source": [
    "device = torch.device('cuda:0')"
   ]
  },
  {
   "cell_type": "code",
   "execution_count": 2,
   "metadata": {
    "id": "eEM0eag4Qv9r"
   },
   "outputs": [],
   "source": [
    "env = 'Annealed' # name of folder with the original bright field images\n",
    "combined = f'Combined_BF_{env}_cropped.h5' # name of h5 file with cropped/filtered data, and fft images\n",
    "emb = f'Embeddings_{env}.h5' # name of h5 file with embeddings\n",
    "f = f'BF_jVAE_{env}' # folder with saved checkpoints on embedding movies"
   ]
  },
  {
   "cell_type": "markdown",
   "metadata": {
    "id": "YV67p7Awl-wr",
    "tags": []
   },
   "source": [
    "# Download combined dataset from Zenodo\n",
    "* Download from Zenodo onto the shared google folder. This may take a very long time but you only need to do it once\n",
    "* example download link: https://zenodo.org/record/6604586/files/Combined_BF_Annealed_cropped.h5?download=1\n"
   ]
  },
  {
   "cell_type": "code",
   "execution_count": null,
   "metadata": {
    "id": "ftklLGsejHKq"
   },
   "outputs": [],
   "source": [
    "out = os.getcwd()+'/'+combined # This automatically formats to the same directory as your notebook\n",
    "url = 'https://zenodo.org/record/6604586/files/Combined_BF_Annealed_cropped.h5?download=1' ## get the download file from zenodo website"
   ]
  },
  {
   "cell_type": "code",
   "execution_count": null,
   "metadata": {
    "colab": {
     "base_uri": "https://localhost:8080/",
     "height": 338
    },
    "executionInfo": {
     "elapsed": 3338,
     "status": "error",
     "timestamp": 1654797319499,
     "user": {
      "displayName": "Xinqiao Zhang",
      "userId": "04669680354550667212"
     },
     "user_tz": 240
    },
    "id": "RWsxf-drkqCk",
    "outputId": "55a65ccc-43b8-41c8-c2a8-a5ecf98a3436"
   },
   "outputs": [
    {
     "name": "stderr",
     "output_type": "stream",
     "text": [
      "  0%|          | 31.1M/25.3G [00:03<41:00, 10.3MB/s]\n"
     ]
    },
    {
     "ename": "KeyboardInterrupt",
     "evalue": "ignored",
     "output_type": "error",
     "traceback": [
      "\u001b[0;31m---------------------------------------------------------------------------\u001b[0m",
      "\u001b[0;31mKeyboardInterrupt\u001b[0m                         Traceback (most recent call last)",
      "\u001b[0;32m<ipython-input-8-158a4a3876d3>\u001b[0m in \u001b[0;36m<module>\u001b[0;34m\u001b[0m\n\u001b[0;32m----> 1\u001b[0;31m \u001b[0mio_utils\u001b[0m\u001b[0;34m.\u001b[0m\u001b[0mdownload_url\u001b[0m\u001b[0;34m(\u001b[0m\u001b[0murl\u001b[0m\u001b[0;34m,\u001b[0m\u001b[0mout\u001b[0m\u001b[0;34m)\u001b[0m\u001b[0;34m\u001b[0m\u001b[0;34m\u001b[0m\u001b[0m\n\u001b[0m",
      "\u001b[0;32m/content/drive/.shortcut-targets-by-id/1LVp9nNW5PbOBQNdcd-Ypp47CXFZ2NYs9/BF/io_utils.py\u001b[0m in \u001b[0;36mdownload_url\u001b[0;34m(url, out)\u001b[0m\n\u001b[1;32m     23\u001b[0m     with DownloadProgressBar(unit='B', unit_scale=True,\n\u001b[1;32m     24\u001b[0m                              miniters=1) as t:\n\u001b[0;32m---> 25\u001b[0;31m         \u001b[0murllib\u001b[0m\u001b[0;34m.\u001b[0m\u001b[0mrequest\u001b[0m\u001b[0;34m.\u001b[0m\u001b[0murlretrieve\u001b[0m\u001b[0;34m(\u001b[0m\u001b[0murl\u001b[0m\u001b[0;34m,\u001b[0m \u001b[0mfilename\u001b[0m\u001b[0;34m=\u001b[0m\u001b[0mout\u001b[0m\u001b[0;34m,\u001b[0m \u001b[0mreporthook\u001b[0m\u001b[0;34m=\u001b[0m\u001b[0mt\u001b[0m\u001b[0;34m.\u001b[0m\u001b[0mupdate_to\u001b[0m\u001b[0;34m)\u001b[0m\u001b[0;34m\u001b[0m\u001b[0;34m\u001b[0m\u001b[0m\n\u001b[0m\u001b[1;32m     26\u001b[0m \u001b[0;34m\u001b[0m\u001b[0m\n\u001b[1;32m     27\u001b[0m \u001b[0;31m###########################################################################################\u001b[0m\u001b[0;34m\u001b[0m\u001b[0;34m\u001b[0m\u001b[0;34m\u001b[0m\u001b[0m\n",
      "\u001b[0;32m/usr/lib/python3.7/urllib/request.py\u001b[0m in \u001b[0;36murlretrieve\u001b[0;34m(url, filename, reporthook, data)\u001b[0m\n\u001b[1;32m    274\u001b[0m \u001b[0;34m\u001b[0m\u001b[0m\n\u001b[1;32m    275\u001b[0m             \u001b[0;32mwhile\u001b[0m \u001b[0;32mTrue\u001b[0m\u001b[0;34m:\u001b[0m\u001b[0;34m\u001b[0m\u001b[0;34m\u001b[0m\u001b[0m\n\u001b[0;32m--> 276\u001b[0;31m                 \u001b[0mblock\u001b[0m \u001b[0;34m=\u001b[0m \u001b[0mfp\u001b[0m\u001b[0;34m.\u001b[0m\u001b[0mread\u001b[0m\u001b[0;34m(\u001b[0m\u001b[0mbs\u001b[0m\u001b[0;34m)\u001b[0m\u001b[0;34m\u001b[0m\u001b[0;34m\u001b[0m\u001b[0m\n\u001b[0m\u001b[1;32m    277\u001b[0m                 \u001b[0;32mif\u001b[0m \u001b[0;32mnot\u001b[0m \u001b[0mblock\u001b[0m\u001b[0;34m:\u001b[0m\u001b[0;34m\u001b[0m\u001b[0;34m\u001b[0m\u001b[0m\n\u001b[1;32m    278\u001b[0m                     \u001b[0;32mbreak\u001b[0m\u001b[0;34m\u001b[0m\u001b[0;34m\u001b[0m\u001b[0m\n",
      "\u001b[0;32m/usr/lib/python3.7/http/client.py\u001b[0m in \u001b[0;36mread\u001b[0;34m(self, amt)\u001b[0m\n\u001b[1;32m    464\u001b[0m             \u001b[0mb\u001b[0m \u001b[0;34m=\u001b[0m \u001b[0mbytearray\u001b[0m\u001b[0;34m(\u001b[0m\u001b[0mamt\u001b[0m\u001b[0;34m)\u001b[0m\u001b[0;34m\u001b[0m\u001b[0;34m\u001b[0m\u001b[0m\n\u001b[1;32m    465\u001b[0m             \u001b[0mn\u001b[0m \u001b[0;34m=\u001b[0m \u001b[0mself\u001b[0m\u001b[0;34m.\u001b[0m\u001b[0mreadinto\u001b[0m\u001b[0;34m(\u001b[0m\u001b[0mb\u001b[0m\u001b[0;34m)\u001b[0m\u001b[0;34m\u001b[0m\u001b[0;34m\u001b[0m\u001b[0m\n\u001b[0;32m--> 466\u001b[0;31m             \u001b[0;32mreturn\u001b[0m \u001b[0mmemoryview\u001b[0m\u001b[0;34m(\u001b[0m\u001b[0mb\u001b[0m\u001b[0;34m)\u001b[0m\u001b[0;34m[\u001b[0m\u001b[0;34m:\u001b[0m\u001b[0mn\u001b[0m\u001b[0;34m]\u001b[0m\u001b[0;34m.\u001b[0m\u001b[0mtobytes\u001b[0m\u001b[0;34m(\u001b[0m\u001b[0;34m)\u001b[0m\u001b[0;34m\u001b[0m\u001b[0;34m\u001b[0m\u001b[0m\n\u001b[0m\u001b[1;32m    467\u001b[0m         \u001b[0;32melse\u001b[0m\u001b[0;34m:\u001b[0m\u001b[0;34m\u001b[0m\u001b[0;34m\u001b[0m\u001b[0m\n\u001b[1;32m    468\u001b[0m             \u001b[0;31m# Amount is not given (unbounded read) so we must check self.length\u001b[0m\u001b[0;34m\u001b[0m\u001b[0;34m\u001b[0m\u001b[0;34m\u001b[0m\u001b[0m\n",
      "\u001b[0;31mKeyboardInterrupt\u001b[0m: "
     ]
    }
   ],
   "source": [
    "io_utils.download_url(url,out)"
   ]
  },
  {
   "cell_type": "markdown",
   "metadata": {
    "id": "1R6ZEOtipo9p",
    "jp-MarkdownHeadingCollapsed": true,
    "tags": []
   },
   "source": [
    "# 2. jVae"
   ]
  },
  {
   "cell_type": "markdown",
   "metadata": {
    "id": "Gx2Qj8iDpo9v",
    "tags": []
   },
   "source": [
    "## Autoencoder model"
   ]
  },
  {
   "cell_type": "code",
   "execution_count": 5,
   "metadata": {
    "executionInfo": {
     "elapsed": 165,
     "status": "ok",
     "timestamp": 1665613808084,
     "user": {
      "displayName": "M3 Learning",
      "userId": "18025570991736547060"
     },
     "user_tz": 240
    },
    "id": "D175nJHDpo9v"
   },
   "outputs": [],
   "source": [
    "class conv_block(nn.Module):\n",
    "    def __init__(self,t_size,n_step):\n",
    "        super(conv_block,self).__init__()\n",
    "        self.cov1d_1 = nn.Conv2d(t_size,t_size,3,stride=1,padding=1,padding_mode = 'zeros')\n",
    "        self.cov1d_2 = nn.Conv2d(t_size,t_size,3,stride=1,padding=1,padding_mode = 'zeros')\n",
    "        self.cov1d_3 = nn.Conv2d(t_size,t_size,3,stride=1,padding=1,padding_mode = 'zeros')\n",
    "#         self.attention_1 = nn.MultiheadAttention(n_step, 1)\n",
    "#         self.attention_2 = nn.MultiheadAttention(n_step, 1)\n",
    "#         self.attention_3 = nn.MultiheadAttention(n_step, 1)\n",
    "#         self.norm_1 = nn.LayerNorm([n_step])\n",
    "#         self.norm_2 = nn.LayerNorm([n_step])\n",
    "        self.norm_3 = nn.LayerNorm(n_step)\n",
    "#        self.drop = nn.Dropout(p=0.2)\n",
    "#         self.relu_1 = nn.ReLU()\n",
    "#         self.relu_2 = nn.ReLU()\n",
    "#         self.relu_3 = nn.ReLU()\n",
    "        self.relu_4 = nn.ReLU()\n",
    "        \n",
    "    def forward(self,x):\n",
    "        x_input = x\n",
    "        out = self.cov1d_1(x)        \n",
    "        out = self.cov1d_2(out)\n",
    "        out = self.cov1d_3(out)\n",
    "        out = self.norm_3(out)        \n",
    "        out = self.relu_4(out)\n",
    "        out = out.add(x_input)\n",
    "#        output = self.drop(x)\n",
    "        \n",
    "        return out"
   ]
  },
  {
   "cell_type": "code",
   "execution_count": 6,
   "metadata": {
    "executionInfo": {
     "elapsed": 2,
     "status": "ok",
     "timestamp": 1665613808242,
     "user": {
      "displayName": "M3 Learning",
      "userId": "18025570991736547060"
     },
     "user_tz": 240
    },
    "id": "evyZquRapo9v"
   },
   "outputs": [],
   "source": [
    "class identity_block(nn.Module):\n",
    "    def __init__(self,t_size,n_step):\n",
    "        super(identity_block,self).__init__()\n",
    "        self.cov1d_1 = nn.Conv2d(t_size,t_size,3,stride=1,padding=1,padding_mode = 'zeros')\n",
    "#         self.attention_1 = nn.MultiheadAttention(n_step, 1)\n",
    "        self.norm_1 = nn.LayerNorm(n_step)\n",
    "#        self.drop = nn.Dropout(p=0.2)\n",
    "        self.relu = nn.ReLU()\n",
    "        \n",
    "        \n",
    "    def forward(self,x):\n",
    "        x_input = x\n",
    "        out = self.cov1d_1(x)\n",
    "        out = self.norm_1(out)\n",
    "        out = self.relu(out)\n",
    "        return out"
   ]
  },
  {
   "cell_type": "code",
   "execution_count": 7,
   "metadata": {
    "executionInfo": {
     "elapsed": 180,
     "status": "ok",
     "timestamp": 1665613808583,
     "user": {
      "displayName": "M3 Learning",
      "userId": "18025570991736547060"
     },
     "user_tz": 240
    },
    "id": "7hpgBoH6po9w"
   },
   "outputs": [],
   "source": [
    "class Encoder(nn.Module):\n",
    "    def __init__(self,original_step_size,pool_list,embedding_size,conv_size):\n",
    "        super(Encoder,self).__init__()\n",
    "        \n",
    "        blocks = []\n",
    "        self.input_size_0 = original_step_size[0]\n",
    "        self.input_size_1 = original_step_size[1]\n",
    "        number_of_blocks = len(pool_list)\n",
    "        blocks.append(conv_block(t_size=conv_size, n_step=original_step_size))\n",
    "        blocks.append(identity_block(t_size=conv_size, n_step=original_step_size))\n",
    "        blocks.append(nn.MaxPool2d(pool_list[0], stride=pool_list[0]))\n",
    "        \n",
    "        for i in range(1,number_of_blocks):\n",
    "            original_step_size = [original_step_size[0]//pool_list[i-1],original_step_size[1]//pool_list[i-1]]\n",
    "            blocks.append(conv_block(t_size=conv_size, n_step=original_step_size))\n",
    "            blocks.append(identity_block(t_size=conv_size, n_step=original_step_size))\n",
    "            blocks.append(nn.MaxPool2d(pool_list[i], stride=pool_list[i])) \n",
    "            \n",
    "        self.block_layer = nn.ModuleList(blocks)\n",
    "        self.layers=len(blocks)\n",
    "        original_step_size = [original_step_size[0]//pool_list[-1],original_step_size[1]//pool_list[-1]]\n",
    "        \n",
    "        input_size = original_step_size[0]*original_step_size[1]\n",
    "        self.cov2d = nn.Conv2d(1,conv_size,3,stride=1,padding=1,padding_mode = 'zeros')\n",
    "        self.cov2d_1 = nn.Conv2d(conv_size,1,3,stride=1,padding=1,padding_mode = 'zeros')\n",
    "\n",
    "        self.relu_1 = nn.ReLU()\n",
    "\n",
    "        self.dense1 = nn.Linear(input_size,embedding_size)\n",
    "#         self.dense2 = nn.Linear(input_size,embedding_size)\n",
    "\n",
    "        \n",
    "    def forward(self,x):\n",
    "#        x = x.transpose(1,2)\n",
    "        out = x.view(-1,1,self.input_size_0,self.input_size_1)\n",
    "#        x = self.average(x)\n",
    "        out = self.cov2d(out)\n",
    "        for i in range(self.layers):\n",
    "            out = self.block_layer[i](out)\n",
    "        out = self.cov2d_1(out)\n",
    "#         print(out.shape)\n",
    "        out = torch.flatten(out,start_dim=1)\n",
    "#         print(out.shape)\n",
    "#        print(x.shape)\n",
    "#         x = x.transpose(1,2)\n",
    "#        encode,(_,__) = self.lstm(x)\n",
    "#        encode = encode[:,-1,:]\n",
    "        out = self.dense1(out)   \n",
    "        selection = self.relu_1(out)\n",
    "#         out_std = self.dense2(out)\n",
    "        \n",
    "        \n",
    "        scale_1 = nn.Tanh()(out[:,0])*0.1+1\n",
    "        scale_2 = nn.Tanh()(out[:,1])*0.1+1\n",
    "        \n",
    "        trans_1 = out[:,3]\n",
    "        trans_2 = out[:,4]\n",
    "        \n",
    "        rotate = out[:,2]\n",
    "        \n",
    "        a_1 = torch.cos(rotate)\n",
    "#       a_2 = -torch.sin(selection)\n",
    "        a_2 = torch.sin(rotate)\n",
    "        a_4 = torch.ones(rotate.shape).to(device)\n",
    "        a_5 = rotate*0\n",
    "        \n",
    "        b1 = torch.stack((a_1,a_2), dim=1).squeeze()\n",
    "        b2 = torch.stack((-a_2,a_1), dim=1).squeeze()\n",
    "        b3 = torch.stack((a_5,a_5), dim=1).squeeze()\n",
    "        rotation = torch.stack((b1, b2, b3),dim=2)\n",
    "        \n",
    "        c1 = torch.stack((scale_1,a_5), dim=1).squeeze()\n",
    "        c2 = torch.stack((a_5,scale_2), dim=1).squeeze()\n",
    "        c3 = torch.stack((a_5,a_5), dim=1).squeeze()\n",
    "        scaler = torch.stack((c1, c2, c3),dim=2)\n",
    "\n",
    "        d1 = torch.stack((a_4,a_5), dim=1).squeeze()\n",
    "        d2 = torch.stack((a_5,a_4), dim=1).squeeze()\n",
    "        d3 = torch.stack((trans_1,trans_2), dim=1).squeeze()\n",
    "        translation = torch.stack((d1, d2, d3),dim=2)\n",
    "        \n",
    "        size_grid = torch.ones([x.shape[0],1,2,2]) # makes 4 px r, 4px theta?\n",
    "        grid_1 = F.affine_grid(rotation.to(device), size_grid.size()).to(device)\n",
    "        grid_2 = F.affine_grid(scaler.to(device), size_grid.size()).to(device)\n",
    "        grid_3 = F.affine_grid(translation.to(device), size_grid.size()).to(device)\n",
    "\n",
    "        final_out = torch.stack((selection, grid_1.reshape(x.shape[0],-1), grid_2.reshape(x.shape[0],-1), grid_3.reshape(x.shape[0],-1)), dim=1).squeeze()\n",
    "        \n",
    "        return final_out, rotation, scaler, translation"
   ]
  },
  {
   "cell_type": "code",
   "execution_count": 8,
   "metadata": {
    "executionInfo": {
     "elapsed": 3,
     "status": "ok",
     "timestamp": 1665613808584,
     "user": {
      "displayName": "M3 Learning",
      "userId": "18025570991736547060"
     },
     "user_tz": 240
    },
    "id": "b2IjjCdcpo9w"
   },
   "outputs": [],
   "source": [
    "class Decoder(nn.Module):\n",
    "    def __init__(self,original_step_size,up_list,embedding_size,conv_size):\n",
    "        super(Decoder,self).__init__() \n",
    "        self.input_size_0 = original_step_size[0]\n",
    "        self.input_size_1 = original_step_size[1]\n",
    "        self.dense = nn.Linear(embedding_size+8*3,original_step_size[0]*original_step_size[1])\n",
    "        self.cov2d = nn.Conv2d(1,conv_size,3,stride=1,padding=1,padding_mode = 'zeros')\n",
    "        self.cov2d_1 = nn.Conv2d(conv_size,1,3,stride=1,padding=1,padding_mode = 'zeros')\n",
    "        \n",
    "        blocks = []\n",
    "        number_of_blocks = len(pool_list)\n",
    "        blocks.append(conv_block(t_size=conv_size, n_step=original_step_size))\n",
    "        blocks.append(identity_block(t_size=conv_size, n_step=original_step_size))\n",
    "        \n",
    "        for i in range(number_of_blocks):\n",
    "            blocks.append(nn.Upsample(scale_factor=up_list[i], mode='bilinear', align_corners=True))\n",
    "            original_step_size = [original_step_size[0]*up_list[i],original_step_size[1]*up_list[i]]\n",
    "            blocks.append(conv_block(t_size=conv_size, n_step=original_step_size))\n",
    "            blocks.append(identity_block(t_size=conv_size, n_step=original_step_size))\n",
    "            \n",
    "        self.block_layer = nn.ModuleList(blocks)\n",
    "        self.layers=len(blocks)\n",
    "        \n",
    "        self.output_size_0 = original_step_size[0]\n",
    "        self.output_size_1 = original_step_size[1]\n",
    "\n",
    "        \n",
    "    def forward(self,x):\n",
    " #       x = x[:,:,None]\n",
    "#         Pdb().set_trace()\n",
    "        x=x.reshape(-1,embedding_size+8*3)\n",
    "        out = self.dense(x)\n",
    " #       x = x[:,:,None]\n",
    "#         Pdb().set_trace()\n",
    "#         print('1 ', out.shape)\n",
    "\n",
    "        out = out.view(-1,1,self.input_size_0,self.input_size_1)\n",
    "#         print('2 ', out.shape)\n",
    "\n",
    "\n",
    "        out = self.cov2d(out)\n",
    "#         print('3 ', out.shape)\n",
    "\n",
    "        for i in range(self.layers):\n",
    "            out = self.block_layer[i](out)\n",
    "            \n",
    "        out = self.cov2d_1(out)\n",
    "#         print('4 ', out.shape)\n",
    "\n",
    "#        x = x.transpose(1,2)\n",
    "        output = out.view(-1, self.output_size_0, self.output_size_1)\n",
    "        \n",
    "        return output\n",
    "        "
   ]
  },
  {
   "cell_type": "code",
   "execution_count": 9,
   "metadata": {
    "executionInfo": {
     "elapsed": 2,
     "status": "ok",
     "timestamp": 1665613809147,
     "user": {
      "displayName": "M3 Learning",
      "userId": "18025570991736547060"
     },
     "user_tz": 240
    },
    "id": "vLzXlQcdpo9x"
   },
   "outputs": [],
   "source": [
    "class VAE(nn.Module):\n",
    "    ''' This the VAE, which takes a encoder and decoder.\n",
    "\n",
    "    '''\n",
    "\n",
    "    def __init__(self, enc, dec):\n",
    "        super().__init__()\n",
    "\n",
    "        self.enc = enc\n",
    "        self.dec = dec\n",
    "\n",
    "    def forward(self, x):\n",
    "        # encode\n",
    "        encoded = self.enc(x)\n",
    "\n",
    "        # sample from the distribution having latent parameters z_mu, z_var\n",
    "        # reparameterize\n",
    "#         print('vae',encoded.shape)\n",
    "        # decode\n",
    "        predicted = self.dec(encoded[0])\n",
    "        \n",
    "        return encoded, predicted"
   ]
  },
  {
   "cell_type": "code",
   "execution_count": 10,
   "metadata": {
    "executionInfo": {
     "elapsed": 1,
     "status": "ok",
     "timestamp": 1665613809325,
     "user": {
      "displayName": "M3 Learning",
      "userId": "18025570991736547060"
     },
     "user_tz": 240
    },
    "id": "rjz2b6jGpo9x"
   },
   "outputs": [],
   "source": [
    "class Regularization(nn.Module):\n",
    "    def __init__(self, model, weight_decay, p=2):\n",
    "        '''\n",
    "        :param model\n",
    "        :param weight_decay: coeifficient of \n",
    "        :param p: p=1 is l1 regularization, p=2 is l2 regularizaiton\n",
    "        '''\n",
    "        super(Regularization, self).__init__()\n",
    "        if weight_decay < 0:\n",
    "            print(\"param weight_decay can not <0\")\n",
    "            exit(0)\n",
    "        self.model = model\n",
    "        self.weight_decay = weight_decay\n",
    "        self.p = p\n",
    "        self.weight_list = self.get_weight(model)\n",
    "\n",
    "    #       self.weight_info(self.weight_list)\n",
    "\n",
    "    def to(self, device):\n",
    "        '''\n",
    "        :param device: cude or cpu\n",
    "        :return:\n",
    "        '''\n",
    "        self.device = device\n",
    "        super().to(device)\n",
    "        return self\n",
    "\n",
    "    def forward(self, model):\n",
    "        self.weight_list = self.get_weight(model)  \n",
    "        reg_loss = self.regularization_loss(self.weight_list, self.weight_decay, p=self.p)\n",
    "        return reg_loss\n",
    "\n",
    "    def get_weight(self, model):\n",
    "        '''\n",
    "        :param model: model\n",
    "        :return: list of layers needs to be regularized  \n",
    "        '''\n",
    "        weight_list = []\n",
    "        for name, param in model.named_parameters():\n",
    "            if 'dec' in name and 'weight' in name:\n",
    "                weight = (name, param)\n",
    "                weight_list.append(weight)\n",
    "        return weight_list\n",
    "\n",
    "    def regularization_loss(self, weight_list, weight_decay, p):\n",
    "        '''\n",
    "        :param weight_list: list of layers needs to be regularized  \n",
    "        :param p: p=1 is l1 regularization, p=2 is l2 regularizaiton\n",
    "        :param weight_decay: coeifficient\n",
    "        :return: loss\n",
    "        '''\n",
    "        # weight_decay=Variable(torch.FloatTensor([weight_decay]).to(self.device),requires_grad=True)\n",
    "        # reg_loss=Variable(torch.FloatTensor([0.]).to(self.device),requires_grad=True)\n",
    "        # weight_decay=torch.FloatTensor([weight_decay]).to(self.device)\n",
    "        # reg_loss=torch.FloatTensor([0.]).to(self.device)\n",
    "        reg_loss = 0\n",
    "        for name, w in weight_list:\n",
    "            l2_reg = torch.norm(w, p=p)\n",
    "            reg_loss = reg_loss + l2_reg\n",
    "\n",
    "        reg_loss = weight_decay * reg_loss\n",
    "        return reg_loss\n",
    "\n",
    "    def weight_info(self, weight_list):\n",
    "        '''\n",
    "        :param weight_list:\n",
    "        :return: list of layers' name needs to be regularized  \n",
    "        '''\n",
    "        print(\"---------------regularization weight---------------\")\n",
    "        for name, w in weight_list:\n",
    "            print(name)"
   ]
  },
  {
   "cell_type": "code",
   "execution_count": 11,
   "metadata": {
    "executionInfo": {
     "elapsed": 156,
     "status": "ok",
     "timestamp": 1665613809919,
     "user": {
      "displayName": "M3 Learning",
      "userId": "18025570991736547060"
     },
     "user_tz": 240
    },
    "id": "rKDAVq5Ipo9y"
   },
   "outputs": [],
   "source": [
    "def loss_function(model,\n",
    "                  encoder,\n",
    "                  decoder,\n",
    "                  train_iterator,\n",
    "                  optimizer,\n",
    "                  coef = 0, \n",
    "                  coef1 = 0,\n",
    "                  ln_parm = 1, \n",
    "                  beta = None):\n",
    "\n",
    "    weight_decay = coef\n",
    "    weight_decay_1 = coef1\n",
    "#     print(train_iterator)\n",
    "    # set the train mode\n",
    "    model.train()\n",
    "\n",
    "    # loss of the epoch\n",
    "    train_loss = 0\n",
    "#     print(train_iterator)\n",
    "    #    for i, x in enumerate(train_iterator):\n",
    "    for x in tqdm(train_iterator, leave=True, total=len(train_iterator)):\n",
    "        \n",
    "        reg_loss_2 = Regularization(model, weight_decay_1, p=2).to(device)\n",
    "        x_ = x.to(device, dtype=torch.float)\n",
    "        \n",
    "        # update the gradients to zero\n",
    "        optimizer.zero_grad()\n",
    "\n",
    "        if beta is None: \n",
    "            embedding = encoder(x_)[0]\n",
    "        else:\n",
    "          # forward pass\n",
    "          #        predicted_x = model(x)\n",
    "            embedding,sd,mn = encoder(x_)\n",
    "        \n",
    "        if weight_decay > 0:\n",
    "            reg_loss_1 = weight_decay * torch.norm(embedding, ln_parm).to(device)\n",
    "        else:\n",
    "            reg_loss_1 = 0.0 \n",
    "        \n",
    "        encoded,predicted = model(x_)\n",
    "        embedding = encoded[0]\n",
    "        # reconstruction loss\n",
    "#         print(x_.shape)\n",
    "#         print(predicted.shape)\n",
    "        loss = F.mse_loss(x_, predicted, reduction='mean')\n",
    "        loss = loss +  reg_loss_1 #+reg_loss_2(model) \n",
    "        \n",
    "        if beta is not None:\n",
    "            vae_loss = beta * 0.5 * torch.sum(torch.exp(sd) + (mn)**2 - 1.0 - sd).to(device)\n",
    "            vae_loss/= (sd.shape[0]*sd.shape[1])\n",
    "        else:\n",
    "            vae_loss=0\n",
    "            \n",
    "        loss = loss + vae_loss\n",
    "        # backward pass\n",
    "        train_loss += loss.item()\n",
    "\n",
    "        loss.backward()\n",
    "        # update the weights\n",
    "        optimizer.step()\n",
    "\n",
    "    return train_loss"
   ]
  },
  {
   "cell_type": "code",
   "execution_count": 12,
   "metadata": {
    "executionInfo": {
     "elapsed": 1,
     "status": "ok",
     "timestamp": 1665613810368,
     "user": {
      "displayName": "M3 Learning",
      "userId": "18025570991736547060"
     },
     "user_tz": 240
    },
    "id": "oMqqvs5npo9y"
   },
   "outputs": [],
   "source": [
    "def Train(model,encoder,decoder,train_iterator,optimizer,\n",
    "          epochs,coef=0,coef_1=0,ln_parm=1, beta=None, epoch_ = None,folder='BF_jVAE'):\n",
    "#     N_EPOCHS = epochs\n",
    "    best_train_loss = float('inf')\n",
    "    epoch = epoch_\n",
    "    \n",
    "    today = datetime.datetime.now()\n",
    "    date = today.strftime('(%Y-%m-%d, %H:%M)')\n",
    "            \n",
    "#     if epoch_==None:\n",
    "#         start_epoch = 0\n",
    "#     else:\n",
    "#         start_epoch = epoch_+1\n",
    "\n",
    "#     print('train ',train_iterator)\n",
    "#     for epoch in range(start_epoch,N_EPOCHS):\n",
    "    train = loss_function(model,encoder,decoder,train_iterator,\n",
    "                          optimizer,coef,coef_1,ln_parm,beta)\n",
    "    train_loss = train\n",
    "    train_loss /= len(train_iterator)\n",
    "#        VAE_L /= len(train_iterator)\n",
    "    print(f'Epoch {epoch}, Train Loss: {train_loss:.4f}, coef: {coef:.7f}')\n",
    "#        print(f'......... VAE Loss: {VAE_L:.4f}')\n",
    "#     print('.............................')\n",
    "  #  schedular.step()\n",
    "    if best_train_loss > train_loss:\n",
    "        best_train_loss = train_loss\n",
    "        patience_counter = 1\n",
    "        checkpoint = {\n",
    "            \"net\": model.state_dict(),\n",
    "            \"encoder\":encoder.state_dict(),\n",
    "            \"decoder\":decoder.state_dict(),\n",
    "            'optimizer': optimizer.state_dict(),\n",
    "            \"epoch\": epoch,\n",
    "        }\n",
    "\n",
    "\n",
    "        if epoch >=0:\n",
    "            torch.save(checkpoint,\n",
    "                       f'./{folder}/{date}_epoch:{epoch:05d}_trainloss:{train_loss:.4f}_coef:{coef:.4E}.pkl')"
   ]
  },
  {
   "cell_type": "markdown",
   "metadata": {
    "id": "IOM0bdivpo9r",
    "tags": []
   },
   "source": [
    "\n",
    "# Take a look at the dataset"
   ]
  },
  {
   "cell_type": "code",
   "execution_count": 19,
   "metadata": {
    "colab": {
     "base_uri": "https://localhost:8080/"
    },
    "executionInfo": {
     "elapsed": 639,
     "status": "ok",
     "timestamp": 1665613844476,
     "user": {
      "displayName": "M3 Learning",
      "userId": "18025570991736547060"
     },
     "user_tz": 240
    },
    "hidden": true,
    "id": "94b78e9e",
    "outputId": "516c9de3-9f79-4ac7-8a14-7b254a5410c6"
   },
   "outputs": [
    {
     "data": {
      "text/plain": [
       "43"
      ]
     },
     "execution_count": 19,
     "metadata": {},
     "output_type": "execute_result"
    }
   ],
   "source": [
    "# make list of file names for original bright field images\n",
    "temps = utils.get_temps(env)\n",
    "t_len=len(temps)\n",
    "t_len"
   ]
  },
  {
   "cell_type": "code",
   "execution_count": 20,
   "metadata": {
    "colab": {
     "base_uri": "https://localhost:8080/"
    },
    "executionInfo": {
     "elapsed": 153,
     "status": "ok",
     "timestamp": 1665614056176,
     "user": {
      "displayName": "M3 Learning",
      "userId": "18025570991736547060"
     },
     "user_tz": 240
    },
    "id": "YM_qoPH5po9r",
    "outputId": "90034017-a33a-4e00-93d0-59f8aa672651"
   },
   "outputs": [
    {
     "data": {
      "text/plain": [
       "(43, 43.0, 43.0, 128, 128)"
      ]
     },
     "execution_count": 20,
     "metadata": {},
     "output_type": "execute_result"
    }
   ],
   "source": [
    "hf = h5py.File(combined,'a')\n",
    "logdata = hf['128_fft_windows']['128_fft_windows_logdata'] # dimensions of fft image\n",
    "(l,_,x,y) = logdata.shape\n",
    "a,b = (l/t_len)**.5,(l/t_len)**.5 # dimensions of windowed BF image\n",
    "t_len, a, b, x, y"
   ]
  },
  {
   "cell_type": "code",
   "execution_count": 21,
   "metadata": {
    "colab": {
     "base_uri": "https://localhost:8080/"
    },
    "executionInfo": {
     "elapsed": 164,
     "status": "ok",
     "timestamp": 1665616596099,
     "user": {
      "displayName": "M3 Learning",
      "userId": "18025570991736547060"
     },
     "user_tz": 240
    },
    "id": "QPMuK0zWfBiS",
    "outputId": "d8619f6e-d2d7-4361-ed53-c84695ca8ca1"
   },
   "outputs": [
    {
     "data": {
      "text/plain": [
       "(79507, 1, 128, 128)"
      ]
     },
     "execution_count": 21,
     "metadata": {},
     "output_type": "execute_result"
    }
   ],
   "source": [
    "logdata.shape"
   ]
  },
  {
   "cell_type": "code",
   "execution_count": 22,
   "metadata": {
    "colab": {
     "base_uri": "https://localhost:8080/",
     "height": 488
    },
    "executionInfo": {
     "elapsed": 912,
     "status": "ok",
     "timestamp": 1665614060135,
     "user": {
      "displayName": "M3 Learning",
      "userId": "18025570991736547060"
     },
     "user_tz": 240
    },
    "id": "PX3EaQTEpo9t",
    "outputId": "96a0ce51-d0ed-4268-8c4f-c13301e94323",
    "scrolled": true
   },
   "outputs": [
    {
     "data": {
      "text/plain": [
       "<matplotlib.colorbar.Colorbar at 0x7face99efdf0>"
      ]
     },
     "execution_count": 22,
     "metadata": {},
     "output_type": "execute_result"
    },
    {
     "data": {
      "image/png": "[encoded data removed]",
      "text/plain": [
       "<Figure size 576x576 with 2 Axes>"
      ]
     },
     "metadata": {
      "needs_background": "light"
     },
     "output_type": "display_data"
    }
   ],
   "source": [
    "plt.imshow(logdata[0][0])\n",
    "plt.colorbar()"
   ]
  },
  {
   "cell_type": "markdown",
   "metadata": {
    "id": "D-T5wITopo91"
   },
   "source": [
    "# set jVAE parameters and train:\n",
    "* en_original_step_size: input image data size\n",
    "* pool_list: pooling parameters for each maxpool layer\n",
    "* embedding_size: number of embedding channels\n",
    "* conv_size: number of filters for each CNN layer\n",
    "* de_original_step_size: the original image size for the decoder to recover to the input image data size\n",
    "* up_list: upsample parameters for each upsampling layer"
   ]
  },
  {
   "cell_type": "code",
   "execution_count": 23,
   "metadata": {
    "executionInfo": {
     "elapsed": 209,
     "status": "ok",
     "timestamp": 1665614062606,
     "user": {
      "displayName": "M3 Learning",
      "userId": "18025570991736547060"
     },
     "user_tz": 240
    },
    "id": "Go89Hvv3po92"
   },
   "outputs": [],
   "source": [
    "[xdim,ydim] = logdata.shape[-2:]"
   ]
  },
  {
   "cell_type": "code",
   "execution_count": 24,
   "metadata": {
    "executionInfo": {
     "elapsed": 2,
     "status": "ok",
     "timestamp": 1665614063118,
     "user": {
      "displayName": "M3 Learning",
      "userId": "18025570991736547060"
     },
     "user_tz": 240
    },
    "id": "f3Q24q_Epo92"
   },
   "outputs": [],
   "source": [
    "en_original_step_size=[xdim,ydim]\n",
    "pool_list=[4,4,2]\n",
    "\n",
    "de_original_step_size = [8,8]\n",
    "up_list = [2,2,4]\n",
    "embedding_size=8\n",
    "conv_size =128\n",
    "\n",
    "batch_size=16"
   ]
  },
  {
   "cell_type": "code",
   "execution_count": 1,
   "metadata": {},
   "outputs": [
    {
     "ename": "NameError",
     "evalue": "name 'logdata' is not defined",
     "output_type": "error",
     "traceback": [
      "\u001b[0;31m---------------------------------------------------------------------------\u001b[0m",
      "\u001b[0;31mNameError\u001b[0m                                 Traceback (most recent call last)",
      "Input \u001b[0;32mIn [1]\u001b[0m, in \u001b[0;36m<cell line: 1>\u001b[0;34m()\u001b[0m\n\u001b[0;32m----> 1\u001b[0m \u001b[43mlogdata\u001b[49m\u001b[38;5;241m.\u001b[39mshape\n",
      "\u001b[0;31mNameError\u001b[0m: name 'logdata' is not defined"
     ]
    }
   ],
   "source": [
    "logdata.shape"
   ]
  },
  {
   "cell_type": "code",
   "execution_count": 25,
   "metadata": {
    "executionInfo": {
     "elapsed": 5040,
     "status": "ok",
     "timestamp": 1665614069264,
     "user": {
      "displayName": "M3 Learning",
      "userId": "18025570991736547060"
     },
     "user_tz": 240
    },
    "id": "X02-sTaRpo92"
   },
   "outputs": [],
   "source": [
    "encoder = Encoder(original_step_size=en_original_step_size,\n",
    "                  pool_list=pool_list,\n",
    "                  embedding_size=embedding_size,\n",
    "                  conv_size=conv_size).to(device)\n",
    "\n",
    "decoder = Decoder(original_step_size=de_original_step_size,\n",
    "                  up_list=up_list,\n",
    "                  embedding_size=embedding_size,\n",
    "                  conv_size=conv_size).to(device)\n",
    "model = VAE(encoder, decoder).to(device)\n",
    "\n",
    "# optimizer\n",
    "optimizer = optim.Adam(model.parameters(), lr=3e-5)"
   ]
  },
  {
   "cell_type": "code",
   "execution_count": null,
   "metadata": {
    "id": "c9w77QH_po92"
   },
   "outputs": [],
   "source": [
    "train_iterator = DataLoader(logdata[:], batch_size=16,\n",
    "                        shuffle=True)"
   ]
  },
  {
   "cell_type": "code",
   "execution_count": null,
   "metadata": {
    "colab": {
     "base_uri": "https://localhost:8080/"
    },
    "executionInfo": {
     "elapsed": 4,
     "status": "ok",
     "timestamp": 1654745178047,
     "user": {
      "displayName": "M3 Learning",
      "userId": "18025570991736547060"
     },
     "user_tz": 240
    },
    "id": "0pz0NoYBfNEo",
    "outputId": "64fbae38-65fe-47c7-eae2-8e2c7a1f279c"
   },
   "outputs": [
    {
     "data": {
      "text/plain": [
       "['(2022-05-18, 10:08)_epoch:00043_trainloss:0.2921_coef:5.0000E-08.pkl']"
      ]
     },
     "execution_count": 31,
     "metadata": {},
     "output_type": "execute_result"
    }
   ],
   "source": [
    "# list checkpoints and pick the one you want\n",
    "\n",
    "os.listdir(f'./{f}/')"
   ]
  },
  {
   "cell_type": "code",
   "execution_count": null,
   "metadata": {
    "id": "fehsqXRtpo93"
   },
   "outputs": [],
   "source": [
    "# load the trained weights. Do this if you want to start off from a specific epoch.\n",
    "# Pick the path checkpoint from the folder labelled BF_jVAE_{environment}\n",
    "path_checkpoint = f'./{f}/(2022-05-18, 10:08)_epoch:00043_trainloss:0.2921_coef:5.0000E-08.pkl'\n",
    "\n",
    "checkpoint = torch.load(path_checkpoint)  \n",
    "\n",
    "model.load_state_dict(checkpoint['net'])\n",
    "encoder.load_state_dict(checkpoint['encoder'])\n",
    "decoder.load_state_dict(checkpoint['decoder'])\n",
    "optimizer.load_state_dict(checkpoint['optimizer']) \n",
    "start_epoch = checkpoint['epoch']\n",
    "\n",
    "date = re.split('/|_',path_checkpoint)[-4]+' '+re.split('/|_',path_checkpoint)[-3]\n",
    "epoch,coef = int(re.split(':|_',path_checkpoint)[-5]), float(re.split(':|_',path_checkpoint)[-1][:-4])"
   ]
  },
  {
   "cell_type": "code",
   "execution_count": null,
   "metadata": {
    "colab": {
     "base_uri": "https://localhost:8080/",
     "height": 554
    },
    "executionInfo": {
     "elapsed": 5017,
     "status": "error",
     "timestamp": 1654745342265,
     "user": {
      "displayName": "M3 Learning",
      "userId": "18025570991736547060"
     },
     "user_tz": 240
    },
    "id": "76cPQLMCZ7Ls",
    "outputId": "469dc063-2ab7-410b-ab5e-0b19b87abdb2"
   },
   "outputs": [
    {
     "name": "stderr",
     "output_type": "stream",
     "text": [
      "  0%|          | 2/4300 [00:04<2:51:51,  2.40s/it]\n"
     ]
    },
    {
     "ename": "KeyboardInterrupt",
     "evalue": "ignored",
     "output_type": "error",
     "traceback": [
      "\u001b[0;31m---------------------------------------------------------------------------\u001b[0m",
      "\u001b[0;31mKeyboardInterrupt\u001b[0m                         Traceback (most recent call last)",
      "\u001b[0;32m<ipython-input-38-5ff987cdd3ed>\u001b[0m in \u001b[0;36m<module>\u001b[0;34m\u001b[0m\n\u001b[1;32m     10\u001b[0m \u001b[0;32mfor\u001b[0m \u001b[0mi\u001b[0m \u001b[0;32min\u001b[0m \u001b[0mrange\u001b[0m\u001b[0;34m(\u001b[0m\u001b[0;36m1000\u001b[0m\u001b[0;34m)\u001b[0m\u001b[0;34m:\u001b[0m \u001b[0;31m# stop when you see small difference in loss\u001b[0m\u001b[0;34m\u001b[0m\u001b[0;34m\u001b[0m\u001b[0m\n\u001b[1;32m     11\u001b[0m     \u001b[0;32mif\u001b[0m \u001b[0mi\u001b[0m\u001b[0;34m%\u001b[0m\u001b[0;36m5\u001b[0m\u001b[0;34m==\u001b[0m\u001b[0;36m0\u001b[0m\u001b[0;34m:\u001b[0m \u001b[0mcoef\u001b[0m\u001b[0;34m+=\u001b[0m\u001b[0;36m2.5e-8\u001b[0m\u001b[0;34m\u001b[0m\u001b[0;34m\u001b[0m\u001b[0m\n\u001b[0;32m---> 12\u001b[0;31m     \u001b[0mTrain\u001b[0m\u001b[0;34m(\u001b[0m\u001b[0mmodel\u001b[0m\u001b[0;34m,\u001b[0m\u001b[0mencoder\u001b[0m\u001b[0;34m,\u001b[0m\u001b[0mdecoder\u001b[0m\u001b[0;34m,\u001b[0m\u001b[0mtrain_iterator\u001b[0m\u001b[0;34m,\u001b[0m\u001b[0moptimizer\u001b[0m\u001b[0;34m,\u001b[0m\u001b[0;36m2000\u001b[0m\u001b[0;34m,\u001b[0m\u001b[0mcoef\u001b[0m\u001b[0;34m=\u001b[0m\u001b[0mcoef\u001b[0m\u001b[0;34m,\u001b[0m\u001b[0mepoch_\u001b[0m\u001b[0;34m=\u001b[0m\u001b[0mepoch\u001b[0m\u001b[0;34m,\u001b[0m\u001b[0mfolder\u001b[0m\u001b[0;34m=\u001b[0m\u001b[0mfolder\u001b[0m\u001b[0;34m)\u001b[0m\u001b[0;34m\u001b[0m\u001b[0;34m\u001b[0m\u001b[0m\n\u001b[0m\u001b[1;32m     13\u001b[0m     \u001b[0mepoch\u001b[0m \u001b[0;34m=\u001b[0m \u001b[0mepoch\u001b[0m\u001b[0;34m+\u001b[0m\u001b[0;36m1\u001b[0m\u001b[0;34m\u001b[0m\u001b[0;34m\u001b[0m\u001b[0m\n",
      "\u001b[0;32m<ipython-input-14-d50fceb4e389>\u001b[0m in \u001b[0;36mTrain\u001b[0;34m(model, encoder, decoder, train_iterator, optimizer, epochs, coef, coef_1, ln_parm, beta, epoch_, folder)\u001b[0m\n\u001b[1;32m     16\u001b[0m \u001b[0;31m#     for epoch in range(start_epoch,N_EPOCHS):\u001b[0m\u001b[0;34m\u001b[0m\u001b[0;34m\u001b[0m\u001b[0;34m\u001b[0m\u001b[0m\n\u001b[1;32m     17\u001b[0m     train = loss_function(model,encoder,decoder,train_iterator,\n\u001b[0;32m---> 18\u001b[0;31m                           optimizer,coef,coef_1,ln_parm,beta)\n\u001b[0m\u001b[1;32m     19\u001b[0m     \u001b[0mtrain_loss\u001b[0m \u001b[0;34m=\u001b[0m \u001b[0mtrain\u001b[0m\u001b[0;34m\u001b[0m\u001b[0;34m\u001b[0m\u001b[0m\n\u001b[1;32m     20\u001b[0m     \u001b[0mtrain_loss\u001b[0m \u001b[0;34m/=\u001b[0m \u001b[0mlen\u001b[0m\u001b[0;34m(\u001b[0m\u001b[0mtrain_iterator\u001b[0m\u001b[0;34m)\u001b[0m\u001b[0;34m\u001b[0m\u001b[0;34m\u001b[0m\u001b[0m\n",
      "\u001b[0;32m<ipython-input-13-5e2be865a851>\u001b[0m in \u001b[0;36mloss_function\u001b[0;34m(model, encoder, decoder, train_iterator, optimizer, coef, coef1, ln_parm, beta)\u001b[0m\n\u001b[1;32m     23\u001b[0m         \u001b[0mreg_loss_2\u001b[0m \u001b[0;34m=\u001b[0m \u001b[0mRegularization\u001b[0m\u001b[0;34m(\u001b[0m\u001b[0mmodel\u001b[0m\u001b[0;34m,\u001b[0m \u001b[0mweight_decay_1\u001b[0m\u001b[0;34m,\u001b[0m \u001b[0mp\u001b[0m\u001b[0;34m=\u001b[0m\u001b[0;36m2\u001b[0m\u001b[0;34m)\u001b[0m\u001b[0;34m.\u001b[0m\u001b[0mto\u001b[0m\u001b[0;34m(\u001b[0m\u001b[0mdevice\u001b[0m\u001b[0;34m)\u001b[0m\u001b[0;34m\u001b[0m\u001b[0;34m\u001b[0m\u001b[0m\n\u001b[1;32m     24\u001b[0m \u001b[0;34m\u001b[0m\u001b[0m\n\u001b[0;32m---> 25\u001b[0;31m         \u001b[0mx_\u001b[0m \u001b[0;34m=\u001b[0m \u001b[0mx\u001b[0m\u001b[0;34m.\u001b[0m\u001b[0mto\u001b[0m\u001b[0;34m(\u001b[0m\u001b[0mdevice\u001b[0m\u001b[0;34m,\u001b[0m \u001b[0mdtype\u001b[0m\u001b[0;34m=\u001b[0m\u001b[0mtorch\u001b[0m\u001b[0;34m.\u001b[0m\u001b[0mfloat\u001b[0m\u001b[0;34m)\u001b[0m\u001b[0;34m\u001b[0m\u001b[0;34m\u001b[0m\u001b[0m\n\u001b[0m\u001b[1;32m     26\u001b[0m \u001b[0;34m\u001b[0m\u001b[0m\n\u001b[1;32m     27\u001b[0m         \u001b[0;31m# update the gradients to zero\u001b[0m\u001b[0;34m\u001b[0m\u001b[0;34m\u001b[0m\u001b[0;34m\u001b[0m\u001b[0m\n",
      "\u001b[0;31mKeyboardInterrupt\u001b[0m: "
     ]
    }
   ],
   "source": [
    "# coef, epoch = 0,0.0 # if you are training from scratch\n",
    "\n",
    "folder = utils.make_folder(f)\n",
    "\n",
    "if epoch<20: \n",
    "    while epoch<20:\n",
    "        Train(model,encoder,decoder,train_iterator,optimizer,epochs=2000,coef=coef,epoch_=epoch,folder=folder)\n",
    "        epoch = epoch+1\n",
    "        \n",
    "for i in range(1000): # stop when you see small difference in loss\n",
    "    if i%5==0: coef+=2.5e-8\n",
    "    Train(model,encoder,decoder,train_iterator,optimizer,2000,coef=coef,epoch_=epoch,folder=folder)\n",
    "    epoch = epoch+1"
   ]
  }
 ],
 "metadata": {
  "accelerator": "GPU",
  "colab": {
   "collapsed_sections": [
    "D-T5wITopo91"
   ],
   "provenance": []
  },
  "kernelspec": {
   "display_name": "Python 3 (ipykernel)",
   "language": "python",
   "name": "python3"
  },
  "language_info": {
   "codemirror_mode": {
    "name": "ipython",
    "version": 3
   },
   "file_extension": ".py",
   "mimetype": "text/x-python",
   "name": "python",
   "nbconvert_exporter": "python",
   "pygments_lexer": "ipython3",
   "version": "3.9.7"
  },
  "toc": {
   "base_numbering": 1,
   "nav_menu": {},
   "number_sections": true,
   "sideBar": true,
   "skip_h1_title": false,
   "title_cell": "Table of Contents",
   "title_sidebar": "Contents",
   "toc_cell": false,
   "toc_position": {
    "height": "859.617px",
    "left": "26px",
    "top": "147.483px",
    "width": "370.5px"
   },
   "toc_section_display": true,
   "toc_window_display": true
  },
  "varInspector": {
   "cols": {
    "lenName": 16,
    "lenType": 16,
    "lenVar": 40
   },
   "kernels_config": {
    "python": {
     "delete_cmd_postfix": "",
     "delete_cmd_prefix": "del ",
     "library": "var_list.py",
     "varRefreshCmd": "print(var_dic_list())"
    },
    "r": {
     "delete_cmd_postfix": ") ",
     "delete_cmd_prefix": "rm(",
     "library": "var_list.r",
     "varRefreshCmd": "cat(var_dic_list()) "
    }
   },
   "types_to_exclude": [
    "module",
    "function",
    "builtin_function_or_method",
    "instance",
    "_Feature"
   ],
   "window_display": false
  }
 },
 "nbformat": 4,
 "nbformat_minor": 4
}
