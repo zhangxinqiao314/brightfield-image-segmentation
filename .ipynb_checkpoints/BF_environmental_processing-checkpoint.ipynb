{
  "cells": [
    {
      "cell_type": "markdown",
      "metadata": {
        "id": "view-in-github",
        "colab_type": "text"
      },
      "source": [
        "<a href=\"https://colab.research.google.com/github/zhangxinqiao314/brightfield-image-segmentation/blob/main/BF_environmental_processing.ipynb\" target=\"_parent\"><img src=\"https://colab.research.google.com/assets/colab-badge.svg\" alt=\"Open In Colab\"/></a>"
      ]
    },
    {
      "cell_type": "markdown",
      "metadata": {
        "heading_collapsed": true,
        "id": "7gy9KV-hpo9Y"
      },
      "source": [
        "# Imports"
      ]
    },
    {
      "cell_type": "markdown",
      "metadata": {
        "hidden": true,
        "id": "XAiAvP7tpo9Z"
      },
      "source": [
        "## Install packages"
      ]
    },
    {
      "cell_type": "code",
      "execution_count": 6,
      "metadata": {
        "hidden": true,
        "colab": {
          "base_uri": "https://localhost:8080/",
          "height": 1000
        },
        "id": "a0EIzhMBpo9a",
        "outputId": "dd829450-4bea-431b-8988-3f1bde079c0a"
      },
      "outputs": [
        {
          "output_type": "stream",
          "name": "stdout",
          "text": [
            "Looking in indexes: https://pypi.org/simple, https://us-python.pkg.dev/colab-wheels/public/simple/\n",
            "Collecting sidpy\n",
            "  Downloading sidpy-0.0.9-py2.py3-none-any.whl (94 kB)\n",
            "\u001b[K     |████████████████████████████████| 94 kB 3.4 MB/s \n",
            "\u001b[?25hRequirement already satisfied: matplotlib>=2.0.0 in /usr/local/lib/python3.7/dist-packages (from sidpy) (3.2.2)\n",
            "Requirement already satisfied: toolz in /usr/local/lib/python3.7/dist-packages (from sidpy) (0.11.2)\n",
            "Requirement already satisfied: six in /usr/local/lib/python3.7/dist-packages (from sidpy) (1.15.0)\n",
            "Requirement already satisfied: sklearn in /usr/local/lib/python3.7/dist-packages (from sidpy) (0.0)\n",
            "Requirement already satisfied: joblib>=0.11.0 in /usr/local/lib/python3.7/dist-packages (from sidpy) (1.1.0)\n",
            "Requirement already satisfied: ipywidgets>=5.2.2 in /usr/local/lib/python3.7/dist-packages (from sidpy) (7.7.0)\n",
            "Collecting distributed>=2.0.0psutil\n",
            "  Downloading distributed-2022.2.0-py3-none-any.whl (837 kB)\n",
            "\u001b[K     |████████████████████████████████| 837 kB 54.1 MB/s \n",
            "\u001b[?25hCollecting ipython>=6.0\n",
            "  Downloading ipython-7.34.0-py3-none-any.whl (793 kB)\n",
            "\u001b[K     |████████████████████████████████| 793 kB 55.3 MB/s \n",
            "\u001b[?25hCollecting cytoolz\n",
            "  Downloading cytoolz-0.11.2.tar.gz (481 kB)\n",
            "\u001b[K     |████████████████████████████████| 481 kB 71.0 MB/s \n",
            "\u001b[?25hCollecting ipyfilechooser>=0.0.6\n",
            "  Downloading ipyfilechooser-0.6.0-py3-none-any.whl (11 kB)\n",
            "Requirement already satisfied: scipy in /usr/local/lib/python3.7/dist-packages (from sidpy) (1.4.1)\n",
            "Requirement already satisfied: dask>=0.10 in /usr/local/lib/python3.7/dist-packages (from sidpy) (2.12.0)\n",
            "Requirement already satisfied: numpy>=1.10 in /usr/local/lib/python3.7/dist-packages (from sidpy) (1.21.6)\n",
            "Requirement already satisfied: h5py>=2.6.0 in /usr/local/lib/python3.7/dist-packages (from sidpy) (3.1.0)\n",
            "Requirement already satisfied: click>=6.6 in /usr/local/lib/python3.7/dist-packages (from distributed>=2.0.0psutil->sidpy) (7.1.2)\n",
            "Collecting cloudpickle>=1.5.0\n",
            "  Downloading cloudpickle-2.1.0-py3-none-any.whl (25 kB)\n",
            "Requirement already satisfied: packaging>=20.0 in /usr/local/lib/python3.7/dist-packages (from distributed>=2.0.0psutil->sidpy) (21.3)\n",
            "Requirement already satisfied: zict>=0.1.3 in /usr/local/lib/python3.7/dist-packages (from distributed>=2.0.0psutil->sidpy) (2.2.0)\n",
            "Requirement already satisfied: msgpack>=0.6.0 in /usr/local/lib/python3.7/dist-packages (from distributed>=2.0.0psutil->sidpy) (1.0.3)\n",
            "Requirement already satisfied: jinja2 in /usr/local/lib/python3.7/dist-packages (from distributed>=2.0.0psutil->sidpy) (2.11.3)\n",
            "Requirement already satisfied: psutil>=5.0 in /usr/local/lib/python3.7/dist-packages (from distributed>=2.0.0psutil->sidpy) (5.4.8)\n",
            "Collecting dask>=0.10\n",
            "  Downloading dask-2022.2.0-py3-none-any.whl (1.1 MB)\n",
            "\u001b[K     |████████████████████████████████| 1.1 MB 53.4 MB/s \n",
            "\u001b[?25hRequirement already satisfied: tornado>=5 in /usr/local/lib/python3.7/dist-packages (from distributed>=2.0.0psutil->sidpy) (5.1.1)\n",
            "Requirement already satisfied: pyyaml in /usr/local/lib/python3.7/dist-packages (from distributed>=2.0.0psutil->sidpy) (3.13)\n",
            "Requirement already satisfied: tblib>=1.6.0 in /usr/local/lib/python3.7/dist-packages (from distributed>=2.0.0psutil->sidpy) (1.7.0)\n",
            "Requirement already satisfied: sortedcontainers!=2.0.0,!=2.0.1 in /usr/local/lib/python3.7/dist-packages (from distributed>=2.0.0psutil->sidpy) (2.4.0)\n",
            "Requirement already satisfied: setuptools in /usr/local/lib/python3.7/dist-packages (from distributed>=2.0.0psutil->sidpy) (57.4.0)\n",
            "Collecting partd>=0.3.10\n",
            "  Downloading partd-1.2.0-py3-none-any.whl (19 kB)\n",
            "Collecting pyyaml\n",
            "  Downloading PyYAML-6.0-cp37-cp37m-manylinux_2_5_x86_64.manylinux1_x86_64.manylinux_2_12_x86_64.manylinux2010_x86_64.whl (596 kB)\n",
            "\u001b[K     |████████████████████████████████| 596 kB 70.3 MB/s \n",
            "\u001b[?25hCollecting fsspec>=0.6.0\n",
            "  Downloading fsspec-2022.5.0-py3-none-any.whl (140 kB)\n",
            "\u001b[K     |████████████████████████████████| 140 kB 75.3 MB/s \n",
            "\u001b[?25hRequirement already satisfied: cached-property in /usr/local/lib/python3.7/dist-packages (from h5py>=2.6.0->sidpy) (1.5.2)\n",
            "Requirement already satisfied: pexpect>4.3 in /usr/local/lib/python3.7/dist-packages (from ipython>=6.0->sidpy) (4.8.0)\n",
            "Requirement already satisfied: traitlets>=4.2 in /usr/local/lib/python3.7/dist-packages (from ipython>=6.0->sidpy) (5.1.1)\n",
            "Requirement already satisfied: matplotlib-inline in /usr/local/lib/python3.7/dist-packages (from ipython>=6.0->sidpy) (0.1.3)\n",
            "Requirement already satisfied: backcall in /usr/local/lib/python3.7/dist-packages (from ipython>=6.0->sidpy) (0.2.0)\n",
            "Requirement already satisfied: jedi>=0.16 in /usr/local/lib/python3.7/dist-packages (from ipython>=6.0->sidpy) (0.18.1)\n",
            "Collecting prompt-toolkit!=3.0.0,!=3.0.1,<3.1.0,>=2.0.0\n",
            "  Downloading prompt_toolkit-3.0.29-py3-none-any.whl (381 kB)\n",
            "\u001b[K     |████████████████████████████████| 381 kB 73.6 MB/s \n",
            "\u001b[?25hRequirement already satisfied: decorator in /usr/local/lib/python3.7/dist-packages (from ipython>=6.0->sidpy) (4.4.2)\n",
            "Requirement already satisfied: pickleshare in /usr/local/lib/python3.7/dist-packages (from ipython>=6.0->sidpy) (0.7.5)\n",
            "Requirement already satisfied: pygments in /usr/local/lib/python3.7/dist-packages (from ipython>=6.0->sidpy) (2.6.1)\n",
            "Requirement already satisfied: widgetsnbextension~=3.6.0 in /usr/local/lib/python3.7/dist-packages (from ipywidgets>=5.2.2->sidpy) (3.6.0)\n",
            "Requirement already satisfied: ipykernel>=4.5.1 in /usr/local/lib/python3.7/dist-packages (from ipywidgets>=5.2.2->sidpy) (4.10.1)\n",
            "Requirement already satisfied: jupyterlab-widgets>=1.0.0 in /usr/local/lib/python3.7/dist-packages (from ipywidgets>=5.2.2->sidpy) (1.1.0)\n",
            "Requirement already satisfied: nbformat>=4.2.0 in /usr/local/lib/python3.7/dist-packages (from ipywidgets>=5.2.2->sidpy) (5.4.0)\n",
            "Requirement already satisfied: ipython-genutils~=0.2.0 in /usr/local/lib/python3.7/dist-packages (from ipywidgets>=5.2.2->sidpy) (0.2.0)\n",
            "Requirement already satisfied: jupyter-client in /usr/local/lib/python3.7/dist-packages (from ipykernel>=4.5.1->ipywidgets>=5.2.2->sidpy) (5.3.5)\n",
            "Requirement already satisfied: parso<0.9.0,>=0.8.0 in /usr/local/lib/python3.7/dist-packages (from jedi>=0.16->ipython>=6.0->sidpy) (0.8.3)\n",
            "Requirement already satisfied: cycler>=0.10 in /usr/local/lib/python3.7/dist-packages (from matplotlib>=2.0.0->sidpy) (0.11.0)\n",
            "Requirement already satisfied: python-dateutil>=2.1 in /usr/local/lib/python3.7/dist-packages (from matplotlib>=2.0.0->sidpy) (2.8.2)\n",
            "Requirement already satisfied: kiwisolver>=1.0.1 in /usr/local/lib/python3.7/dist-packages (from matplotlib>=2.0.0->sidpy) (1.4.2)\n",
            "Requirement already satisfied: pyparsing!=2.0.4,!=2.1.2,!=2.1.6,>=2.0.1 in /usr/local/lib/python3.7/dist-packages (from matplotlib>=2.0.0->sidpy) (3.0.9)\n",
            "Requirement already satisfied: typing-extensions in /usr/local/lib/python3.7/dist-packages (from kiwisolver>=1.0.1->matplotlib>=2.0.0->sidpy) (4.2.0)\n",
            "Requirement already satisfied: jupyter-core in /usr/local/lib/python3.7/dist-packages (from nbformat>=4.2.0->ipywidgets>=5.2.2->sidpy) (4.10.0)\n",
            "Requirement already satisfied: jsonschema>=2.6 in /usr/local/lib/python3.7/dist-packages (from nbformat>=4.2.0->ipywidgets>=5.2.2->sidpy) (4.3.3)\n",
            "Requirement already satisfied: fastjsonschema in /usr/local/lib/python3.7/dist-packages (from nbformat>=4.2.0->ipywidgets>=5.2.2->sidpy) (2.15.3)\n",
            "Requirement already satisfied: importlib-resources>=1.4.0 in /usr/local/lib/python3.7/dist-packages (from jsonschema>=2.6->nbformat>=4.2.0->ipywidgets>=5.2.2->sidpy) (5.7.1)\n",
            "Requirement already satisfied: importlib-metadata in /usr/local/lib/python3.7/dist-packages (from jsonschema>=2.6->nbformat>=4.2.0->ipywidgets>=5.2.2->sidpy) (4.11.4)\n",
            "Requirement already satisfied: attrs>=17.4.0 in /usr/local/lib/python3.7/dist-packages (from jsonschema>=2.6->nbformat>=4.2.0->ipywidgets>=5.2.2->sidpy) (21.4.0)\n",
            "Requirement already satisfied: pyrsistent!=0.17.0,!=0.17.1,!=0.17.2,>=0.14.0 in /usr/local/lib/python3.7/dist-packages (from jsonschema>=2.6->nbformat>=4.2.0->ipywidgets>=5.2.2->sidpy) (0.18.1)\n",
            "Requirement already satisfied: zipp>=3.1.0 in /usr/local/lib/python3.7/dist-packages (from importlib-resources>=1.4.0->jsonschema>=2.6->nbformat>=4.2.0->ipywidgets>=5.2.2->sidpy) (3.8.0)\n",
            "Collecting locket\n",
            "  Downloading locket-1.0.0-py2.py3-none-any.whl (4.4 kB)\n",
            "Requirement already satisfied: ptyprocess>=0.5 in /usr/local/lib/python3.7/dist-packages (from pexpect>4.3->ipython>=6.0->sidpy) (0.7.0)\n",
            "Requirement already satisfied: wcwidth in /usr/local/lib/python3.7/dist-packages (from prompt-toolkit!=3.0.0,!=3.0.1,<3.1.0,>=2.0.0->ipython>=6.0->sidpy) (0.2.5)\n",
            "Requirement already satisfied: notebook>=4.4.1 in /usr/local/lib/python3.7/dist-packages (from widgetsnbextension~=3.6.0->ipywidgets>=5.2.2->sidpy) (5.3.1)\n",
            "Requirement already satisfied: terminado>=0.8.1 in /usr/local/lib/python3.7/dist-packages (from notebook>=4.4.1->widgetsnbextension~=3.6.0->ipywidgets>=5.2.2->sidpy) (0.13.3)\n",
            "Requirement already satisfied: Send2Trash in /usr/local/lib/python3.7/dist-packages (from notebook>=4.4.1->widgetsnbextension~=3.6.0->ipywidgets>=5.2.2->sidpy) (1.8.0)\n",
            "Requirement already satisfied: nbconvert in /usr/local/lib/python3.7/dist-packages (from notebook>=4.4.1->widgetsnbextension~=3.6.0->ipywidgets>=5.2.2->sidpy) (5.6.1)\n",
            "Requirement already satisfied: pyzmq>=13 in /usr/local/lib/python3.7/dist-packages (from jupyter-client->ipykernel>=4.5.1->ipywidgets>=5.2.2->sidpy) (23.0.0)\n",
            "Requirement already satisfied: heapdict in /usr/local/lib/python3.7/dist-packages (from zict>=0.1.3->distributed>=2.0.0psutil->sidpy) (1.0.1)\n",
            "Requirement already satisfied: MarkupSafe>=0.23 in /usr/local/lib/python3.7/dist-packages (from jinja2->distributed>=2.0.0psutil->sidpy) (2.0.1)\n",
            "Requirement already satisfied: pandocfilters>=1.4.1 in /usr/local/lib/python3.7/dist-packages (from nbconvert->notebook>=4.4.1->widgetsnbextension~=3.6.0->ipywidgets>=5.2.2->sidpy) (1.5.0)\n",
            "Requirement already satisfied: entrypoints>=0.2.2 in /usr/local/lib/python3.7/dist-packages (from nbconvert->notebook>=4.4.1->widgetsnbextension~=3.6.0->ipywidgets>=5.2.2->sidpy) (0.4)\n",
            "Requirement already satisfied: bleach in /usr/local/lib/python3.7/dist-packages (from nbconvert->notebook>=4.4.1->widgetsnbextension~=3.6.0->ipywidgets>=5.2.2->sidpy) (5.0.0)\n",
            "Requirement already satisfied: mistune<2,>=0.8.1 in /usr/local/lib/python3.7/dist-packages (from nbconvert->notebook>=4.4.1->widgetsnbextension~=3.6.0->ipywidgets>=5.2.2->sidpy) (0.8.4)\n",
            "Requirement already satisfied: testpath in /usr/local/lib/python3.7/dist-packages (from nbconvert->notebook>=4.4.1->widgetsnbextension~=3.6.0->ipywidgets>=5.2.2->sidpy) (0.6.0)\n",
            "Requirement already satisfied: defusedxml in /usr/local/lib/python3.7/dist-packages (from nbconvert->notebook>=4.4.1->widgetsnbextension~=3.6.0->ipywidgets>=5.2.2->sidpy) (0.7.1)\n",
            "Requirement already satisfied: webencodings in /usr/local/lib/python3.7/dist-packages (from bleach->nbconvert->notebook>=4.4.1->widgetsnbextension~=3.6.0->ipywidgets>=5.2.2->sidpy) (0.5.1)\n",
            "Requirement already satisfied: scikit-learn in /usr/local/lib/python3.7/dist-packages (from sklearn->sidpy) (1.0.2)\n",
            "Requirement already satisfied: threadpoolctl>=2.0.0 in /usr/local/lib/python3.7/dist-packages (from scikit-learn->sklearn->sidpy) (3.1.0)\n",
            "Building wheels for collected packages: cytoolz\n",
            "  Building wheel for cytoolz (setup.py) ... \u001b[?25l\u001b[?25hdone\n",
            "  Created wheel for cytoolz: filename=cytoolz-0.11.2-cp37-cp37m-linux_x86_64.whl size=1236741 sha256=8c398866cb21f534d1dab8a3071c13efc18e735e0eb69a2b87d7b0663189098f\n",
            "  Stored in directory: /root/.cache/pip/wheels/38/70/71/ca13ea3d36ccd0b3d0ec7d7a4ca67522048d695b556bba4f59\n",
            "Successfully built cytoolz\n",
            "Installing collected packages: prompt-toolkit, ipython, locket, pyyaml, partd, fsspec, cloudpickle, dask, ipyfilechooser, distributed, cytoolz, sidpy\n",
            "  Attempting uninstall: prompt-toolkit\n",
            "    Found existing installation: prompt-toolkit 1.0.18\n",
            "    Uninstalling prompt-toolkit-1.0.18:\n",
            "      Successfully uninstalled prompt-toolkit-1.0.18\n",
            "  Attempting uninstall: ipython\n",
            "    Found existing installation: ipython 5.5.0\n",
            "    Uninstalling ipython-5.5.0:\n",
            "      Successfully uninstalled ipython-5.5.0\n",
            "  Attempting uninstall: pyyaml\n",
            "    Found existing installation: PyYAML 3.13\n",
            "    Uninstalling PyYAML-3.13:\n",
            "      Successfully uninstalled PyYAML-3.13\n",
            "  Attempting uninstall: cloudpickle\n",
            "    Found existing installation: cloudpickle 1.3.0\n",
            "    Uninstalling cloudpickle-1.3.0:\n",
            "      Successfully uninstalled cloudpickle-1.3.0\n",
            "  Attempting uninstall: dask\n",
            "    Found existing installation: dask 2.12.0\n",
            "    Uninstalling dask-2.12.0:\n",
            "      Successfully uninstalled dask-2.12.0\n",
            "  Attempting uninstall: distributed\n",
            "    Found existing installation: distributed 1.25.3\n",
            "    Uninstalling distributed-1.25.3:\n",
            "      Successfully uninstalled distributed-1.25.3\n",
            "\u001b[31mERROR: pip's dependency resolver does not currently take into account all the packages that are installed. This behaviour is the source of the following dependency conflicts.\n",
            "jupyter-console 5.2.0 requires prompt-toolkit<2.0.0,>=1.0.0, but you have prompt-toolkit 3.0.29 which is incompatible.\n",
            "gym 0.17.3 requires cloudpickle<1.7.0,>=1.2.0, but you have cloudpickle 2.1.0 which is incompatible.\n",
            "google-colab 1.0.0 requires ipython~=5.5.0, but you have ipython 7.34.0 which is incompatible.\u001b[0m\n",
            "Successfully installed cloudpickle-2.1.0 cytoolz-0.11.2 dask-2022.2.0 distributed-2022.2.0 fsspec-2022.5.0 ipyfilechooser-0.6.0 ipython-7.34.0 locket-1.0.0 partd-1.2.0 prompt-toolkit-3.0.29 pyyaml-6.0 sidpy-0.0.9\n"
          ]
        },
        {
          "output_type": "display_data",
          "data": {
            "application/vnd.colab-display-data+json": {
              "pip_warning": {
                "packages": [
                  "IPython",
                  "prompt_toolkit"
                ]
              }
            }
          },
          "metadata": {}
        }
      ],
      "source": [
        "# we will need the sidpy package and pyNSID and SciFIreaders\n",
        "!pip install sidpy;\n",
        "#git+https://github.com/pycroscopy/sidpy.git"
      ]
    },
    {
      "cell_type": "code",
      "source": [
        "!pip install pyNSID;"
      ],
      "metadata": {
        "colab": {
          "base_uri": "https://localhost:8080/"
        },
        "id": "0QYAs_VetAuR",
        "outputId": "6835e545-b30f-45bd-cb4a-11d60ee34c1f"
      },
      "execution_count": 7,
      "outputs": [
        {
          "output_type": "stream",
          "name": "stdout",
          "text": [
            "Looking in indexes: https://pypi.org/simple, https://us-python.pkg.dev/colab-wheels/public/simple/\n",
            "Collecting pyNSID\n",
            "  Downloading pyNSID-0.0.3-py2.py3-none-any.whl (13 kB)\n",
            "Requirement already satisfied: h5py>=2.6.0 in /usr/local/lib/python3.7/dist-packages (from pyNSID) (3.1.0)\n",
            "Requirement already satisfied: sidpy>=0.0.2 in /usr/local/lib/python3.7/dist-packages (from pyNSID) (0.0.9)\n",
            "Requirement already satisfied: dask>=0.10 in /usr/local/lib/python3.7/dist-packages (from pyNSID) (2022.2.0)\n",
            "Requirement already satisfied: numpy>=1.10 in /usr/local/lib/python3.7/dist-packages (from pyNSID) (1.21.6)\n",
            "Requirement already satisfied: six in /usr/local/lib/python3.7/dist-packages (from pyNSID) (1.15.0)\n",
            "Requirement already satisfied: toolz in /usr/local/lib/python3.7/dist-packages (from pyNSID) (0.11.2)\n",
            "Requirement already satisfied: cytoolz in /usr/local/lib/python3.7/dist-packages (from pyNSID) (0.11.2)\n",
            "Requirement already satisfied: partd>=0.3.10 in /usr/local/lib/python3.7/dist-packages (from dask>=0.10->pyNSID) (1.2.0)\n",
            "Requirement already satisfied: cloudpickle>=1.1.1 in /usr/local/lib/python3.7/dist-packages (from dask>=0.10->pyNSID) (2.1.0)\n",
            "Requirement already satisfied: fsspec>=0.6.0 in /usr/local/lib/python3.7/dist-packages (from dask>=0.10->pyNSID) (2022.5.0)\n",
            "Requirement already satisfied: packaging>=20.0 in /usr/local/lib/python3.7/dist-packages (from dask>=0.10->pyNSID) (21.3)\n",
            "Requirement already satisfied: pyyaml>=5.3.1 in /usr/local/lib/python3.7/dist-packages (from dask>=0.10->pyNSID) (6.0)\n",
            "Requirement already satisfied: cached-property in /usr/local/lib/python3.7/dist-packages (from h5py>=2.6.0->pyNSID) (1.5.2)\n",
            "Requirement already satisfied: pyparsing!=3.0.5,>=2.0.2 in /usr/local/lib/python3.7/dist-packages (from packaging>=20.0->dask>=0.10->pyNSID) (3.0.9)\n",
            "Requirement already satisfied: locket in /usr/local/lib/python3.7/dist-packages (from partd>=0.3.10->dask>=0.10->pyNSID) (1.0.0)\n",
            "Requirement already satisfied: joblib>=0.11.0 in /usr/local/lib/python3.7/dist-packages (from sidpy>=0.0.2->pyNSID) (1.1.0)\n",
            "Requirement already satisfied: ipyfilechooser>=0.0.6 in /usr/local/lib/python3.7/dist-packages (from sidpy>=0.0.2->pyNSID) (0.6.0)\n",
            "Requirement already satisfied: scipy in /usr/local/lib/python3.7/dist-packages (from sidpy>=0.0.2->pyNSID) (1.4.1)\n",
            "Requirement already satisfied: ipython>=6.0 in /usr/local/lib/python3.7/dist-packages (from sidpy>=0.0.2->pyNSID) (7.34.0)\n",
            "Requirement already satisfied: ipywidgets>=5.2.2 in /usr/local/lib/python3.7/dist-packages (from sidpy>=0.0.2->pyNSID) (7.7.0)\n",
            "Requirement already satisfied: sklearn in /usr/local/lib/python3.7/dist-packages (from sidpy>=0.0.2->pyNSID) (0.0)\n",
            "Requirement already satisfied: matplotlib>=2.0.0 in /usr/local/lib/python3.7/dist-packages (from sidpy>=0.0.2->pyNSID) (3.2.2)\n",
            "Requirement already satisfied: distributed>=2.0.0psutil in /usr/local/lib/python3.7/dist-packages (from sidpy>=0.0.2->pyNSID) (2022.2.0)\n",
            "Requirement already satisfied: click>=6.6 in /usr/local/lib/python3.7/dist-packages (from distributed>=2.0.0psutil->sidpy>=0.0.2->pyNSID) (7.1.2)\n",
            "Requirement already satisfied: jinja2 in /usr/local/lib/python3.7/dist-packages (from distributed>=2.0.0psutil->sidpy>=0.0.2->pyNSID) (2.11.3)\n",
            "Requirement already satisfied: tblib>=1.6.0 in /usr/local/lib/python3.7/dist-packages (from distributed>=2.0.0psutil->sidpy>=0.0.2->pyNSID) (1.7.0)\n",
            "Requirement already satisfied: psutil>=5.0 in /usr/local/lib/python3.7/dist-packages (from distributed>=2.0.0psutil->sidpy>=0.0.2->pyNSID) (5.4.8)\n",
            "Requirement already satisfied: sortedcontainers!=2.0.0,!=2.0.1 in /usr/local/lib/python3.7/dist-packages (from distributed>=2.0.0psutil->sidpy>=0.0.2->pyNSID) (2.4.0)\n",
            "Requirement already satisfied: zict>=0.1.3 in /usr/local/lib/python3.7/dist-packages (from distributed>=2.0.0psutil->sidpy>=0.0.2->pyNSID) (2.2.0)\n",
            "Requirement already satisfied: tornado>=5 in /usr/local/lib/python3.7/dist-packages (from distributed>=2.0.0psutil->sidpy>=0.0.2->pyNSID) (5.1.1)\n",
            "Requirement already satisfied: msgpack>=0.6.0 in /usr/local/lib/python3.7/dist-packages (from distributed>=2.0.0psutil->sidpy>=0.0.2->pyNSID) (1.0.3)\n",
            "Requirement already satisfied: setuptools in /usr/local/lib/python3.7/dist-packages (from distributed>=2.0.0psutil->sidpy>=0.0.2->pyNSID) (57.4.0)\n",
            "Requirement already satisfied: matplotlib-inline in /usr/local/lib/python3.7/dist-packages (from ipython>=6.0->sidpy>=0.0.2->pyNSID) (0.1.3)\n",
            "Requirement already satisfied: decorator in /usr/local/lib/python3.7/dist-packages (from ipython>=6.0->sidpy>=0.0.2->pyNSID) (4.4.2)\n",
            "Requirement already satisfied: prompt-toolkit!=3.0.0,!=3.0.1,<3.1.0,>=2.0.0 in /usr/local/lib/python3.7/dist-packages (from ipython>=6.0->sidpy>=0.0.2->pyNSID) (3.0.29)\n",
            "Requirement already satisfied: jedi>=0.16 in /usr/local/lib/python3.7/dist-packages (from ipython>=6.0->sidpy>=0.0.2->pyNSID) (0.18.1)\n",
            "Requirement already satisfied: pygments in /usr/local/lib/python3.7/dist-packages (from ipython>=6.0->sidpy>=0.0.2->pyNSID) (2.6.1)\n",
            "Requirement already satisfied: pickleshare in /usr/local/lib/python3.7/dist-packages (from ipython>=6.0->sidpy>=0.0.2->pyNSID) (0.7.5)\n",
            "Requirement already satisfied: backcall in /usr/local/lib/python3.7/dist-packages (from ipython>=6.0->sidpy>=0.0.2->pyNSID) (0.2.0)\n",
            "Requirement already satisfied: traitlets>=4.2 in /usr/local/lib/python3.7/dist-packages (from ipython>=6.0->sidpy>=0.0.2->pyNSID) (5.1.1)\n",
            "Requirement already satisfied: pexpect>4.3 in /usr/local/lib/python3.7/dist-packages (from ipython>=6.0->sidpy>=0.0.2->pyNSID) (4.8.0)\n",
            "Requirement already satisfied: jupyterlab-widgets>=1.0.0 in /usr/local/lib/python3.7/dist-packages (from ipywidgets>=5.2.2->sidpy>=0.0.2->pyNSID) (1.1.0)\n",
            "Requirement already satisfied: nbformat>=4.2.0 in /usr/local/lib/python3.7/dist-packages (from ipywidgets>=5.2.2->sidpy>=0.0.2->pyNSID) (5.4.0)\n",
            "Requirement already satisfied: widgetsnbextension~=3.6.0 in /usr/local/lib/python3.7/dist-packages (from ipywidgets>=5.2.2->sidpy>=0.0.2->pyNSID) (3.6.0)\n",
            "Requirement already satisfied: ipykernel>=4.5.1 in /usr/local/lib/python3.7/dist-packages (from ipywidgets>=5.2.2->sidpy>=0.0.2->pyNSID) (4.10.1)\n",
            "Requirement already satisfied: ipython-genutils~=0.2.0 in /usr/local/lib/python3.7/dist-packages (from ipywidgets>=5.2.2->sidpy>=0.0.2->pyNSID) (0.2.0)\n",
            "Requirement already satisfied: jupyter-client in /usr/local/lib/python3.7/dist-packages (from ipykernel>=4.5.1->ipywidgets>=5.2.2->sidpy>=0.0.2->pyNSID) (5.3.5)\n",
            "Requirement already satisfied: parso<0.9.0,>=0.8.0 in /usr/local/lib/python3.7/dist-packages (from jedi>=0.16->ipython>=6.0->sidpy>=0.0.2->pyNSID) (0.8.3)\n",
            "Requirement already satisfied: python-dateutil>=2.1 in /usr/local/lib/python3.7/dist-packages (from matplotlib>=2.0.0->sidpy>=0.0.2->pyNSID) (2.8.2)\n",
            "Requirement already satisfied: cycler>=0.10 in /usr/local/lib/python3.7/dist-packages (from matplotlib>=2.0.0->sidpy>=0.0.2->pyNSID) (0.11.0)\n",
            "Requirement already satisfied: kiwisolver>=1.0.1 in /usr/local/lib/python3.7/dist-packages (from matplotlib>=2.0.0->sidpy>=0.0.2->pyNSID) (1.4.2)\n",
            "Requirement already satisfied: typing-extensions in /usr/local/lib/python3.7/dist-packages (from kiwisolver>=1.0.1->matplotlib>=2.0.0->sidpy>=0.0.2->pyNSID) (4.2.0)\n",
            "Requirement already satisfied: jupyter-core in /usr/local/lib/python3.7/dist-packages (from nbformat>=4.2.0->ipywidgets>=5.2.2->sidpy>=0.0.2->pyNSID) (4.10.0)\n",
            "Requirement already satisfied: jsonschema>=2.6 in /usr/local/lib/python3.7/dist-packages (from nbformat>=4.2.0->ipywidgets>=5.2.2->sidpy>=0.0.2->pyNSID) (4.3.3)\n",
            "Requirement already satisfied: fastjsonschema in /usr/local/lib/python3.7/dist-packages (from nbformat>=4.2.0->ipywidgets>=5.2.2->sidpy>=0.0.2->pyNSID) (2.15.3)\n",
            "Requirement already satisfied: pyrsistent!=0.17.0,!=0.17.1,!=0.17.2,>=0.14.0 in /usr/local/lib/python3.7/dist-packages (from jsonschema>=2.6->nbformat>=4.2.0->ipywidgets>=5.2.2->sidpy>=0.0.2->pyNSID) (0.18.1)\n",
            "Requirement already satisfied: importlib-resources>=1.4.0 in /usr/local/lib/python3.7/dist-packages (from jsonschema>=2.6->nbformat>=4.2.0->ipywidgets>=5.2.2->sidpy>=0.0.2->pyNSID) (5.7.1)\n",
            "Requirement already satisfied: attrs>=17.4.0 in /usr/local/lib/python3.7/dist-packages (from jsonschema>=2.6->nbformat>=4.2.0->ipywidgets>=5.2.2->sidpy>=0.0.2->pyNSID) (21.4.0)\n",
            "Requirement already satisfied: importlib-metadata in /usr/local/lib/python3.7/dist-packages (from jsonschema>=2.6->nbformat>=4.2.0->ipywidgets>=5.2.2->sidpy>=0.0.2->pyNSID) (4.11.4)\n",
            "Requirement already satisfied: zipp>=3.1.0 in /usr/local/lib/python3.7/dist-packages (from importlib-resources>=1.4.0->jsonschema>=2.6->nbformat>=4.2.0->ipywidgets>=5.2.2->sidpy>=0.0.2->pyNSID) (3.8.0)\n",
            "Requirement already satisfied: ptyprocess>=0.5 in /usr/local/lib/python3.7/dist-packages (from pexpect>4.3->ipython>=6.0->sidpy>=0.0.2->pyNSID) (0.7.0)\n",
            "Requirement already satisfied: wcwidth in /usr/local/lib/python3.7/dist-packages (from prompt-toolkit!=3.0.0,!=3.0.1,<3.1.0,>=2.0.0->ipython>=6.0->sidpy>=0.0.2->pyNSID) (0.2.5)\n",
            "Requirement already satisfied: notebook>=4.4.1 in /usr/local/lib/python3.7/dist-packages (from widgetsnbextension~=3.6.0->ipywidgets>=5.2.2->sidpy>=0.0.2->pyNSID) (5.3.1)\n",
            "Requirement already satisfied: Send2Trash in /usr/local/lib/python3.7/dist-packages (from notebook>=4.4.1->widgetsnbextension~=3.6.0->ipywidgets>=5.2.2->sidpy>=0.0.2->pyNSID) (1.8.0)\n",
            "Requirement already satisfied: nbconvert in /usr/local/lib/python3.7/dist-packages (from notebook>=4.4.1->widgetsnbextension~=3.6.0->ipywidgets>=5.2.2->sidpy>=0.0.2->pyNSID) (5.6.1)\n",
            "Requirement already satisfied: terminado>=0.8.1 in /usr/local/lib/python3.7/dist-packages (from notebook>=4.4.1->widgetsnbextension~=3.6.0->ipywidgets>=5.2.2->sidpy>=0.0.2->pyNSID) (0.13.3)\n",
            "Requirement already satisfied: pyzmq>=13 in /usr/local/lib/python3.7/dist-packages (from jupyter-client->ipykernel>=4.5.1->ipywidgets>=5.2.2->sidpy>=0.0.2->pyNSID) (23.0.0)\n",
            "Requirement already satisfied: heapdict in /usr/local/lib/python3.7/dist-packages (from zict>=0.1.3->distributed>=2.0.0psutil->sidpy>=0.0.2->pyNSID) (1.0.1)\n",
            "Requirement already satisfied: MarkupSafe>=0.23 in /usr/local/lib/python3.7/dist-packages (from jinja2->distributed>=2.0.0psutil->sidpy>=0.0.2->pyNSID) (2.0.1)\n",
            "Requirement already satisfied: defusedxml in /usr/local/lib/python3.7/dist-packages (from nbconvert->notebook>=4.4.1->widgetsnbextension~=3.6.0->ipywidgets>=5.2.2->sidpy>=0.0.2->pyNSID) (0.7.1)\n",
            "Requirement already satisfied: pandocfilters>=1.4.1 in /usr/local/lib/python3.7/dist-packages (from nbconvert->notebook>=4.4.1->widgetsnbextension~=3.6.0->ipywidgets>=5.2.2->sidpy>=0.0.2->pyNSID) (1.5.0)\n",
            "Requirement already satisfied: bleach in /usr/local/lib/python3.7/dist-packages (from nbconvert->notebook>=4.4.1->widgetsnbextension~=3.6.0->ipywidgets>=5.2.2->sidpy>=0.0.2->pyNSID) (5.0.0)\n",
            "Requirement already satisfied: entrypoints>=0.2.2 in /usr/local/lib/python3.7/dist-packages (from nbconvert->notebook>=4.4.1->widgetsnbextension~=3.6.0->ipywidgets>=5.2.2->sidpy>=0.0.2->pyNSID) (0.4)\n",
            "Requirement already satisfied: mistune<2,>=0.8.1 in /usr/local/lib/python3.7/dist-packages (from nbconvert->notebook>=4.4.1->widgetsnbextension~=3.6.0->ipywidgets>=5.2.2->sidpy>=0.0.2->pyNSID) (0.8.4)\n",
            "Requirement already satisfied: testpath in /usr/local/lib/python3.7/dist-packages (from nbconvert->notebook>=4.4.1->widgetsnbextension~=3.6.0->ipywidgets>=5.2.2->sidpy>=0.0.2->pyNSID) (0.6.0)\n",
            "Requirement already satisfied: webencodings in /usr/local/lib/python3.7/dist-packages (from bleach->nbconvert->notebook>=4.4.1->widgetsnbextension~=3.6.0->ipywidgets>=5.2.2->sidpy>=0.0.2->pyNSID) (0.5.1)\n",
            "Requirement already satisfied: scikit-learn in /usr/local/lib/python3.7/dist-packages (from sklearn->sidpy>=0.0.2->pyNSID) (1.0.2)\n",
            "Requirement already satisfied: threadpoolctl>=2.0.0 in /usr/local/lib/python3.7/dist-packages (from scikit-learn->sklearn->sidpy>=0.0.2->pyNSID) (3.1.0)\n",
            "Installing collected packages: pyNSID\n",
            "Successfully installed pyNSID-0.0.3\n"
          ]
        }
      ]
    },
    {
      "cell_type": "code",
      "source": [
        "!pip install pyUSID;"
      ],
      "metadata": {
        "colab": {
          "base_uri": "https://localhost:8080/"
        },
        "id": "QsyHKKTktCw9",
        "outputId": "53618f8c-9228-401e-aa22-2b15647ac9b9"
      },
      "execution_count": 8,
      "outputs": [
        {
          "output_type": "stream",
          "name": "stdout",
          "text": [
            "Looking in indexes: https://pypi.org/simple, https://us-python.pkg.dev/colab-wheels/public/simple/\n",
            "Collecting pyUSID\n",
            "  Downloading pyUSID-0.0.10-py2.py3-none-any.whl (66 kB)\n",
            "\u001b[K     |████████████████████████████████| 66 kB 3.6 MB/s \n",
            "\u001b[?25hRequirement already satisfied: psutil in /usr/local/lib/python3.7/dist-packages (from pyUSID) (5.4.8)\n",
            "Requirement already satisfied: pillow in /usr/local/lib/python3.7/dist-packages (from pyUSID) (7.1.2)\n",
            "Requirement already satisfied: h5py>=2.6.0 in /usr/local/lib/python3.7/dist-packages (from pyUSID) (3.1.0)\n",
            "Requirement already satisfied: cytoolz in /usr/local/lib/python3.7/dist-packages (from pyUSID) (0.11.2)\n",
            "Requirement already satisfied: sidpy>=0.0.2 in /usr/local/lib/python3.7/dist-packages (from pyUSID) (0.0.9)\n",
            "Requirement already satisfied: numpy>=1.10 in /usr/local/lib/python3.7/dist-packages (from pyUSID) (1.21.6)\n",
            "Requirement already satisfied: dask>=0.10 in /usr/local/lib/python3.7/dist-packages (from pyUSID) (2022.2.0)\n",
            "Requirement already satisfied: toolz in /usr/local/lib/python3.7/dist-packages (from pyUSID) (0.11.2)\n",
            "Requirement already satisfied: six in /usr/local/lib/python3.7/dist-packages (from pyUSID) (1.15.0)\n",
            "Requirement already satisfied: cloudpickle>=1.1.1 in /usr/local/lib/python3.7/dist-packages (from dask>=0.10->pyUSID) (2.1.0)\n",
            "Requirement already satisfied: packaging>=20.0 in /usr/local/lib/python3.7/dist-packages (from dask>=0.10->pyUSID) (21.3)\n",
            "Requirement already satisfied: pyyaml>=5.3.1 in /usr/local/lib/python3.7/dist-packages (from dask>=0.10->pyUSID) (6.0)\n",
            "Requirement already satisfied: fsspec>=0.6.0 in /usr/local/lib/python3.7/dist-packages (from dask>=0.10->pyUSID) (2022.5.0)\n",
            "Requirement already satisfied: partd>=0.3.10 in /usr/local/lib/python3.7/dist-packages (from dask>=0.10->pyUSID) (1.2.0)\n",
            "Requirement already satisfied: cached-property in /usr/local/lib/python3.7/dist-packages (from h5py>=2.6.0->pyUSID) (1.5.2)\n",
            "Requirement already satisfied: pyparsing!=3.0.5,>=2.0.2 in /usr/local/lib/python3.7/dist-packages (from packaging>=20.0->dask>=0.10->pyUSID) (3.0.9)\n",
            "Requirement already satisfied: locket in /usr/local/lib/python3.7/dist-packages (from partd>=0.3.10->dask>=0.10->pyUSID) (1.0.0)\n",
            "Requirement already satisfied: sklearn in /usr/local/lib/python3.7/dist-packages (from sidpy>=0.0.2->pyUSID) (0.0)\n",
            "Requirement already satisfied: matplotlib>=2.0.0 in /usr/local/lib/python3.7/dist-packages (from sidpy>=0.0.2->pyUSID) (3.2.2)\n",
            "Requirement already satisfied: joblib>=0.11.0 in /usr/local/lib/python3.7/dist-packages (from sidpy>=0.0.2->pyUSID) (1.1.0)\n",
            "Requirement already satisfied: ipython>=6.0 in /usr/local/lib/python3.7/dist-packages (from sidpy>=0.0.2->pyUSID) (7.34.0)\n",
            "Requirement already satisfied: scipy in /usr/local/lib/python3.7/dist-packages (from sidpy>=0.0.2->pyUSID) (1.4.1)\n",
            "Requirement already satisfied: distributed>=2.0.0psutil in /usr/local/lib/python3.7/dist-packages (from sidpy>=0.0.2->pyUSID) (2022.2.0)\n",
            "Requirement already satisfied: ipywidgets>=5.2.2 in /usr/local/lib/python3.7/dist-packages (from sidpy>=0.0.2->pyUSID) (7.7.0)\n",
            "Requirement already satisfied: ipyfilechooser>=0.0.6 in /usr/local/lib/python3.7/dist-packages (from sidpy>=0.0.2->pyUSID) (0.6.0)\n",
            "Requirement already satisfied: jinja2 in /usr/local/lib/python3.7/dist-packages (from distributed>=2.0.0psutil->sidpy>=0.0.2->pyUSID) (2.11.3)\n",
            "Requirement already satisfied: sortedcontainers!=2.0.0,!=2.0.1 in /usr/local/lib/python3.7/dist-packages (from distributed>=2.0.0psutil->sidpy>=0.0.2->pyUSID) (2.4.0)\n",
            "Requirement already satisfied: msgpack>=0.6.0 in /usr/local/lib/python3.7/dist-packages (from distributed>=2.0.0psutil->sidpy>=0.0.2->pyUSID) (1.0.3)\n",
            "Requirement already satisfied: tblib>=1.6.0 in /usr/local/lib/python3.7/dist-packages (from distributed>=2.0.0psutil->sidpy>=0.0.2->pyUSID) (1.7.0)\n",
            "Requirement already satisfied: tornado>=5 in /usr/local/lib/python3.7/dist-packages (from distributed>=2.0.0psutil->sidpy>=0.0.2->pyUSID) (5.1.1)\n",
            "Requirement already satisfied: setuptools in /usr/local/lib/python3.7/dist-packages (from distributed>=2.0.0psutil->sidpy>=0.0.2->pyUSID) (57.4.0)\n",
            "Requirement already satisfied: zict>=0.1.3 in /usr/local/lib/python3.7/dist-packages (from distributed>=2.0.0psutil->sidpy>=0.0.2->pyUSID) (2.2.0)\n",
            "Requirement already satisfied: click>=6.6 in /usr/local/lib/python3.7/dist-packages (from distributed>=2.0.0psutil->sidpy>=0.0.2->pyUSID) (7.1.2)\n",
            "Requirement already satisfied: pygments in /usr/local/lib/python3.7/dist-packages (from ipython>=6.0->sidpy>=0.0.2->pyUSID) (2.6.1)\n",
            "Requirement already satisfied: pexpect>4.3 in /usr/local/lib/python3.7/dist-packages (from ipython>=6.0->sidpy>=0.0.2->pyUSID) (4.8.0)\n",
            "Requirement already satisfied: pickleshare in /usr/local/lib/python3.7/dist-packages (from ipython>=6.0->sidpy>=0.0.2->pyUSID) (0.7.5)\n",
            "Requirement already satisfied: backcall in /usr/local/lib/python3.7/dist-packages (from ipython>=6.0->sidpy>=0.0.2->pyUSID) (0.2.0)\n",
            "Requirement already satisfied: traitlets>=4.2 in /usr/local/lib/python3.7/dist-packages (from ipython>=6.0->sidpy>=0.0.2->pyUSID) (5.1.1)\n",
            "Requirement already satisfied: decorator in /usr/local/lib/python3.7/dist-packages (from ipython>=6.0->sidpy>=0.0.2->pyUSID) (4.4.2)\n",
            "Requirement already satisfied: matplotlib-inline in /usr/local/lib/python3.7/dist-packages (from ipython>=6.0->sidpy>=0.0.2->pyUSID) (0.1.3)\n",
            "Requirement already satisfied: jedi>=0.16 in /usr/local/lib/python3.7/dist-packages (from ipython>=6.0->sidpy>=0.0.2->pyUSID) (0.18.1)\n",
            "Requirement already satisfied: prompt-toolkit!=3.0.0,!=3.0.1,<3.1.0,>=2.0.0 in /usr/local/lib/python3.7/dist-packages (from ipython>=6.0->sidpy>=0.0.2->pyUSID) (3.0.29)\n",
            "Requirement already satisfied: widgetsnbextension~=3.6.0 in /usr/local/lib/python3.7/dist-packages (from ipywidgets>=5.2.2->sidpy>=0.0.2->pyUSID) (3.6.0)\n",
            "Requirement already satisfied: jupyterlab-widgets>=1.0.0 in /usr/local/lib/python3.7/dist-packages (from ipywidgets>=5.2.2->sidpy>=0.0.2->pyUSID) (1.1.0)\n",
            "Requirement already satisfied: ipykernel>=4.5.1 in /usr/local/lib/python3.7/dist-packages (from ipywidgets>=5.2.2->sidpy>=0.0.2->pyUSID) (4.10.1)\n",
            "Requirement already satisfied: ipython-genutils~=0.2.0 in /usr/local/lib/python3.7/dist-packages (from ipywidgets>=5.2.2->sidpy>=0.0.2->pyUSID) (0.2.0)\n",
            "Requirement already satisfied: nbformat>=4.2.0 in /usr/local/lib/python3.7/dist-packages (from ipywidgets>=5.2.2->sidpy>=0.0.2->pyUSID) (5.4.0)\n",
            "Requirement already satisfied: jupyter-client in /usr/local/lib/python3.7/dist-packages (from ipykernel>=4.5.1->ipywidgets>=5.2.2->sidpy>=0.0.2->pyUSID) (5.3.5)\n",
            "Requirement already satisfied: parso<0.9.0,>=0.8.0 in /usr/local/lib/python3.7/dist-packages (from jedi>=0.16->ipython>=6.0->sidpy>=0.0.2->pyUSID) (0.8.3)\n",
            "Requirement already satisfied: cycler>=0.10 in /usr/local/lib/python3.7/dist-packages (from matplotlib>=2.0.0->sidpy>=0.0.2->pyUSID) (0.11.0)\n",
            "Requirement already satisfied: kiwisolver>=1.0.1 in /usr/local/lib/python3.7/dist-packages (from matplotlib>=2.0.0->sidpy>=0.0.2->pyUSID) (1.4.2)\n",
            "Requirement already satisfied: python-dateutil>=2.1 in /usr/local/lib/python3.7/dist-packages (from matplotlib>=2.0.0->sidpy>=0.0.2->pyUSID) (2.8.2)\n",
            "Requirement already satisfied: typing-extensions in /usr/local/lib/python3.7/dist-packages (from kiwisolver>=1.0.1->matplotlib>=2.0.0->sidpy>=0.0.2->pyUSID) (4.2.0)\n",
            "Requirement already satisfied: fastjsonschema in /usr/local/lib/python3.7/dist-packages (from nbformat>=4.2.0->ipywidgets>=5.2.2->sidpy>=0.0.2->pyUSID) (2.15.3)\n",
            "Requirement already satisfied: jsonschema>=2.6 in /usr/local/lib/python3.7/dist-packages (from nbformat>=4.2.0->ipywidgets>=5.2.2->sidpy>=0.0.2->pyUSID) (4.3.3)\n",
            "Requirement already satisfied: jupyter-core in /usr/local/lib/python3.7/dist-packages (from nbformat>=4.2.0->ipywidgets>=5.2.2->sidpy>=0.0.2->pyUSID) (4.10.0)\n",
            "Requirement already satisfied: importlib-metadata in /usr/local/lib/python3.7/dist-packages (from jsonschema>=2.6->nbformat>=4.2.0->ipywidgets>=5.2.2->sidpy>=0.0.2->pyUSID) (4.11.4)\n",
            "Requirement already satisfied: attrs>=17.4.0 in /usr/local/lib/python3.7/dist-packages (from jsonschema>=2.6->nbformat>=4.2.0->ipywidgets>=5.2.2->sidpy>=0.0.2->pyUSID) (21.4.0)\n",
            "Requirement already satisfied: importlib-resources>=1.4.0 in /usr/local/lib/python3.7/dist-packages (from jsonschema>=2.6->nbformat>=4.2.0->ipywidgets>=5.2.2->sidpy>=0.0.2->pyUSID) (5.7.1)\n",
            "Requirement already satisfied: pyrsistent!=0.17.0,!=0.17.1,!=0.17.2,>=0.14.0 in /usr/local/lib/python3.7/dist-packages (from jsonschema>=2.6->nbformat>=4.2.0->ipywidgets>=5.2.2->sidpy>=0.0.2->pyUSID) (0.18.1)\n",
            "Requirement already satisfied: zipp>=3.1.0 in /usr/local/lib/python3.7/dist-packages (from importlib-resources>=1.4.0->jsonschema>=2.6->nbformat>=4.2.0->ipywidgets>=5.2.2->sidpy>=0.0.2->pyUSID) (3.8.0)\n",
            "Requirement already satisfied: ptyprocess>=0.5 in /usr/local/lib/python3.7/dist-packages (from pexpect>4.3->ipython>=6.0->sidpy>=0.0.2->pyUSID) (0.7.0)\n",
            "Requirement already satisfied: wcwidth in /usr/local/lib/python3.7/dist-packages (from prompt-toolkit!=3.0.0,!=3.0.1,<3.1.0,>=2.0.0->ipython>=6.0->sidpy>=0.0.2->pyUSID) (0.2.5)\n",
            "Requirement already satisfied: notebook>=4.4.1 in /usr/local/lib/python3.7/dist-packages (from widgetsnbextension~=3.6.0->ipywidgets>=5.2.2->sidpy>=0.0.2->pyUSID) (5.3.1)\n",
            "Requirement already satisfied: Send2Trash in /usr/local/lib/python3.7/dist-packages (from notebook>=4.4.1->widgetsnbextension~=3.6.0->ipywidgets>=5.2.2->sidpy>=0.0.2->pyUSID) (1.8.0)\n",
            "Requirement already satisfied: terminado>=0.8.1 in /usr/local/lib/python3.7/dist-packages (from notebook>=4.4.1->widgetsnbextension~=3.6.0->ipywidgets>=5.2.2->sidpy>=0.0.2->pyUSID) (0.13.3)\n",
            "Requirement already satisfied: nbconvert in /usr/local/lib/python3.7/dist-packages (from notebook>=4.4.1->widgetsnbextension~=3.6.0->ipywidgets>=5.2.2->sidpy>=0.0.2->pyUSID) (5.6.1)\n",
            "Requirement already satisfied: pyzmq>=13 in /usr/local/lib/python3.7/dist-packages (from jupyter-client->ipykernel>=4.5.1->ipywidgets>=5.2.2->sidpy>=0.0.2->pyUSID) (23.0.0)\n",
            "Requirement already satisfied: heapdict in /usr/local/lib/python3.7/dist-packages (from zict>=0.1.3->distributed>=2.0.0psutil->sidpy>=0.0.2->pyUSID) (1.0.1)\n",
            "Requirement already satisfied: MarkupSafe>=0.23 in /usr/local/lib/python3.7/dist-packages (from jinja2->distributed>=2.0.0psutil->sidpy>=0.0.2->pyUSID) (2.0.1)\n",
            "Requirement already satisfied: testpath in /usr/local/lib/python3.7/dist-packages (from nbconvert->notebook>=4.4.1->widgetsnbextension~=3.6.0->ipywidgets>=5.2.2->sidpy>=0.0.2->pyUSID) (0.6.0)\n",
            "Requirement already satisfied: bleach in /usr/local/lib/python3.7/dist-packages (from nbconvert->notebook>=4.4.1->widgetsnbextension~=3.6.0->ipywidgets>=5.2.2->sidpy>=0.0.2->pyUSID) (5.0.0)\n",
            "Requirement already satisfied: entrypoints>=0.2.2 in /usr/local/lib/python3.7/dist-packages (from nbconvert->notebook>=4.4.1->widgetsnbextension~=3.6.0->ipywidgets>=5.2.2->sidpy>=0.0.2->pyUSID) (0.4)\n",
            "Requirement already satisfied: mistune<2,>=0.8.1 in /usr/local/lib/python3.7/dist-packages (from nbconvert->notebook>=4.4.1->widgetsnbextension~=3.6.0->ipywidgets>=5.2.2->sidpy>=0.0.2->pyUSID) (0.8.4)\n",
            "Requirement already satisfied: pandocfilters>=1.4.1 in /usr/local/lib/python3.7/dist-packages (from nbconvert->notebook>=4.4.1->widgetsnbextension~=3.6.0->ipywidgets>=5.2.2->sidpy>=0.0.2->pyUSID) (1.5.0)\n",
            "Requirement already satisfied: defusedxml in /usr/local/lib/python3.7/dist-packages (from nbconvert->notebook>=4.4.1->widgetsnbextension~=3.6.0->ipywidgets>=5.2.2->sidpy>=0.0.2->pyUSID) (0.7.1)\n",
            "Requirement already satisfied: webencodings in /usr/local/lib/python3.7/dist-packages (from bleach->nbconvert->notebook>=4.4.1->widgetsnbextension~=3.6.0->ipywidgets>=5.2.2->sidpy>=0.0.2->pyUSID) (0.5.1)\n",
            "Requirement already satisfied: scikit-learn in /usr/local/lib/python3.7/dist-packages (from sklearn->sidpy>=0.0.2->pyUSID) (1.0.2)\n",
            "Requirement already satisfied: threadpoolctl>=2.0.0 in /usr/local/lib/python3.7/dist-packages (from scikit-learn->sklearn->sidpy>=0.0.2->pyUSID) (3.1.0)\n",
            "Installing collected packages: pyUSID\n",
            "Successfully installed pyUSID-0.0.10\n"
          ]
        }
      ]
    },
    {
      "cell_type": "code",
      "source": [
        "#MAKE SURE TO RESTART RUNTIME AFTER RUNNING THIS CELL!\n",
        "!pip install pycroscopy=='0.61.0-alpha';"
      ],
      "metadata": {
        "colab": {
          "base_uri": "https://localhost:8080/"
        },
        "id": "-JdNylNutRR5",
        "outputId": "da198bac-3c54-498d-fd28-3df4d2a297f3"
      },
      "execution_count": 9,
      "outputs": [
        {
          "output_type": "stream",
          "name": "stdout",
          "text": [
            "Looking in indexes: https://pypi.org/simple, https://us-python.pkg.dev/colab-wheels/public/simple/\n",
            "Collecting pycroscopy==0.61.0-alpha\n",
            "  Downloading pycroscopy-0.61.0a0-py2.py3-none-any.whl (27 kB)\n",
            "Requirement already satisfied: pillow in /usr/local/lib/python3.7/dist-packages (from pycroscopy==0.61.0-alpha) (7.1.2)\n",
            "Requirement already satisfied: ipython>=6.0 in /usr/local/lib/python3.7/dist-packages (from pycroscopy==0.61.0-alpha) (7.34.0)\n",
            "Requirement already satisfied: pyUSID>=0.0.8 in /usr/local/lib/python3.7/dist-packages (from pycroscopy==0.61.0-alpha) (0.0.10)\n",
            "Requirement already satisfied: ipywidgets>=5.2.2 in /usr/local/lib/python3.7/dist-packages (from pycroscopy==0.61.0-alpha) (7.7.0)\n",
            "Requirement already satisfied: psutil in /usr/local/lib/python3.7/dist-packages (from pycroscopy==0.61.0-alpha) (5.4.8)\n",
            "Requirement already satisfied: six in /usr/local/lib/python3.7/dist-packages (from pycroscopy==0.61.0-alpha) (1.15.0)\n",
            "Requirement already satisfied: sidpy>=0.0.1 in /usr/local/lib/python3.7/dist-packages (from pycroscopy==0.61.0-alpha) (0.0.9)\n",
            "Requirement already satisfied: scikit-image>=0.12.3 in /usr/local/lib/python3.7/dist-packages (from pycroscopy==0.61.0-alpha) (0.18.3)\n",
            "Requirement already satisfied: matplotlib>=2.0.0 in /usr/local/lib/python3.7/dist-packages (from pycroscopy==0.61.0-alpha) (3.2.2)\n",
            "Requirement already satisfied: scikit-learn>=0.17.1 in /usr/local/lib/python3.7/dist-packages (from pycroscopy==0.61.0-alpha) (1.0.2)\n",
            "Requirement already satisfied: numpy>=1.13.0 in /usr/local/lib/python3.7/dist-packages (from pycroscopy==0.61.0-alpha) (1.21.6)\n",
            "Requirement already satisfied: joblib>=0.11.0 in /usr/local/lib/python3.7/dist-packages (from pycroscopy==0.61.0-alpha) (1.1.0)\n",
            "Requirement already satisfied: torch>=1.0.0 in /usr/local/lib/python3.7/dist-packages (from pycroscopy==0.61.0-alpha) (1.11.0+cu113)\n",
            "Requirement already satisfied: scipy>=0.17.1 in /usr/local/lib/python3.7/dist-packages (from pycroscopy==0.61.0-alpha) (1.4.1)\n",
            "Collecting tensorly>=0.6.0\n",
            "  Downloading tensorly-0.7.0-py3-none-any.whl (198 kB)\n",
            "\u001b[K     |████████████████████████████████| 198 kB 10.0 MB/s \n",
            "\u001b[?25hRequirement already satisfied: jedi>=0.16 in /usr/local/lib/python3.7/dist-packages (from ipython>=6.0->pycroscopy==0.61.0-alpha) (0.18.1)\n",
            "Requirement already satisfied: traitlets>=4.2 in /usr/local/lib/python3.7/dist-packages (from ipython>=6.0->pycroscopy==0.61.0-alpha) (5.1.1)\n",
            "Requirement already satisfied: pygments in /usr/local/lib/python3.7/dist-packages (from ipython>=6.0->pycroscopy==0.61.0-alpha) (2.6.1)\n",
            "Requirement already satisfied: matplotlib-inline in /usr/local/lib/python3.7/dist-packages (from ipython>=6.0->pycroscopy==0.61.0-alpha) (0.1.3)\n",
            "Requirement already satisfied: setuptools>=18.5 in /usr/local/lib/python3.7/dist-packages (from ipython>=6.0->pycroscopy==0.61.0-alpha) (57.4.0)\n",
            "Requirement already satisfied: decorator in /usr/local/lib/python3.7/dist-packages (from ipython>=6.0->pycroscopy==0.61.0-alpha) (4.4.2)\n",
            "Requirement already satisfied: backcall in /usr/local/lib/python3.7/dist-packages (from ipython>=6.0->pycroscopy==0.61.0-alpha) (0.2.0)\n",
            "Requirement already satisfied: pexpect>4.3 in /usr/local/lib/python3.7/dist-packages (from ipython>=6.0->pycroscopy==0.61.0-alpha) (4.8.0)\n",
            "Requirement already satisfied: pickleshare in /usr/local/lib/python3.7/dist-packages (from ipython>=6.0->pycroscopy==0.61.0-alpha) (0.7.5)\n",
            "Requirement already satisfied: prompt-toolkit!=3.0.0,!=3.0.1,<3.1.0,>=2.0.0 in /usr/local/lib/python3.7/dist-packages (from ipython>=6.0->pycroscopy==0.61.0-alpha) (3.0.29)\n",
            "Requirement already satisfied: ipykernel>=4.5.1 in /usr/local/lib/python3.7/dist-packages (from ipywidgets>=5.2.2->pycroscopy==0.61.0-alpha) (4.10.1)\n",
            "Requirement already satisfied: jupyterlab-widgets>=1.0.0 in /usr/local/lib/python3.7/dist-packages (from ipywidgets>=5.2.2->pycroscopy==0.61.0-alpha) (1.1.0)\n",
            "Requirement already satisfied: ipython-genutils~=0.2.0 in /usr/local/lib/python3.7/dist-packages (from ipywidgets>=5.2.2->pycroscopy==0.61.0-alpha) (0.2.0)\n",
            "Requirement already satisfied: nbformat>=4.2.0 in /usr/local/lib/python3.7/dist-packages (from ipywidgets>=5.2.2->pycroscopy==0.61.0-alpha) (5.4.0)\n",
            "Requirement already satisfied: widgetsnbextension~=3.6.0 in /usr/local/lib/python3.7/dist-packages (from ipywidgets>=5.2.2->pycroscopy==0.61.0-alpha) (3.6.0)\n",
            "Requirement already satisfied: tornado>=4.0 in /usr/local/lib/python3.7/dist-packages (from ipykernel>=4.5.1->ipywidgets>=5.2.2->pycroscopy==0.61.0-alpha) (5.1.1)\n",
            "Requirement already satisfied: jupyter-client in /usr/local/lib/python3.7/dist-packages (from ipykernel>=4.5.1->ipywidgets>=5.2.2->pycroscopy==0.61.0-alpha) (5.3.5)\n",
            "Requirement already satisfied: parso<0.9.0,>=0.8.0 in /usr/local/lib/python3.7/dist-packages (from jedi>=0.16->ipython>=6.0->pycroscopy==0.61.0-alpha) (0.8.3)\n",
            "Requirement already satisfied: python-dateutil>=2.1 in /usr/local/lib/python3.7/dist-packages (from matplotlib>=2.0.0->pycroscopy==0.61.0-alpha) (2.8.2)\n",
            "Requirement already satisfied: pyparsing!=2.0.4,!=2.1.2,!=2.1.6,>=2.0.1 in /usr/local/lib/python3.7/dist-packages (from matplotlib>=2.0.0->pycroscopy==0.61.0-alpha) (3.0.9)\n",
            "Requirement already satisfied: cycler>=0.10 in /usr/local/lib/python3.7/dist-packages (from matplotlib>=2.0.0->pycroscopy==0.61.0-alpha) (0.11.0)\n",
            "Requirement already satisfied: kiwisolver>=1.0.1 in /usr/local/lib/python3.7/dist-packages (from matplotlib>=2.0.0->pycroscopy==0.61.0-alpha) (1.4.2)\n",
            "Requirement already satisfied: typing-extensions in /usr/local/lib/python3.7/dist-packages (from kiwisolver>=1.0.1->matplotlib>=2.0.0->pycroscopy==0.61.0-alpha) (4.2.0)\n",
            "Requirement already satisfied: jupyter-core in /usr/local/lib/python3.7/dist-packages (from nbformat>=4.2.0->ipywidgets>=5.2.2->pycroscopy==0.61.0-alpha) (4.10.0)\n",
            "Requirement already satisfied: jsonschema>=2.6 in /usr/local/lib/python3.7/dist-packages (from nbformat>=4.2.0->ipywidgets>=5.2.2->pycroscopy==0.61.0-alpha) (4.3.3)\n",
            "Requirement already satisfied: fastjsonschema in /usr/local/lib/python3.7/dist-packages (from nbformat>=4.2.0->ipywidgets>=5.2.2->pycroscopy==0.61.0-alpha) (2.15.3)\n",
            "Requirement already satisfied: pyrsistent!=0.17.0,!=0.17.1,!=0.17.2,>=0.14.0 in /usr/local/lib/python3.7/dist-packages (from jsonschema>=2.6->nbformat>=4.2.0->ipywidgets>=5.2.2->pycroscopy==0.61.0-alpha) (0.18.1)\n",
            "Requirement already satisfied: importlib-resources>=1.4.0 in /usr/local/lib/python3.7/dist-packages (from jsonschema>=2.6->nbformat>=4.2.0->ipywidgets>=5.2.2->pycroscopy==0.61.0-alpha) (5.7.1)\n",
            "Requirement already satisfied: attrs>=17.4.0 in /usr/local/lib/python3.7/dist-packages (from jsonschema>=2.6->nbformat>=4.2.0->ipywidgets>=5.2.2->pycroscopy==0.61.0-alpha) (21.4.0)\n",
            "Requirement already satisfied: importlib-metadata in /usr/local/lib/python3.7/dist-packages (from jsonschema>=2.6->nbformat>=4.2.0->ipywidgets>=5.2.2->pycroscopy==0.61.0-alpha) (4.11.4)\n",
            "Requirement already satisfied: zipp>=3.1.0 in /usr/local/lib/python3.7/dist-packages (from importlib-resources>=1.4.0->jsonschema>=2.6->nbformat>=4.2.0->ipywidgets>=5.2.2->pycroscopy==0.61.0-alpha) (3.8.0)\n",
            "Requirement already satisfied: ptyprocess>=0.5 in /usr/local/lib/python3.7/dist-packages (from pexpect>4.3->ipython>=6.0->pycroscopy==0.61.0-alpha) (0.7.0)\n",
            "Requirement already satisfied: wcwidth in /usr/local/lib/python3.7/dist-packages (from prompt-toolkit!=3.0.0,!=3.0.1,<3.1.0,>=2.0.0->ipython>=6.0->pycroscopy==0.61.0-alpha) (0.2.5)\n",
            "Requirement already satisfied: dask>=0.10 in /usr/local/lib/python3.7/dist-packages (from pyUSID>=0.0.8->pycroscopy==0.61.0-alpha) (2022.2.0)\n",
            "Requirement already satisfied: toolz in /usr/local/lib/python3.7/dist-packages (from pyUSID>=0.0.8->pycroscopy==0.61.0-alpha) (0.11.2)\n",
            "Requirement already satisfied: h5py>=2.6.0 in /usr/local/lib/python3.7/dist-packages (from pyUSID>=0.0.8->pycroscopy==0.61.0-alpha) (3.1.0)\n",
            "Requirement already satisfied: cytoolz in /usr/local/lib/python3.7/dist-packages (from pyUSID>=0.0.8->pycroscopy==0.61.0-alpha) (0.11.2)\n",
            "Requirement already satisfied: partd>=0.3.10 in /usr/local/lib/python3.7/dist-packages (from dask>=0.10->pyUSID>=0.0.8->pycroscopy==0.61.0-alpha) (1.2.0)\n",
            "Requirement already satisfied: fsspec>=0.6.0 in /usr/local/lib/python3.7/dist-packages (from dask>=0.10->pyUSID>=0.0.8->pycroscopy==0.61.0-alpha) (2022.5.0)\n",
            "Requirement already satisfied: cloudpickle>=1.1.1 in /usr/local/lib/python3.7/dist-packages (from dask>=0.10->pyUSID>=0.0.8->pycroscopy==0.61.0-alpha) (2.1.0)\n",
            "Requirement already satisfied: packaging>=20.0 in /usr/local/lib/python3.7/dist-packages (from dask>=0.10->pyUSID>=0.0.8->pycroscopy==0.61.0-alpha) (21.3)\n",
            "Requirement already satisfied: pyyaml>=5.3.1 in /usr/local/lib/python3.7/dist-packages (from dask>=0.10->pyUSID>=0.0.8->pycroscopy==0.61.0-alpha) (6.0)\n",
            "Requirement already satisfied: cached-property in /usr/local/lib/python3.7/dist-packages (from h5py>=2.6.0->pyUSID>=0.0.8->pycroscopy==0.61.0-alpha) (1.5.2)\n",
            "Requirement already satisfied: locket in /usr/local/lib/python3.7/dist-packages (from partd>=0.3.10->dask>=0.10->pyUSID>=0.0.8->pycroscopy==0.61.0-alpha) (1.0.0)\n",
            "Requirement already satisfied: tifffile>=2019.7.26 in /usr/local/lib/python3.7/dist-packages (from scikit-image>=0.12.3->pycroscopy==0.61.0-alpha) (2021.11.2)\n",
            "Requirement already satisfied: networkx>=2.0 in /usr/local/lib/python3.7/dist-packages (from scikit-image>=0.12.3->pycroscopy==0.61.0-alpha) (2.6.3)\n",
            "Requirement already satisfied: PyWavelets>=1.1.1 in /usr/local/lib/python3.7/dist-packages (from scikit-image>=0.12.3->pycroscopy==0.61.0-alpha) (1.3.0)\n",
            "Requirement already satisfied: imageio>=2.3.0 in /usr/local/lib/python3.7/dist-packages (from scikit-image>=0.12.3->pycroscopy==0.61.0-alpha) (2.4.1)\n",
            "Requirement already satisfied: threadpoolctl>=2.0.0 in /usr/local/lib/python3.7/dist-packages (from scikit-learn>=0.17.1->pycroscopy==0.61.0-alpha) (3.1.0)\n",
            "Requirement already satisfied: distributed>=2.0.0psutil in /usr/local/lib/python3.7/dist-packages (from sidpy>=0.0.1->pycroscopy==0.61.0-alpha) (2022.2.0)\n",
            "Requirement already satisfied: sklearn in /usr/local/lib/python3.7/dist-packages (from sidpy>=0.0.1->pycroscopy==0.61.0-alpha) (0.0)\n",
            "Requirement already satisfied: ipyfilechooser>=0.0.6 in /usr/local/lib/python3.7/dist-packages (from sidpy>=0.0.1->pycroscopy==0.61.0-alpha) (0.6.0)\n",
            "Requirement already satisfied: msgpack>=0.6.0 in /usr/local/lib/python3.7/dist-packages (from distributed>=2.0.0psutil->sidpy>=0.0.1->pycroscopy==0.61.0-alpha) (1.0.3)\n",
            "Requirement already satisfied: sortedcontainers!=2.0.0,!=2.0.1 in /usr/local/lib/python3.7/dist-packages (from distributed>=2.0.0psutil->sidpy>=0.0.1->pycroscopy==0.61.0-alpha) (2.4.0)\n",
            "Requirement already satisfied: jinja2 in /usr/local/lib/python3.7/dist-packages (from distributed>=2.0.0psutil->sidpy>=0.0.1->pycroscopy==0.61.0-alpha) (2.11.3)\n",
            "Requirement already satisfied: zict>=0.1.3 in /usr/local/lib/python3.7/dist-packages (from distributed>=2.0.0psutil->sidpy>=0.0.1->pycroscopy==0.61.0-alpha) (2.2.0)\n",
            "Requirement already satisfied: click>=6.6 in /usr/local/lib/python3.7/dist-packages (from distributed>=2.0.0psutil->sidpy>=0.0.1->pycroscopy==0.61.0-alpha) (7.1.2)\n",
            "Requirement already satisfied: tblib>=1.6.0 in /usr/local/lib/python3.7/dist-packages (from distributed>=2.0.0psutil->sidpy>=0.0.1->pycroscopy==0.61.0-alpha) (1.7.0)\n",
            "Collecting nose\n",
            "  Downloading nose-1.3.7-py3-none-any.whl (154 kB)\n",
            "\u001b[K     |████████████████████████████████| 154 kB 66.1 MB/s \n",
            "\u001b[?25hRequirement already satisfied: notebook>=4.4.1 in /usr/local/lib/python3.7/dist-packages (from widgetsnbextension~=3.6.0->ipywidgets>=5.2.2->pycroscopy==0.61.0-alpha) (5.3.1)\n",
            "Requirement already satisfied: Send2Trash in /usr/local/lib/python3.7/dist-packages (from notebook>=4.4.1->widgetsnbextension~=3.6.0->ipywidgets>=5.2.2->pycroscopy==0.61.0-alpha) (1.8.0)\n",
            "Requirement already satisfied: nbconvert in /usr/local/lib/python3.7/dist-packages (from notebook>=4.4.1->widgetsnbextension~=3.6.0->ipywidgets>=5.2.2->pycroscopy==0.61.0-alpha) (5.6.1)\n",
            "Requirement already satisfied: terminado>=0.8.1 in /usr/local/lib/python3.7/dist-packages (from notebook>=4.4.1->widgetsnbextension~=3.6.0->ipywidgets>=5.2.2->pycroscopy==0.61.0-alpha) (0.13.3)\n",
            "Requirement already satisfied: pyzmq>=13 in /usr/local/lib/python3.7/dist-packages (from jupyter-client->ipykernel>=4.5.1->ipywidgets>=5.2.2->pycroscopy==0.61.0-alpha) (23.0.0)\n",
            "Requirement already satisfied: heapdict in /usr/local/lib/python3.7/dist-packages (from zict>=0.1.3->distributed>=2.0.0psutil->sidpy>=0.0.1->pycroscopy==0.61.0-alpha) (1.0.1)\n",
            "Requirement already satisfied: MarkupSafe>=0.23 in /usr/local/lib/python3.7/dist-packages (from jinja2->distributed>=2.0.0psutil->sidpy>=0.0.1->pycroscopy==0.61.0-alpha) (2.0.1)\n",
            "Requirement already satisfied: mistune<2,>=0.8.1 in /usr/local/lib/python3.7/dist-packages (from nbconvert->notebook>=4.4.1->widgetsnbextension~=3.6.0->ipywidgets>=5.2.2->pycroscopy==0.61.0-alpha) (0.8.4)\n",
            "Requirement already satisfied: pandocfilters>=1.4.1 in /usr/local/lib/python3.7/dist-packages (from nbconvert->notebook>=4.4.1->widgetsnbextension~=3.6.0->ipywidgets>=5.2.2->pycroscopy==0.61.0-alpha) (1.5.0)\n",
            "Requirement already satisfied: entrypoints>=0.2.2 in /usr/local/lib/python3.7/dist-packages (from nbconvert->notebook>=4.4.1->widgetsnbextension~=3.6.0->ipywidgets>=5.2.2->pycroscopy==0.61.0-alpha) (0.4)\n",
            "Requirement already satisfied: defusedxml in /usr/local/lib/python3.7/dist-packages (from nbconvert->notebook>=4.4.1->widgetsnbextension~=3.6.0->ipywidgets>=5.2.2->pycroscopy==0.61.0-alpha) (0.7.1)\n",
            "Requirement already satisfied: testpath in /usr/local/lib/python3.7/dist-packages (from nbconvert->notebook>=4.4.1->widgetsnbextension~=3.6.0->ipywidgets>=5.2.2->pycroscopy==0.61.0-alpha) (0.6.0)\n",
            "Requirement already satisfied: bleach in /usr/local/lib/python3.7/dist-packages (from nbconvert->notebook>=4.4.1->widgetsnbextension~=3.6.0->ipywidgets>=5.2.2->pycroscopy==0.61.0-alpha) (5.0.0)\n",
            "Requirement already satisfied: webencodings in /usr/local/lib/python3.7/dist-packages (from bleach->nbconvert->notebook>=4.4.1->widgetsnbextension~=3.6.0->ipywidgets>=5.2.2->pycroscopy==0.61.0-alpha) (0.5.1)\n",
            "Installing collected packages: nose, tensorly, pycroscopy\n",
            "Successfully installed nose-1.3.7 pycroscopy-0.61.0a0 tensorly-0.7.0\n"
          ]
        }
      ]
    },
    {
      "cell_type": "markdown",
      "source": [
        "## Import"
      ],
      "metadata": {
        "id": "5VrpMcRuyfNZ"
      }
    },
    {
      "cell_type": "code",
      "source": [
        "from google.colab import drive\n",
        "drive.mount('/content/drive/')"
      ],
      "metadata": {
        "id": "FbJl0j2bwqIm",
        "colab": {
          "base_uri": "https://localhost:8080/"
        },
        "outputId": "f8bc3c16-0f89-4b37-f403-f33a5e2d1403"
      },
      "execution_count": 1,
      "outputs": [
        {
          "output_type": "stream",
          "name": "stdout",
          "text": [
            "Drive already mounted at /content/drive/; to attempt to forcibly remount, call drive.mount(\"/content/drive/\", force_remount=True).\n"
          ]
        }
      ]
    },
    {
      "cell_type": "code",
      "source": [
        "cd /content/drive/MyDrive/BTO_4DSTEM/BF"
      ],
      "metadata": {
        "colab": {
          "base_uri": "https://localhost:8080/"
        },
        "id": "Wx6Td5O2wleG",
        "outputId": "6ba0eaf8-5d49-4be1-fdc7-bfeb943a9fdb"
      },
      "execution_count": 2,
      "outputs": [
        {
          "output_type": "stream",
          "name": "stdout",
          "text": [
            "/content/drive/MyDrive/BTO_4DSTEM/BF\n"
          ]
        }
      ]
    },
    {
      "cell_type": "code",
      "execution_count": 3,
      "metadata": {
        "hidden": true,
        "scrolled": true,
        "colab": {
          "base_uri": "https://localhost:8080/",
          "height": 35
        },
        "id": "ce544da3",
        "outputId": "e45ac382-a298-4987-a31e-4102358c9468"
      },
      "outputs": [
        {
          "output_type": "stream",
          "name": "stdout",
          "text": [
            "sidpy version:  0.0.9\n"
          ]
        }
      ],
      "source": [
        "# General utilities:\n",
        "import os\n",
        "import sys\n",
        "from time import time\n",
        "import imageio\n",
        "from skimage.color import rgb2gray\n",
        "\n",
        "\n",
        "import numpy as np\n",
        "import sidpy\n",
        "import matplotlib.pyplot as plt\n",
        "import h5py\n",
        "import pyNSID\n",
        "print('sidpy version: ', sidpy.__version__)\n",
        "\n",
        "\n",
        "from skimage.color import rgb2gray\n",
        "import imageio\n",
        "\n",
        "from tqdm import tqdm\n",
        "\n",
        "from scipy import ndimage\n",
        "\n",
        "#import the package\n",
        "import pycroscopy as px\n",
        "from pycroscopy.image import ImageWindowing\n",
        "\n",
        "import matplotlib.pyplot as plt\n",
        "import numpy as np\n",
        "from skimage.filters import difference_of_gaussians, window\n",
        "from scipy.fft import fftn, fftshift\n",
        "import torch\n",
        "from scipy import ndimage\n",
        "from skimage.transform import rescale\n",
        "import matplotlib.patches as patches\n",
        "from mpl_toolkits.axes_grid1 import make_axes_locatable\n",
        "\n",
        "import pycroscopy as px\n",
        "from pycroscopy.image import ImageWindowing\n",
        "\n",
        "from pdb import set_trace as bp\n",
        "\n",
        "import re\n",
        "from tqdm import tqdm\n",
        "import warnings\n",
        "warnings.filterwarnings(\"ignore\")\n",
        "import dask.array as da"
      ]
    },
    {
      "cell_type": "markdown",
      "source": [
        "## functions"
      ],
      "metadata": {
        "id": "m3cHgRhYyY_u"
      }
    },
    {
      "cell_type": "code",
      "execution_count": 4,
      "metadata": {
        "hidden": true,
        "id": "40a5132f"
      },
      "outputs": [],
      "source": [
        "def plot_window(x,y,image,windows):\n",
        "    '''\n",
        "    plot the filtered image, transform, and window\n",
        "    x: x index\n",
        "    y: y index\n",
        "    image: image you generated windows from\n",
        "    windows: dataset from h5 file generated from plotting windows\n",
        "    '''\n",
        "    \n",
        "    \n",
        "    fig = plt.figure(figsize=(16,8))\n",
        "    gs = fig.add_gridspec(2, 3)\n",
        "    axs = []\n",
        "    axs.append( fig.add_subplot(gs[:,0:2]) ) # large subplot (2 rows, 2 columns)\n",
        "    axs.append( fig.add_subplot(gs[0,2]) )   # small subplot (1st row, 3rd column)\n",
        "    axs.append(fig.add_subplot(gs[1,2]))\n",
        "    xi,yi = int((x+.5)*32),int((y+.5)*32)\n",
        "\n",
        "    axs[0].set_title('Full Image')\n",
        "    a1 = axs[0].imshow(image[:])\n",
        "    rect = patches.Rectangle((xi+32,yi+32),64,64,linewidth=2, edgecolor='r', facecolor='none')\n",
        "    axs[0].add_patch(rect)\n",
        "    divider = make_axes_locatable(axs[0])\n",
        "    cax = divider.append_axes('right', size='5%')\n",
        "    cb=fig.colorbar(a1, cax=cax, orientation='vertical', pad = 0.2)\n",
        "    cb.ax.xaxis.set_ticks_position('top')\n",
        "    cb.ax.xaxis.set_label_position('top')\n",
        "\n",
        "    fft = windows[x][y]\n",
        "    axs[1].set_title('fft tile')\n",
        "    a2 = axs[1].imshow((np.log(fft)))\n",
        "    divider = make_axes_locatable(axs[1])\n",
        "    cax = divider.append_axes('right', size='5%')\n",
        "    cb=fig.colorbar(a2, cax=cax, orientation='vertical', pad = 0.2)\n",
        "    cb.ax.xaxis.set_ticks_position('top')\n",
        "    cb.ax.xaxis.set_label_position('top')\n",
        "\n",
        "    # fft = dask.array.rechunk(fft,-1)\n",
        "    # ifft = np.fft.ifft2(fft).real\n",
        "    axs[2].set_title('unfiltered')\n",
        "    a3 = axs[2].imshow(image[xi:xi+64,yi:yi+64],vmax=1.,vmin=0.)\n",
        "    divider = make_axes_locatable(axs[2])\n",
        "    cax = divider.append_axes('right', size='5%')\n",
        "    cb=fig.colorbar(a3, cax=cax, orientation='vertical', pad = 0.2)\n",
        "    cb.ax.xaxis.set_ticks_position('top')\n",
        "    cb.ax.xaxis.set_label_position('top')\n",
        "\n",
        "    plt.tight_layout()\n",
        "    plt.show()"
      ]
    },
    {
      "cell_type": "code",
      "execution_count": 5,
      "metadata": {
        "hidden": true,
        "id": "697e3dd9"
      },
      "outputs": [],
      "source": [
        "def NormalizeData(data):\n",
        "    if np.max(data)==np.min(data): return data\n",
        "    else: return (data - np.min(data)) / (np.max(data) - np.min(data))\n",
        "\n",
        "def fft_transform(image):\n",
        "    '''\n",
        "    assert r.dtype==torch.float32, 'Suppose to be torch.float32, not '+str(r.dtype)\n",
        "    '''  \n",
        "    \n",
        "    image = torch.tensor(image)\n",
        "    out = torch.clone(image)\n",
        "    img_fft = torch.fft.fft2(image, dim=(0,1))\n",
        "    img_shift = torch.fft.fftshift(img_fft)\n",
        "    out = np.log(np.abs(img_shift))\n",
        "    \n",
        "    # abnormal value\n",
        "    out[out==-np.inf] = 0\n",
        "    \n",
        "    # scale to 0-1\n",
        "    out =  (out * 1/out.max())\n",
        "    return out.numpy()"
      ]
    },
    {
      "cell_type": "code",
      "execution_count": 6,
      "metadata": {
        "hidden": true,
        "scrolled": true,
        "id": "51b2658d"
      },
      "outputs": [],
      "source": [
        "def temp(e):\n",
        "    if len(e)<8:\n",
        "        return '-'+e[:-4].zfill(3)\n",
        "    else:\n",
        "        return '-0.png'\n",
        "\n",
        "def get_temps(env):\n",
        "    up = os.listdir(f'./{env}/Ramp_Up')\n",
        "    up.sort(key=temp)\n",
        "    up = list(map(lambda x:f'./{env}/Ramp_Up/'+x, up))\n",
        "\n",
        "    down = os.listdir(f'./{env}/Ramp_Down')\n",
        "    down.sort(key=temp,reverse=True)\n",
        "    # down = down.map(function(val) {return '.'+val;})\n",
        "    down = list(map(lambda x:f'./{env}/Ramp_Down/'+x, down))\n",
        "\n",
        "    temps = up+down\n",
        "    return temps"
      ]
    },
    {
      "cell_type": "markdown",
      "metadata": {
        "heading_collapsed": true,
        "id": "5ff7b225"
      },
      "source": [
        "# 1. Windowing\n",
        "You only need to do this section one time for each new dataset. I suggest commenting out this section when you are ready to start training the jVAE."
      ]
    },
    {
      "cell_type": "code",
      "source": [
        "env = '3.Annealed' # name of folder with the original bright field images\n",
        "combined = 'Combined_BF_Annealed_cropped.h5' # name of h5 file with cropped/filtered data, and fft images\n",
        "emb = 'Annealed Embeddings.h5' # name of h5 file with embeddings\n",
        "f = 'BF_jVAE_Annealed' # folder with saved checkpoints on embedding movies"
      ],
      "metadata": {
        "id": "eEM0eag4Qv9r"
      },
      "execution_count": 7,
      "outputs": []
    },
    {
      "cell_type": "code",
      "execution_count": 8,
      "metadata": {
        "hidden": true,
        "id": "94b78e9e",
        "outputId": "862d6134-b321-4916-bffb-e59a39df2956",
        "colab": {
          "base_uri": "https://localhost:8080/"
        }
      },
      "outputs": [
        {
          "output_type": "execute_result",
          "data": {
            "text/plain": [
              "43"
            ]
          },
          "metadata": {},
          "execution_count": 8
        }
      ],
      "source": [
        "# make list of file names for original bright field images\n",
        "\n",
        "temps = get_temps(env)\n",
        "t_len=len(temps)\n",
        "t_len"
      ]
    },
    {
      "cell_type": "markdown",
      "metadata": {
        "hidden": true,
        "id": "61325b5c"
      },
      "source": [
        "## Apply gaussian filters and crop into square. Load into h5 file"
      ]
    },
    {
      "cell_type": "code",
      "execution_count": 22,
      "metadata": {
        "hidden": true,
        "id": "bbbb3747",
        "colab": {
          "base_uri": "https://localhost:8080/"
        },
        "outputId": "bd0cf165-c742-4519-89f7-66d123120a08"
      },
      "outputs": [
        {
          "output_type": "stream",
          "name": "stderr",
          "text": [
            "100%|██████████| 43/43 [00:26<00:00,  1.60it/s]\n"
          ]
        }
      ],
      "source": [
        "# Roughly crop and apply gaussian filter on original image. \n",
        "# SKIP if you already made your h5 file\n",
        "\n",
        "\n",
        "c1,c2,step = 200,300,1400, # x starting point, y starting point, window size. In total, image is 2048px\n",
        "\n",
        "h = h5py.File(combined,'a') #put the name of the file you would like to use\n",
        "\n",
        "if 'All' in h.keys(): \n",
        "  del h['All']\n",
        "  h_write = h.create_dataset('All',(t_len,step,step),dtype='f4')\n",
        "h_write=h['All']\n",
        "\n",
        "if  'All_filtered' in h.keys(): \n",
        "  del h['All_filtered']\n",
        "  h_writef = h.create_dataset('All_filtered',(t_len,step,step),dtype='f4')\n",
        "h_writef=h['All_filtered']\n",
        "\n",
        "for i,temp in enumerate(tqdm(temps)):\n",
        "    im = rgb2gray(imageio.imread(temp))\n",
        "#     im[1850:,:400]=0 ## get rid of the scale\n",
        "    im1 = im[c1:c1+step,c2:c2+step] # crop\n",
        "    \n",
        "    h_write[i] = im1\n",
        "    \n",
        "    img_blur = ndimage.gaussian_filter(im1,20)\n",
        "    im1=im1-img_blur\n",
        "    im1=NormalizeData(im1)\n",
        "\n",
        "    h_writef[i] = im1\n",
        "    \n",
        "h.close()"
      ]
    },
    {
      "cell_type": "code",
      "execution_count": 23,
      "metadata": {
        "hidden": true,
        "id": "45074213",
        "outputId": "46a915d7-3d26-4c4f-e7ea-5e42f9607bf3",
        "colab": {
          "base_uri": "https://localhost:8080/",
          "height": 521
        }
      },
      "outputs": [
        {
          "output_type": "display_data",
          "data": {
            "text/plain": [
              "<Figure size 432x288 with 2 Axes>"
            ],
            "image/png": "[encoded data removed]"
          },
          "metadata": {
            "needs_background": "light"
          }
        },
        {
          "output_type": "display_data",
          "data": {
            "text/plain": [
              "<Figure size 432x288 with 2 Axes>"
            ],
            "image/png": "[encoded data removed]"
          },
          "metadata": {
            "needs_background": "light"
          }
        }
      ],
      "source": [
        "hf = h5py.File(combined,'a')\n",
        "i=-1\n",
        "\n",
        "plt.imshow(hf['All'][i])\n",
        "plt.colorbar()\n",
        "plt.show()\n",
        "plt.imshow(hf['All_filtered'][i])\n",
        "plt.colorbar()\n",
        "plt.show()"
      ]
    },
    {
      "cell_type": "markdown",
      "metadata": {
        "hidden": true,
        "id": "123130d2"
      },
      "source": [
        "## use pycroscopy to create windows and apply fft on original BF image"
      ]
    },
    {
      "cell_type": "code",
      "execution_count": 24,
      "metadata": {
        "hidden": true,
        "id": "149e111a",
        "outputId": "79db257f-83ca-49a1-cd65-9758f7a916eb",
        "colab": {
          "base_uri": "https://localhost:8080/"
        }
      },
      "outputs": [
        {
          "output_type": "stream",
          "name": "stdout",
          "text": [
            "image test is shape (128, 128)\n",
            "image zoomed is shape (64, 64)\n",
            "image zoomed interpol is shape (147, 147)\n"
          ]
        }
      ],
      "source": [
        "# make the windowing object\n",
        "\n",
        "import re\n",
        "from tqdm import tqdm\n",
        "import warnings\n",
        "warnings.filterwarnings(\"ignore\")\n",
        "import dask.array as da\n",
        "\n",
        "images=hf['All_filtered'][:]\n",
        "\n",
        "# Do some sliding FFT\n",
        "parms_dict = {}\n",
        "\n",
        "# Window parameters: you can tune these to make image higher resolution. \n",
        "# Smaller step size will result in higher resolution,\n",
        "parms_dict['window_step_x'] = 32\n",
        "parms_dict['window_step_y'] = 32\n",
        "parms_dict['window_size_x'] = 128\n",
        "parms_dict['window_size_y'] = 128\n",
        "\n",
        "#Mode parameters\n",
        "parms_dict['mode'] = 'fft' # want data in reciprocal space for jVAE\n",
        "parms_dict['fft_mode'] = 'abs' # return absolute values of fft\n",
        "parms_dict['interpol_factor'] = 2.3 \n",
        "parms_dict['zoom_factor'] = 2 #NOTE: Must be integer\n",
        "\n",
        "iw = ImageWindowing(parms_dict)"
      ]
    },
    {
      "cell_type": "code",
      "source": [
        "# write windows into a file\n",
        "# This may take a very long time! up to 30 minutes.\n",
        "from skimage.transform import resize\n",
        "\n",
        "h = h5py.File(combined,'a')\n",
        "\n",
        "grp = '128_fft_windows'\n",
        "dset = '128_fft_windows_dataset'\n",
        "logset = '128_fft_windows_logdata'\n",
        "\n",
        "if grp not in h.keys(): h_windows=h.create_group(grp)\n",
        "h_windows=h[grp]\n",
        "\n",
        "for i,image in enumerate(tqdm(images)):\n",
        "    data_image = sidpy.Dataset.from_array(image)\n",
        "    windows = iw.MakeWindows(data_image)\n",
        "    title = re.split('/|\\.',temps[i])[-3]+'_'+re.split('/|\\.',temps[i])[-2]\n",
        "    \n",
        "    if f'filler' in h[grp]: del h[grp][f'filler']\n",
        "    meas_grp = h[grp].create_group(f'filler')\n",
        "    \n",
        "    pyNSID.hdf_io.write_nsid_dataset(windows, meas_grp, main_data_name=\"windows\");    \n",
        "    a,b,x,y = h[grp]['filler']['windows']['windows'].shape\n",
        "    data = h[grp]['filler']['windows']['windows'][:].reshape(-1,x,y)\n",
        "    \n",
        "    if dset not in h_windows.keys(): d_windows=h[grp].create_dataset(dset,shape=(t_len*a*b,x,y))\n",
        "    d_windows=h[grp][dset]\n",
        "    d_windows[i*a*b:(i+1)*a*b] = data\n",
        "\n",
        "    if logset not in h_windows.keys(): logdata= h[grp].create_dataset(logset,shape=(t_len*a*b,1,128,128),dtype='f4')\n",
        "    logdata=h[grp][logset]\n",
        "    data = data.reshape(-1,1,x,y)\n",
        "    data = resize(data,(a*b,1,128,128))\n",
        "    data = np.log(data+1)\n",
        "    data[data>5]=5\n",
        "    logdata[i*a*b:(i+1)*a*b] = data\n",
        "    \n",
        "#     print(h[grp].keys())\n",
        "\n",
        "h.close()"
      ],
      "metadata": {
        "colab": {
          "base_uri": "https://localhost:8080/"
        },
        "id": "uRDJ6TArMP50",
        "outputId": "f9befc83-e004-4a8f-db70-fecf23c18c34"
      },
      "execution_count": 28,
      "outputs": [
        {
          "output_type": "stream",
          "name": "stderr",
          "text": [
            "100%|██████████| 43/43 [26:57<00:00, 37.62s/it]\n"
          ]
        }
      ]
    },
    {
      "cell_type": "markdown",
      "metadata": {
        "hidden": true,
        "id": "5n7M-iGppo9m"
      },
      "source": [
        "## Read from h5 and reshape"
      ]
    },
    {
      "cell_type": "code",
      "source": [
        "hf = h5py.File(combined, 'a')\n",
        "hf.keys()"
      ],
      "metadata": {
        "colab": {
          "base_uri": "https://localhost:8080/"
        },
        "id": "cMpRiOby2BFK",
        "outputId": "3a6ec1bc-68ba-4ed9-97c0-bde52d16bba1"
      },
      "execution_count": null,
      "outputs": [
        {
          "output_type": "execute_result",
          "data": {
            "text/plain": [
              "<KeysViewHDF5 ['128_fft_windows', 'All', 'All_filtered']>"
            ]
          },
          "metadata": {},
          "execution_count": 62
        }
      ]
    },
    {
      "cell_type": "code",
      "source": [
        "data = hf['128_fft_windows']['128_fft_windows_dataset']"
      ],
      "metadata": {
        "id": "Y-KYd43m5ybj"
      },
      "execution_count": null,
      "outputs": []
    },
    {
      "cell_type": "code",
      "execution_count": null,
      "metadata": {
        "hidden": true,
        "scrolled": true,
        "id": "UQLNk9VDpo9n",
        "outputId": "f2453cf0-e3c5-4225-fafb-d546c7330c53",
        "colab": {
          "base_uri": "https://localhost:8080/",
          "height": 286
        }
      },
      "outputs": [
        {
          "output_type": "execute_result",
          "data": {
            "text/plain": [
              "<matplotlib.colorbar.Colorbar at 0x7f82ad455a10>"
            ]
          },
          "metadata": {},
          "execution_count": 67
        },
        {
          "output_type": "display_data",
          "data": {
            "text/plain": [
              "<Figure size 432x288 with 2 Axes>"
            ],
            "image/png": "[encoded data removed]"
          },
          "metadata": {
            "needs_background": "light"
          }
        }
      ],
      "source": [
        "plt.imshow(np.log(data[16][20][10]))\n",
        "plt.colorbar()"
      ]
    },
    {
      "cell_type": "code",
      "execution_count": null,
      "metadata": {
        "hidden": true,
        "id": "SlcPn9Jrpo9n",
        "outputId": "7d16f557-9181-4404-a516-161b73dea2b6",
        "colab": {
          "base_uri": "https://localhost:8080/"
        }
      },
      "outputs": [
        {
          "output_type": "execute_result",
          "data": {
            "text/plain": [
              "(56, 46, 46, 128, 128)"
            ]
          },
          "metadata": {},
          "execution_count": 72
        }
      ],
      "source": [
        "(t,a,b,x,y) = data.shape\n",
        "t,a,b,x,y"
      ]
    },
    {
      "cell_type": "markdown",
      "metadata": {
        "id": "1R6ZEOtipo9p"
      },
      "source": [
        "# 2. jVae"
      ]
    },
    {
      "cell_type": "markdown",
      "source": [
        "## import"
      ],
      "metadata": {
        "id": "9Sxj2yEVTt6H"
      }
    },
    {
      "cell_type": "code",
      "source": [
        "from google.colab import drive\n",
        "drive.mount('/content/drive/')"
      ],
      "metadata": {
        "colab": {
          "base_uri": "https://localhost:8080/"
        },
        "outputId": "a889a1d7-6e31-467a-f45c-340ebbbb9854",
        "id": "HprY5jFRRcil"
      },
      "execution_count": null,
      "outputs": [
        {
          "output_type": "stream",
          "name": "stdout",
          "text": [
            "Drive already mounted at /content/drive/; to attempt to forcibly remount, call drive.mount(\"/content/drive/\", force_remount=True).\n"
          ]
        }
      ]
    },
    {
      "cell_type": "code",
      "source": [
        "cd /content/drive/MyDrive/BTO_4DSTEM/BF"
      ],
      "metadata": {
        "colab": {
          "base_uri": "https://localhost:8080/"
        },
        "outputId": "0bfaf393-c01e-42a6-8a97-815b742faeaf",
        "id": "9h90VSE3Rcio"
      },
      "execution_count": null,
      "outputs": [
        {
          "output_type": "stream",
          "name": "stdout",
          "text": [
            "/content/drive/MyDrive/BTO_4DSTEM/BF\n"
          ]
        }
      ]
    },
    {
      "cell_type": "code",
      "execution_count": null,
      "metadata": {
        "id": "O-5_oSQdpo9p"
      },
      "outputs": [],
      "source": [
        "#import hyperspy.api as hs\n",
        "import os\n",
        "# os.environ[\"CUDA_DEVICE_ORDER\"]=\"PCI_BUS_ID\" \n",
        "# os.environ[\"CUDA_VISIBLE_DEVICES\"]=\"0,1\"\n",
        "import matplotlib.pyplot as plt\n",
        "import numpy as np\n",
        "from sklearn.preprocessing import StandardScaler\n",
        "import torch\n",
        "from torch.autograd import Variable\n",
        "import torchvision\n",
        "import torch.nn as nn\n",
        "import torch.nn.functional as F\n",
        "from torchvision import datasets, models\n",
        "import torch.optim as optim\n",
        "from torch.optim import lr_scheduler\n",
        "from torch.utils.data import Dataset, DataLoader\n",
        "from torch.autograd import Function\n",
        "from collections import OrderedDict\n",
        "import torch.nn as nn\n",
        "import math\n",
        "import torchvision.models as models\n",
        "import torchvision.transforms as transforms\n",
        "import pickle\n",
        "import torch.autograd as autograd\n",
        "import matplotlib.gridspec as gridspec\n",
        "import h5py\n",
        "from tqdm import tqdm\n",
        "from scipy import ndimage as ndi\n",
        "from skimage.feature import peak_local_max\n",
        "from skimage import data, img_as_float\n",
        "import cv2\n",
        "from tqdm import tqdm\n",
        "from os.path import join as pjoin\n",
        "import glob as glob\n",
        "from moviepy.video.io.ImageSequenceClip import ImageSequenceClip\n",
        "\n",
        "from IPython.core.debugger import Pdb"
      ]
    },
    {
      "cell_type": "code",
      "execution_count": null,
      "metadata": {
        "id": "87nizD2Ppo9p"
      },
      "outputs": [],
      "source": [
        "from skimage.transform import resize"
      ]
    },
    {
      "cell_type": "code",
      "execution_count": null,
      "metadata": {
        "id": "d9l2raampo9q"
      },
      "outputs": [],
      "source": [
        "import torchvision.transforms as T"
      ]
    },
    {
      "cell_type": "code",
      "execution_count": null,
      "metadata": {
        "id": "4ig_TLpZpo9q"
      },
      "outputs": [],
      "source": [
        "import datetime\n",
        "from mpl_toolkits.axes_grid1 import make_axes_locatable\n",
        "import re"
      ]
    },
    {
      "cell_type": "code",
      "source": [
        "# Take the name to set device\n",
        "!nvidia-smi -L"
      ],
      "metadata": {
        "colab": {
          "base_uri": "https://localhost:8080/"
        },
        "id": "vVTgBkh9N4EE",
        "outputId": "937235ec-d450-490d-b6b8-25020f86f320"
      },
      "execution_count": null,
      "outputs": [
        {
          "output_type": "stream",
          "name": "stdout",
          "text": [
            "GPU 0: Tesla P100-PCIE-16GB (UUID: GPU-53012fa8-3b7f-d965-ab6c-64dfb015bb72)\n"
          ]
        }
      ]
    },
    {
      "cell_type": "code",
      "execution_count": null,
      "metadata": {
        "id": "Mlq1hU_1po9q"
      },
      "outputs": [],
      "source": [
        "device = torch.device('cuda:0')"
      ]
    },
    {
      "cell_type": "code",
      "source": [
        "env = '2.Oxygen' # name of folder with the original bright field images\n",
        "combined = 'Combined_BF_Oxygen_cropped.h5' # name of h5 file with cropped/filtered data, and fft images\n",
        "emb = 'Oxygen Embeddings.h5' # name of h5 file with embeddings\n",
        "f = 'BF_jVAE_O' # folder with saved checkpoints on embedding movies"
      ],
      "metadata": {
        "id": "-AgKTVezXpXh"
      },
      "execution_count": null,
      "outputs": []
    },
    {
      "cell_type": "markdown",
      "metadata": {
        "id": "Gx2Qj8iDpo9v"
      },
      "source": [
        "## Autoencoder model"
      ]
    },
    {
      "cell_type": "code",
      "execution_count": null,
      "metadata": {
        "id": "D175nJHDpo9v"
      },
      "outputs": [],
      "source": [
        "class conv_block(nn.Module):\n",
        "    def __init__(self,t_size,n_step):\n",
        "        super(conv_block,self).__init__()\n",
        "        self.cov1d_1 = nn.Conv2d(t_size,t_size,3,stride=1,padding=1,padding_mode = 'zeros')\n",
        "        self.cov1d_2 = nn.Conv2d(t_size,t_size,3,stride=1,padding=1,padding_mode = 'zeros')\n",
        "        self.cov1d_3 = nn.Conv2d(t_size,t_size,3,stride=1,padding=1,padding_mode = 'zeros')\n",
        "#         self.attention_1 = nn.MultiheadAttention(n_step, 1)\n",
        "#         self.attention_2 = nn.MultiheadAttention(n_step, 1)\n",
        "#         self.attention_3 = nn.MultiheadAttention(n_step, 1)\n",
        "#         self.norm_1 = nn.LayerNorm([n_step])\n",
        "#         self.norm_2 = nn.LayerNorm([n_step])\n",
        "        self.norm_3 = nn.LayerNorm(n_step)\n",
        "#        self.drop = nn.Dropout(p=0.2)\n",
        "#         self.relu_1 = nn.ReLU()\n",
        "#         self.relu_2 = nn.ReLU()\n",
        "#         self.relu_3 = nn.ReLU()\n",
        "        self.relu_4 = nn.ReLU()\n",
        "        \n",
        "    def forward(self,x):\n",
        "        x_input = x\n",
        "        out = self.cov1d_1(x)        \n",
        "        out = self.cov1d_2(out)\n",
        "        out = self.cov1d_3(out)\n",
        "        out = self.norm_3(out)        \n",
        "        out = self.relu_4(out)\n",
        "        out = out.add(x_input)\n",
        "#        output = self.drop(x)\n",
        "        \n",
        "        return out"
      ]
    },
    {
      "cell_type": "code",
      "execution_count": null,
      "metadata": {
        "id": "evyZquRapo9v"
      },
      "outputs": [],
      "source": [
        "class identity_block(nn.Module):\n",
        "    def __init__(self,t_size,n_step):\n",
        "        super(identity_block,self).__init__()\n",
        "        self.cov1d_1 = nn.Conv2d(t_size,t_size,3,stride=1,padding=1,padding_mode = 'zeros')\n",
        "#         self.attention_1 = nn.MultiheadAttention(n_step, 1)\n",
        "        self.norm_1 = nn.LayerNorm(n_step)\n",
        "#        self.drop = nn.Dropout(p=0.2)\n",
        "        self.relu = nn.ReLU()\n",
        "        \n",
        "        \n",
        "    def forward(self,x):\n",
        "        x_input = x\n",
        "        out = self.cov1d_1(x)\n",
        "        out = self.norm_1(out)\n",
        "        out = self.relu(out)\n",
        "\n",
        "        \n",
        "        return out"
      ]
    },
    {
      "cell_type": "code",
      "execution_count": null,
      "metadata": {
        "id": "7hpgBoH6po9w"
      },
      "outputs": [],
      "source": [
        "class Encoder(nn.Module):\n",
        "    def __init__(self,original_step_size,pool_list,embedding_size,conv_size):\n",
        "        super(Encoder,self).__init__()\n",
        "        \n",
        "        blocks = []\n",
        "        self.input_size_0 = original_step_size[0]\n",
        "        self.input_size_1 = original_step_size[1]\n",
        "        number_of_blocks = len(pool_list)\n",
        "        blocks.append(conv_block(t_size=conv_size, n_step=original_step_size))\n",
        "        blocks.append(identity_block(t_size=conv_size, n_step=original_step_size))\n",
        "        blocks.append(nn.MaxPool2d(pool_list[0], stride=pool_list[0]))\n",
        "        \n",
        "        for i in range(1,number_of_blocks):\n",
        "            original_step_size = [original_step_size[0]//pool_list[i-1],original_step_size[1]//pool_list[i-1]]\n",
        "            blocks.append(conv_block(t_size=conv_size, n_step=original_step_size))\n",
        "            blocks.append(identity_block(t_size=conv_size, n_step=original_step_size))\n",
        "            blocks.append(nn.MaxPool2d(pool_list[i], stride=pool_list[i])) \n",
        "            \n",
        "        self.block_layer = nn.ModuleList(blocks)\n",
        "        self.layers=len(blocks)\n",
        "        original_step_size = [original_step_size[0]//pool_list[-1],original_step_size[1]//pool_list[-1]]\n",
        "        \n",
        "        input_size = original_step_size[0]*original_step_size[1]\n",
        "        self.cov2d = nn.Conv2d(1,conv_size,3,stride=1,padding=1,padding_mode = 'zeros')\n",
        "        self.cov2d_1 = nn.Conv2d(conv_size,1,3,stride=1,padding=1,padding_mode = 'zeros')\n",
        "\n",
        "        self.relu_1 = nn.ReLU()\n",
        "\n",
        "        self.dense1 = nn.Linear(input_size,embedding_size)\n",
        "#         self.dense2 = nn.Linear(input_size,embedding_size)\n",
        "\n",
        "        \n",
        "    def forward(self,x):\n",
        "#        x = x.transpose(1,2)\n",
        "        out = x.view(-1,1,self.input_size_0,self.input_size_1)\n",
        "#        x = self.average(x)\n",
        "        out = self.cov2d(out)\n",
        "        for i in range(self.layers):\n",
        "            out = self.block_layer[i](out)\n",
        "        out = self.cov2d_1(out)\n",
        "#         print(out.shape)\n",
        "        out = torch.flatten(out,start_dim=1)\n",
        "#         print(out.shape)\n",
        "#        print(x.shape)\n",
        "#         x = x.transpose(1,2)\n",
        "#        encode,(_,__) = self.lstm(x)\n",
        "#        encode = encode[:,-1,:]\n",
        "        out = self.dense1(out)   \n",
        "        selection = self.relu_1(out)\n",
        "#         out_std = self.dense2(out)\n",
        "        \n",
        "#         print(selection.shape)\n",
        "        \n",
        "        \n",
        "        scale_1 = nn.Tanh()(out[:,0])*0.1+1\n",
        "        scale_2 = nn.Tanh()(out[:,1])*0.1+1\n",
        "        \n",
        "        trans_1 = out[:,3]\n",
        "        trans_2 = out[:,4]\n",
        "        \n",
        "        rotate = out[:,2]\n",
        "        \n",
        "        a_1 = torch.cos(rotate)\n",
        "#       a_2 = -torch.sin(selection)\n",
        "        a_2 = torch.sin(rotate)\n",
        "        a_4 = torch.ones(rotate.shape).to(device)\n",
        "        a_5 = rotate*0\n",
        "        \n",
        "        b1 = torch.stack((a_1,a_2), dim=1).squeeze()\n",
        "        b2 = torch.stack((-a_2,a_1), dim=1).squeeze()\n",
        "        b3 = torch.stack((a_5,a_5), dim=1).squeeze()\n",
        "        rotation = torch.stack((b1, b2, b3),dim=2)\n",
        "#         print(rotation.shape)\n",
        "        \n",
        "        c1 = torch.stack((scale_1,a_5), dim=1).squeeze()\n",
        "        c2 = torch.stack((a_5,scale_2), dim=1).squeeze()\n",
        "        c3 = torch.stack((a_5,a_5), dim=1).squeeze()\n",
        "        scaler = torch.stack((c1, c2, c3),dim=2)\n",
        "\n",
        "        d1 = torch.stack((a_4,a_5), dim=1).squeeze()\n",
        "        d2 = torch.stack((a_5,a_4), dim=1).squeeze()\n",
        "        d3 = torch.stack((trans_1,trans_2), dim=1).squeeze()\n",
        "        translation = torch.stack((d1, d2, d3),dim=2)\n",
        "        \n",
        "        size_grid = torch.ones([x.shape[0],1,2,2])\n",
        "        \n",
        "        \n",
        "        grid_1 = F.affine_grid(rotation.to(device), size_grid.size()).to(device)\n",
        "#         out_r = F.grid_sample(x, grid_1)\n",
        "        grid_2 = F.affine_grid(scaler.to(device), size_grid.size()).to(device)\n",
        "#         out_s = F.grid_sample(out_r, grid_2)\n",
        "        grid_3 = F.affine_grid(translation.to(device), size_grid.size()).to(device)\n",
        "#         output = F.grid_sample(out_s, grid_3)\n",
        "#         print(selection.shape)\n",
        "#         print(grid_1.shape)\n",
        "        final_out = torch.stack((selection, grid_1.reshape(x.shape[0],-1), grid_2.reshape(x.shape[0],-1), grid_3.reshape(x.shape[0],-1)), dim=1).squeeze()\n",
        "        \n",
        "        return final_out, rotation, scaler, translation"
      ]
    },
    {
      "cell_type": "code",
      "execution_count": null,
      "metadata": {
        "id": "b2IjjCdcpo9w"
      },
      "outputs": [],
      "source": [
        "class Decoder(nn.Module):\n",
        "    def __init__(self,original_step_size,up_list,embedding_size,conv_size):\n",
        "        super(Decoder,self).__init__() \n",
        "        self.input_size_0 = original_step_size[0]\n",
        "        self.input_size_1 = original_step_size[1]\n",
        "        self.dense = nn.Linear(embedding_size+8*3,original_step_size[0]*original_step_size[1])\n",
        "        self.cov2d = nn.Conv2d(1,conv_size,3,stride=1,padding=1,padding_mode = 'zeros')\n",
        "        self.cov2d_1 = nn.Conv2d(conv_size,1,3,stride=1,padding=1,padding_mode = 'zeros')\n",
        "        \n",
        "        blocks = []\n",
        "        number_of_blocks = len(pool_list)\n",
        "        blocks.append(conv_block(t_size=conv_size, n_step=original_step_size))\n",
        "        blocks.append(identity_block(t_size=conv_size, n_step=original_step_size))\n",
        "        \n",
        "        for i in range(number_of_blocks):\n",
        "            blocks.append(nn.Upsample(scale_factor=up_list[i], mode='bilinear', align_corners=True))\n",
        "            original_step_size = [original_step_size[0]*up_list[i],original_step_size[1]*up_list[i]]\n",
        "            blocks.append(conv_block(t_size=conv_size, n_step=original_step_size))\n",
        "            blocks.append(identity_block(t_size=conv_size, n_step=original_step_size))\n",
        "            \n",
        "        self.block_layer = nn.ModuleList(blocks)\n",
        "        self.layers=len(blocks)\n",
        "        \n",
        "        self.output_size_0 = original_step_size[0]\n",
        "        self.output_size_1 = original_step_size[1]\n",
        "\n",
        "        \n",
        "    def forward(self,x):\n",
        " #       x = x[:,:,None]\n",
        "#         Pdb().set_trace()\n",
        "        x=x.reshape(-1,embedding_size+8*3)\n",
        "        out = self.dense(x)\n",
        " #       x = x[:,:,None]\n",
        "#         Pdb().set_trace()\n",
        "#         print('1 ', out.shape)\n",
        "\n",
        "        out = out.view(-1,1,self.input_size_0,self.input_size_1)\n",
        "#         print('2 ', out.shape)\n",
        "\n",
        "\n",
        "        out = self.cov2d(out)\n",
        "#         print('3 ', out.shape)\n",
        "\n",
        "        for i in range(self.layers):\n",
        "            out = self.block_layer[i](out)\n",
        "            \n",
        "        out = self.cov2d_1(out)\n",
        "#         print('4 ', out.shape)\n",
        "\n",
        "#        x = x.transpose(1,2)\n",
        "        output = out.view(-1, self.output_size_0, self.output_size_1)\n",
        "        \n",
        "        return output\n",
        "        "
      ]
    },
    {
      "cell_type": "code",
      "execution_count": null,
      "metadata": {
        "id": "vLzXlQcdpo9x"
      },
      "outputs": [],
      "source": [
        "class VAE(nn.Module):\n",
        "    ''' This the VAE, which takes a encoder and decoder.\n",
        "\n",
        "    '''\n",
        "\n",
        "    def __init__(self, enc, dec):\n",
        "        super().__init__()\n",
        "\n",
        "        self.enc = enc\n",
        "        self.dec = dec\n",
        "\n",
        "    def forward(self, x):\n",
        "        # encode\n",
        "        encoded = self.enc(x)\n",
        "\n",
        "        # sample from the distribution having latent parameters z_mu, z_var\n",
        "        # reparameterize\n",
        "#         print('vae',encoded.shape)\n",
        "        # decode\n",
        "        predicted = self.dec(encoded[0])\n",
        "        \n",
        "        return encoded, predicted"
      ]
    },
    {
      "cell_type": "code",
      "execution_count": null,
      "metadata": {
        "id": "rjz2b6jGpo9x"
      },
      "outputs": [],
      "source": [
        "class Regularization(nn.Module):\n",
        "    def __init__(self, model, weight_decay, p=2):\n",
        "        '''\n",
        "        :param model\n",
        "        :param weight_decay: coeifficient of \n",
        "        :param p: p=1 is l1 regularization, p=2 is l2 regularizaiton\n",
        "        '''\n",
        "        super(Regularization, self).__init__()\n",
        "        if weight_decay < 0:\n",
        "            print(\"param weight_decay can not <0\")\n",
        "            exit(0)\n",
        "        self.model = model\n",
        "        self.weight_decay = weight_decay\n",
        "        self.p = p\n",
        "        self.weight_list = self.get_weight(model)\n",
        "\n",
        "    #       self.weight_info(self.weight_list)\n",
        "\n",
        "    def to(self, device):\n",
        "        '''\n",
        "        :param device: cude or cpu\n",
        "        :return:\n",
        "        '''\n",
        "        self.device = device\n",
        "        super().to(device)\n",
        "        return self\n",
        "\n",
        "    def forward(self, model):\n",
        "        self.weight_list = self.get_weight(model)  \n",
        "        reg_loss = self.regularization_loss(self.weight_list, self.weight_decay, p=self.p)\n",
        "        return reg_loss\n",
        "\n",
        "    def get_weight(self, model):\n",
        "        '''\n",
        "        :param model: model\n",
        "        :return: list of layers needs to be regularized  \n",
        "        '''\n",
        "        weight_list = []\n",
        "        for name, param in model.named_parameters():\n",
        "            if 'dec' in name and 'weight' in name:\n",
        "                weight = (name, param)\n",
        "                weight_list.append(weight)\n",
        "        return weight_list\n",
        "\n",
        "    def regularization_loss(self, weight_list, weight_decay, p):\n",
        "        '''\n",
        "        :param weight_list: list of layers needs to be regularized  \n",
        "        :param p: p=1 is l1 regularization, p=2 is l2 regularizaiton\n",
        "        :param weight_decay: coeifficient\n",
        "        :return: loss\n",
        "        '''\n",
        "        # weight_decay=Variable(torch.FloatTensor([weight_decay]).to(self.device),requires_grad=True)\n",
        "        # reg_loss=Variable(torch.FloatTensor([0.]).to(self.device),requires_grad=True)\n",
        "        # weight_decay=torch.FloatTensor([weight_decay]).to(self.device)\n",
        "        # reg_loss=torch.FloatTensor([0.]).to(self.device)\n",
        "        reg_loss = 0\n",
        "        for name, w in weight_list:\n",
        "            l2_reg = torch.norm(w, p=p)\n",
        "            reg_loss = reg_loss + l2_reg\n",
        "\n",
        "        reg_loss = weight_decay * reg_loss\n",
        "        return reg_loss\n",
        "\n",
        "    def weight_info(self, weight_list):\n",
        "        '''\n",
        "        :param weight_list:\n",
        "        :return: list of layers' name needs to be regularized  \n",
        "        '''\n",
        "        print(\"---------------regularization weight---------------\")\n",
        "        for name, w in weight_list:\n",
        "            print(name)"
      ]
    },
    {
      "cell_type": "code",
      "execution_count": null,
      "metadata": {
        "id": "rKDAVq5Ipo9y"
      },
      "outputs": [],
      "source": [
        "def loss_function(model,\n",
        "                  encoder,\n",
        "                  decoder,\n",
        "                  train_iterator,\n",
        "                  optimizer,\n",
        "                  coef = 0, \n",
        "                  coef1 = 0,\n",
        "                  ln_parm = 1, \n",
        "                  beta = None):\n",
        "\n",
        "    weight_decay = coef\n",
        "    weight_decay_1 = coef1\n",
        "#     print(train_iterator)\n",
        "    # set the train mode\n",
        "    model.train()\n",
        "\n",
        "    # loss of the epoch\n",
        "    train_loss = 0\n",
        "#     print(train_iterator)\n",
        "    #    for i, x in enumerate(train_iterator):\n",
        "    for x in tqdm(train_iterator, leave=True, total=len(train_iterator)):\n",
        "        \n",
        "        reg_loss_2 = Regularization(model, weight_decay_1, p=2).to(device)\n",
        "     \n",
        "        x_ = x.to(device, dtype=torch.float)\n",
        "\n",
        "        # update the gradients to zero\n",
        "        optimizer.zero_grad()\n",
        "\n",
        "        if beta is None: \n",
        "        \n",
        "          embedding = encoder(x_)[0]\n",
        "        \n",
        "        else:\n",
        "        \n",
        "          # forward pass\n",
        "          #        predicted_x = model(x)\n",
        "          embedding,sd,mn = encoder(x_)\n",
        "        \n",
        "        if weight_decay > 0:\n",
        "            reg_loss_1 = weight_decay * torch.norm(embedding, ln_parm).to(device)\n",
        "        else:\n",
        "            reg_loss_1 = 0.0 \n",
        "        \n",
        "        encoded,predicted = model(x_)\n",
        "        embedding = encoded[0]\n",
        "        # reconstruction loss\n",
        "#         print(x_.shape)\n",
        "#         print(predicted.shape)\n",
        "        loss = F.mse_loss(x_, predicted, reduction='mean')\n",
        "\n",
        "        \n",
        "        loss = loss +  reg_loss_1 #+reg_loss_2(model) \n",
        "            \n",
        "        if beta is not None:\n",
        "            vae_loss = beta * 0.5 * torch.sum(torch.exp(sd) + (mn)**2 - 1.0 - sd).to(device)\n",
        "            vae_loss/= (sd.shape[0]*sd.shape[1])\n",
        "        else:\n",
        "            vae_loss=0\n",
        "\n",
        "        loss = loss + vae_loss\n",
        "        \n",
        "        # backward pass\n",
        "        train_loss += loss.item()\n",
        "\n",
        "        loss.backward()\n",
        "        # update the weights\n",
        "        optimizer.step()\n",
        "\n",
        "    return train_loss"
      ]
    },
    {
      "cell_type": "code",
      "execution_count": null,
      "metadata": {
        "id": "oMqqvs5npo9y"
      },
      "outputs": [],
      "source": [
        "def Train(model,encoder,decoder,train_iterator,optimizer,\n",
        "          epochs,coef=0,coef_1=0,ln_parm=1, beta=None, epoch_ = None,folder='BF_jVAE'):\n",
        "#     N_EPOCHS = epochs\n",
        "    best_train_loss = float('inf')\n",
        "    epoch = epoch_\n",
        "    \n",
        "    today = datetime.datetime.now()\n",
        "    date = today.strftime('(%Y-%m-%d, %H:%M)')\n",
        "            \n",
        "#     if epoch_==None:\n",
        "#         start_epoch = 0\n",
        "#     else:\n",
        "#         start_epoch = epoch_+1\n",
        "\n",
        "#     print('train ',train_iterator)\n",
        "#     for epoch in range(start_epoch,N_EPOCHS):\n",
        "    train = loss_function(model,encoder,decoder,train_iterator,\n",
        "                          optimizer,coef,coef_1,ln_parm,beta)\n",
        "    train_loss = train\n",
        "    train_loss /= len(train_iterator)\n",
        "#        VAE_L /= len(train_iterator)\n",
        "    print(f'Epoch {epoch}, Train Loss: {train_loss:.4f}, coef: {coef:.7f}')\n",
        "#        print(f'......... VAE Loss: {VAE_L:.4f}')\n",
        "#     print('.............................')\n",
        "  #  schedular.step()\n",
        "    if best_train_loss > train_loss:\n",
        "        best_train_loss = train_loss\n",
        "        patience_counter = 1\n",
        "        checkpoint = {\n",
        "            \"net\": model.state_dict(),\n",
        "            \"encoder\":encoder.state_dict(),\n",
        "            \"decoder\":decoder.state_dict(),\n",
        "            'optimizer': optimizer.state_dict(),\n",
        "            \"epoch\": epoch,\n",
        "        }\n",
        "\n",
        "\n",
        "        if epoch >=0:\n",
        "            torch.save(checkpoint,\n",
        "                       f'./{folder}/{date}_epoch:{epoch:05d}_trainloss:{train_loss:.4f}_coef:{coef:.4E}.pkl')"
      ]
    },
    {
      "cell_type": "markdown",
      "metadata": {
        "id": "7RYdKEeppo9z"
      },
      "source": [
        "## Helper Functions"
      ]
    },
    {
      "cell_type": "code",
      "execution_count": null,
      "metadata": {
        "id": "2G6V6w6qpo9z"
      },
      "outputs": [],
      "source": [
        "printing = {'PNG':True,\n",
        "            'EPS':False, \n",
        "           'dpi': 300}"
      ]
    },
    {
      "cell_type": "code",
      "execution_count": null,
      "metadata": {
        "id": "heBaeb_8po9z"
      },
      "outputs": [],
      "source": [
        "def make_folder(folder, **kwargs):\n",
        "    \"\"\"\n",
        "    Function that makes new folders\n",
        "    Parameters\n",
        "    ----------'\n",
        "    folder : string\n",
        "        folder where to save\n",
        "    Returns\n",
        "    -------\n",
        "    folder : string\n",
        "        folder where to save\n",
        "    \"\"\"\n",
        "\n",
        "    # Makes folder\n",
        "    os.makedirs(folder, exist_ok=True)\n",
        "\n",
        "    return (folder)"
      ]
    },
    {
      "cell_type": "code",
      "execution_count": null,
      "metadata": {
        "id": "gsT9ukTopo9z"
      },
      "outputs": [],
      "source": [
        "def find_nearest(array, value, averaging_number):\n",
        "    \"\"\"\n",
        "    returns the indices nearest to a value in an image\n",
        "    Parameters\n",
        "    ----------\n",
        "    array : float, array\n",
        "        image to find the index closest to a value\n",
        "    value : float\n",
        "        value to find points near\n",
        "    averaging_number : int\n",
        "        number of points to find\n",
        "    \"\"\"\n",
        "    idx = (np.abs(array-value)).argsort()[0:averaging_number]\n",
        "    return idx"
      ]
    },
    {
      "cell_type": "code",
      "execution_count": null,
      "metadata": {
        "id": "mnytvXrYpo90"
      },
      "outputs": [],
      "source": [
        "def savefig(filename, printing):\n",
        "\n",
        "    \"\"\"\n",
        "    function that saves the figure\n",
        "\n",
        "    :param filename: path to save file\n",
        "    :type filename: string\n",
        "    :param printing: contains information for printing\n",
        "                     'dpi': int\n",
        "                            resolution of exported image\n",
        "                      print_EPS : bool\n",
        "                            selects if export the EPS\n",
        "                      print_PNG : bool\n",
        "                            selects if print the PNG\n",
        "    :type printing: dictionary\n",
        "\n",
        "    \"\"\"\n",
        "\n",
        "\n",
        "    # Saves figures at EPS\n",
        "    if printing['EPS']:\n",
        "        plt.savefig(filename + '.eps', format='eps',\n",
        "                    dpi=printing['dpi']#, bbox_inches='tight'\n",
        "                   )\n",
        "\n",
        "    # Saves figures as PNG\n",
        "    if printing['PNG']:\n",
        "        plt.savefig(filename + '.png', format='png',\n",
        "                    dpi=printing['dpi'],#, bbox_inches='tight'\n",
        "                    facecolor = 'white'\n",
        "                   )"
      ]
    },
    {
      "cell_type": "code",
      "execution_count": null,
      "metadata": {
        "id": "wAyrLkbZpo91"
      },
      "outputs": [],
      "source": [
        "def make_movie(movie_name, input_folder, output_folder, file_format,\n",
        "                            fps, output_format = 'mp4', reverse = False):\n",
        "\n",
        "    \"\"\"\n",
        "    Function which makes movies from an image series\n",
        "\n",
        "    Parameters\n",
        "    ----------\n",
        "    movie_name : string\n",
        "        name of the movie\n",
        "    input_folder  : string\n",
        "        folder where the image series is located\n",
        "    output_folder  : string\n",
        "        folder where the movie will be saved\n",
        "    file_format  : string\n",
        "        sets the format of the files to import\n",
        "    fps  : numpy, int\n",
        "        frames per second\n",
        "    output_format  : string, optional\n",
        "        sets the format for the output file\n",
        "        supported types .mp4 and gif\n",
        "        animated gif create large files\n",
        "    reverse : bool, optional\n",
        "        sets if the movie will be one way of there and back\n",
        "    \"\"\"\n",
        "\n",
        "    # searches the folder and finds the files\n",
        "    file_list = glob.glob('./' + input_folder + '/*.' + file_format)\n",
        "\n",
        "    # Sorts the files by number makes 2 lists to go forward and back\n",
        "    list.sort(file_list)\n",
        "    file_list_rev = glob.glob('./' + input_folder + '/*.' + file_format)\n",
        "    list.sort(file_list_rev,reverse=True)\n",
        "\n",
        "    # combines the file list if including the reverse\n",
        "    if reverse:\n",
        "        new_list = file_list + file_list_rev\n",
        "    else:\n",
        "        new_list = file_list\n",
        "\n",
        "\n",
        "    if output_format == 'gif':\n",
        "        # makes an animated gif from the images\n",
        "        clip = ImageSequenceClip(new_list, fps=fps)\n",
        "        clip.write_gif(output_folder + '/{}.gif'.format(movie_name), fps=fps)\n",
        "    else:\n",
        "        # makes and mp4 from the images\n",
        "        clip = ImageSequenceClip(new_list, fps=fps)\n",
        "        clip.write_videofile(output_folder + '/{}.mp4'.format(movie_name), fps=fps)"
      ]
    },
    {
      "cell_type": "code",
      "execution_count": null,
      "metadata": {
        "id": "y0tmO6INpo91"
      },
      "outputs": [],
      "source": [
        "def layout_fig(graph, mod=None):\n",
        "    \"\"\"\n",
        "    Sets the layout of graphs in matplotlib in a pretty way based on the number of plots\n",
        "    Parameters\n",
        "    ----------\n",
        "    graphs : int\n",
        "        number of axes to make\n",
        "    mod : int (optional)\n",
        "        sets the number of figures per row\n",
        "    Returns\n",
        "    -------\n",
        "    fig : matplotlib figure\n",
        "        handel to figure being created.\n",
        "    axes : numpy array (axes)\n",
        "        numpy array of axes that are created.\n",
        "    \"\"\"\n",
        "#     print(graph)\n",
        "\n",
        "    if mod is None:\n",
        "        # Selects the number of columns to have in the graph\n",
        "        if graph < 3:\n",
        "            mod = 2\n",
        "        elif graph < 5:\n",
        "            mod = 3\n",
        "        elif graph < 10:\n",
        "            mod = 4\n",
        "        elif graph < 17:\n",
        "            mod = 5\n",
        "        elif graph < 26:\n",
        "            mod = 6\n",
        "        elif graph < 37:\n",
        "            mod = 7\n",
        "        else:\n",
        "            mod = graph\n",
        "            \n",
        "            \n",
        "    mod =int(mod)\n",
        "    graph = int(graph)\n",
        "\n",
        "    # builds the figure based on the number of graphs and selected number of columns\n",
        "    fig, axes = plt.subplots(graph // mod + (graph % mod > 0), mod,\n",
        "                             figsize=(3 * mod, 3 * (graph // mod + (graph % mod > 0))))\n",
        "\n",
        "    axes = axes.reshape(-1)\n",
        "    for i, ax in enumerate(axes):\n",
        "        if i >= graph: \n",
        "            fig.delaxes(ax)\n",
        "    \n",
        "    # deletes extra unneeded axes\n",
        "    \n",
        "    axes = axes[:graph]\n",
        "\n",
        "    return (fig, axes)"
      ]
    },
    {
      "cell_type": "markdown",
      "metadata": {
        "id": "IOM0bdivpo9r"
      },
      "source": [
        "\n",
        "## Download and look at the data"
      ]
    },
    {
      "cell_type": "code",
      "execution_count": null,
      "metadata": {
        "id": "YM_qoPH5po9r"
      },
      "outputs": [],
      "source": [
        "hf = h5py.File(combined,'a')\n",
        "(t,a,b,x,y) = hf['128_fft_windows']['128_fft_windows_dataset'].shape"
      ]
    },
    {
      "cell_type": "code",
      "execution_count": null,
      "metadata": {
        "id": "9lAUMsZIpo9s",
        "colab": {
          "base_uri": "https://localhost:8080/"
        },
        "outputId": "ecb112b3-6b40-4b6f-f15d-81aa3e421295"
      },
      "outputs": [
        {
          "output_type": "execute_result",
          "data": {
            "text/plain": [
              "(118496, 1, 128, 128)"
            ]
          },
          "metadata": {},
          "execution_count": 63
        }
      ],
      "source": [
        "hf = h5py.File('Combined_BF_Vacuum_cropped.h5','a')\n",
        "logdata=hf['128_fft_windows']['128_fft_windows_logdata']\n",
        "logdata.shape"
      ]
    },
    {
      "cell_type": "code",
      "execution_count": null,
      "metadata": {
        "scrolled": true,
        "id": "PX3EaQTEpo9t",
        "outputId": "1fca02b9-8b7a-4421-a9d9-abd8bc316076",
        "colab": {
          "base_uri": "https://localhost:8080/",
          "height": 287
        }
      },
      "outputs": [
        {
          "output_type": "execute_result",
          "data": {
            "text/plain": [
              "<matplotlib.colorbar.Colorbar at 0x7fe8c6073910>"
            ]
          },
          "metadata": {},
          "execution_count": 64
        },
        {
          "output_type": "display_data",
          "data": {
            "text/plain": [
              "<Figure size 432x288 with 2 Axes>"
            ],
            "image/png": "[encoded data removed]"
          },
          "metadata": {
            "needs_background": "light"
          }
        }
      ],
      "source": [
        "plt.imshow(logdata[0][0])\n",
        "plt.colorbar()"
      ]
    },
    {
      "cell_type": "markdown",
      "metadata": {
        "id": "D-T5wITopo91"
      },
      "source": [
        "## set jVAE parameters and train:\n",
        "* en_original_step_size: input image data size\n",
        "* pool_list: pooling parameters for each maxpool layer\n",
        "* embedding_size: number of embedding channels\n",
        "* conv_size: number of filters for each CNN layer\n",
        "* de_original_step_size: the original image size for the decoder to recover to the input image data size\n",
        "* up_list: upsample parameters for each upsampling layer"
      ]
    },
    {
      "cell_type": "code",
      "execution_count": null,
      "metadata": {
        "id": "Go89Hvv3po92"
      },
      "outputs": [],
      "source": [
        "[xdim,ydim] = logdata.shape[-2:]"
      ]
    },
    {
      "cell_type": "code",
      "execution_count": null,
      "metadata": {
        "id": "f3Q24q_Epo92"
      },
      "outputs": [],
      "source": [
        "en_original_step_size=[xdim,ydim]\n",
        "pool_list=[4,4,2]\n",
        "\n",
        "de_original_step_size = [8,8]\n",
        "up_list = [2,2,4]\n",
        "embedding_size=8\n",
        "conv_size =128\n",
        "\n",
        "batch_size=16"
      ]
    },
    {
      "cell_type": "code",
      "execution_count": null,
      "metadata": {
        "id": "X02-sTaRpo92"
      },
      "outputs": [],
      "source": [
        "encoder = Encoder(original_step_size=en_original_step_size,\n",
        "                  pool_list=pool_list,\n",
        "                  embedding_size=embedding_size,\n",
        "                  conv_size=conv_size).to(device)\n",
        "\n",
        "decoder = Decoder(original_step_size=de_original_step_size,\n",
        "                  up_list=up_list,\n",
        "                  embedding_size=embedding_size,\n",
        "                  conv_size=conv_size).to(device)\n",
        "model = VAE(encoder, decoder).to(device)\n",
        "\n",
        "# optimizer\n",
        "optimizer = optim.Adam(model.parameters(), lr=3e-5)"
      ]
    },
    {
      "cell_type": "code",
      "execution_count": null,
      "metadata": {
        "id": "c9w77QH_po92"
      },
      "outputs": [],
      "source": [
        "train_iterator = DataLoader(logdata[:], batch_size=16,\n",
        "                        shuffle=True)"
      ]
    },
    {
      "cell_type": "code",
      "execution_count": null,
      "metadata": {
        "id": "fehsqXRtpo93"
      },
      "outputs": [],
      "source": [
        "# load the trained weights. Do this if you want to start off from a specific epoch.\n",
        "\n",
        "path_checkpoint = './BF_jVAE/(2022-03-30, 08:47)_epoch:00132_trainloss:0.3150_coef:5.2500E-08.pkl'\n",
        "\n",
        "\n",
        "checkpoint = torch.load(path_checkpoint)  \n",
        "\n",
        "model.load_state_dict(checkpoint['net'])\n",
        "encoder.load_state_dict(checkpoint['encoder'])\n",
        "decoder.load_state_dict(checkpoint['decoder'])\n",
        "optimizer.load_state_dict(checkpoint['optimizer']) \n",
        "start_epoch = checkpoint['epoch']\n",
        "\n",
        "date = re.split('/|_',path_checkpoint)[-4]+' '+re.split('/|_',path_checkpoint)[-3]\n",
        "epoch,coef = re.split(':|_',path_checkpoint)[-5],re.split(':|_',path_checkpoint)[-1][:-4]"
      ]
    },
    {
      "cell_type": "code",
      "source": [
        "coef, epoch = 0,0 # if you are training from scratch\n",
        "\n",
        "epoch,coef = re.split(':|_',path_checkpoint)[-5],re.split(':|_',path_checkpoint)[-1][:-4] # if you are loading from a checkpoint\n",
        "folder = make_folder(f)\n",
        "\n",
        "if epoch<20: \n",
        "    while epoch<20:\n",
        "        Train(model,encoder,decoder,train_iterator,optimizer,epochs=2000,coef=coef,epoch_=epoch,folder=folder)\n",
        "        epoch = epoch+1\n",
        "        \n",
        "for i in range(1000): # stop when you see small difference in loss\n",
        "    if i%5==0: coef+=2.5e-8\n",
        "    Train(model,encoder,decoder,train_iterator,optimizer,2000,coef=coef,epoch_=epoch,folder=folder)\n",
        "    epoch = epoch+1"
      ],
      "metadata": {
        "id": "76cPQLMCZ7Ls"
      },
      "execution_count": null,
      "outputs": []
    },
    {
      "cell_type": "markdown",
      "metadata": {
        "id": "sknHz3PWpo94"
      },
      "source": [
        "# Load the model weights and show results"
      ]
    },
    {
      "cell_type": "code",
      "source": [
        "pwd"
      ],
      "metadata": {
        "colab": {
          "base_uri": "https://localhost:8080/",
          "height": 35
        },
        "id": "CT-hV5oIdBye",
        "outputId": "ea7219cf-6855-4eb6-de7b-42d27385daca"
      },
      "execution_count": null,
      "outputs": [
        {
          "output_type": "execute_result",
          "data": {
            "text/plain": [
              "'/content/drive/MyDrive/BTO_4DSTEM/BF'"
            ],
            "application/vnd.google.colaboratory.intrinsic+json": {
              "type": "string"
            }
          },
          "metadata": {},
          "execution_count": 20
        }
      ]
    },
    {
      "cell_type": "code",
      "execution_count": null,
      "metadata": {
        "id": "3NH3Fb6Qpo94"
      },
      "outputs": [],
      "source": [
        "[xdim,ydim] = logdata.shape[-2:]"
      ]
    },
    {
      "cell_type": "code",
      "execution_count": null,
      "metadata": {
        "id": "zD_5jT0wpo94"
      },
      "outputs": [],
      "source": [
        "en_original_step_size=[xdim,ydim]\n",
        "pool_list=[4,4,2]\n",
        "\n",
        "de_original_step_size = [8,8]\n",
        "up_list = [2,2,4]\n",
        "embedding_size=8\n",
        "conv_size =128\n",
        "\n",
        "batch_size=16"
      ]
    },
    {
      "cell_type": "code",
      "execution_count": null,
      "metadata": {
        "id": "a3Wl4PoYpo94"
      },
      "outputs": [],
      "source": [
        "encoder = Encoder(original_step_size=en_original_step_size,\n",
        "                  pool_list=pool_list,\n",
        "                  embedding_size=embedding_size,\n",
        "                  conv_size=conv_size).to(device)\n",
        "\n",
        "decoder = Decoder(original_step_size=de_original_step_size,\n",
        "                  up_list=up_list,\n",
        "                  embedding_size=embedding_size,\n",
        "                  conv_size=conv_size).to(device)\n",
        "model = VAE(encoder, decoder).to(device)\n",
        "\n",
        "# optimizer\n",
        "optimizer = optim.Adam(model.parameters(), lr=3e-5)"
      ]
    },
    {
      "cell_type": "code",
      "execution_count": null,
      "metadata": {
        "id": "n39NP1hDpo98"
      },
      "outputs": [],
      "source": [
        "# load the trained weights\n",
        "\n",
        "path_checkpoint = './BF_jVAE/(2022-03-30, 08:47)_epoch:00132_trainloss:0.3150_coef:5.2500E-08.pkl'\n",
        "\n",
        "\n",
        "checkpoint = torch.load(path_checkpoint)  \n",
        "\n",
        "model.load_state_dict(checkpoint['net'])\n",
        "encoder.load_state_dict(checkpoint['encoder'])\n",
        "decoder.load_state_dict(checkpoint['decoder'])\n",
        "optimizer.load_state_dict(checkpoint['optimizer']) \n",
        "start_epoch = checkpoint['epoch']\n",
        "\n",
        "date = re.split('/|_',path_checkpoint)[-4]+' '+re.split('/|_',path_checkpoint)[-3]\n",
        "date = re.split('/|_',path_checkpoint)[-4]+' '+re.split('/|_',path_checkpoint)[-3]\n",
        "h_dataset_name = f'{date} embedding'\n",
        "h_transforms_name = f'{date} transforms'"
      ]
    },
    {
      "cell_type": "code",
      "execution_count": null,
      "metadata": {
        "id": "wGXXSa_Fpo98"
      },
      "outputs": [],
      "source": [
        "model.to(device);\n",
        "encoder.to(device);\n",
        "decoder.to(device);"
      ]
    },
    {
      "cell_type": "markdown",
      "metadata": {
        "id": "vQOhGU0Ipo99"
      },
      "source": [
        "## calculate embeddings"
      ]
    },
    {
      "cell_type": "code",
      "execution_count": null,
      "metadata": {
        "id": "6zS7SRLzpo99"
      },
      "outputs": [],
      "source": [
        "train_iterator = DataLoader(logdata, batch_size=batch_size,\n",
        "                        shuffle=False)\n",
        "\n",
        "embedding_ = np.zeros([data.shape[0],embedding_size])\n",
        "rotation_ = np.zeros([data.shape[0],6])\n",
        "translation_ = np.zeros([data.shape[0],6])\n",
        "scaling_ = np.zeros([data.shape[0],6])"
      ]
    },
    {
      "cell_type": "code",
      "execution_count": null,
      "metadata": {
        "scrolled": true,
        "id": "rms-43GZpo99",
        "outputId": "755234c5-73db-4650-c809-8093b9917bc3"
      },
      "outputs": [
        {
          "name": "stderr",
          "output_type": "stream",
          "text": [
            "7406it [03:00, 41.09it/s]"
          ]
        },
        {
          "name": "stdout",
          "output_type": "stream",
          "text": [
            "7406\n"
          ]
        },
        {
          "name": "stderr",
          "output_type": "stream",
          "text": [
            "\n"
          ]
        }
      ],
      "source": [
        "# calculate embeddings and transformations\n",
        "# calculate embeddings and transformations\n",
        "h = h5py.File(emb,'a')\n",
        "\n",
        "j = 0\n",
        "for i, x in enumerate(tqdm(train_iterator)):\n",
        "    if h_dataset_name not in h.keys(): h_write_e = h.create_dataset(h_dataset_name,(logdata.shape[0],4,embedding_size),dtype='f4')\n",
        "    h_write_e=h[h_dataset_name]\n",
        "    \n",
        "    if h_transforms_name not in h.keys(): h_write_t = h.create_dataset(h_transforms_name,(logdata.shape[0],3,6),dtype='f4')   \n",
        "    h_write_t=h[h_transforms_name]\n",
        "       \n",
        "    with torch.no_grad():\n",
        "        value = x\n",
        "        test_value = Variable(value.to(device))\n",
        "        test_value = test_value.float()\n",
        "        #    result,a,b,c = model(test_value)\n",
        "        encoded = encoder(test_value)\n",
        "        b_len = x.shape[0]\n",
        "#         print(i,x.shape, encoded[0].shape)\n",
        "        \n",
        "        embedding = encoded[0].squeeze().to('cpu').detach().numpy()\n",
        "        h_write_e[i*b_len:(i+1)*b_len] = embedding\n",
        "    \n",
        "        rotation = encoded[1].reshape(b_len,6).to('cpu').detach().numpy()\n",
        "        scaling = encoded[2].reshape(b_len,6).to('cpu').detach().numpy()\n",
        "        translation = encoded[3].reshape(b_len,6).to('cpu').detach().numpy()\n",
        "        h_write_t[i*b_len:(i+1)*b_len] = np.stack([rotation,translation,scaling],axis=1)\n",
        "        \n",
        "        j=j+1\n",
        "print(j)\n",
        "h.close()"
      ]
    },
    {
      "cell_type": "markdown",
      "metadata": {
        "id": "xNQuz3ddpo9-"
      },
      "source": [
        "## Show the embedding and reconstruction and make movie"
      ]
    },
    {
      "cell_type": "code",
      "execution_count": null,
      "metadata": {
        "id": "EtIvGueZpo9_",
        "outputId": "c592961d-de6e-40f1-8012-fe447d4c6eb8",
        "colab": {
          "base_uri": "https://localhost:8080/"
        }
      },
      "outputs": [
        {
          "output_type": "execute_result",
          "data": {
            "text/plain": [
              "<KeysViewHDF5 []>"
            ]
          },
          "metadata": {},
          "execution_count": 21
        }
      ],
      "source": [
        "h = h5py.File(emb,'a')\n",
        "h.keys()"
      ]
    },
    {
      "cell_type": "code",
      "execution_count": null,
      "metadata": {
        "id": "oJ-Ps9o7po9_",
        "colab": {
          "base_uri": "https://localhost:8080/",
          "height": 171
        },
        "outputId": "c239757c-88c2-4df9-8ce3-071930f7efbd"
      },
      "outputs": [
        {
          "output_type": "error",
          "ename": "NameError",
          "evalue": "ignored",
          "traceback": [
            "\u001b[0;31m---------------------------------------------------------------------------\u001b[0m",
            "\u001b[0;31mNameError\u001b[0m                                 Traceback (most recent call last)",
            "\u001b[0;32m<ipython-input-22-345169285099>\u001b[0m in \u001b[0;36m<module>\u001b[0;34m()\u001b[0m\n\u001b[0;32m----> 1\u001b[0;31m \u001b[0membedding_1\u001b[0m \u001b[0;34m=\u001b[0m \u001b[0mh\u001b[0m\u001b[0;34m[\u001b[0m\u001b[0mh_dataset_name\u001b[0m\u001b[0;34m]\u001b[0m\u001b[0;34m[\u001b[0m\u001b[0;34m:\u001b[0m\u001b[0;34m]\u001b[0m\u001b[0;34m.\u001b[0m\u001b[0mreshape\u001b[0m\u001b[0;34m(\u001b[0m\u001b[0;36m56\u001b[0m\u001b[0;34m,\u001b[0m\u001b[0;36m46\u001b[0m\u001b[0;34m,\u001b[0m\u001b[0;36m46\u001b[0m\u001b[0;34m,\u001b[0m\u001b[0membedding_size\u001b[0m\u001b[0;34m)\u001b[0m\u001b[0;34m\u001b[0m\u001b[0;34m\u001b[0m\u001b[0m\n\u001b[0m",
            "\u001b[0;31mNameError\u001b[0m: name 'h_dataset_name' is not defined"
          ]
        }
      ],
      "source": [
        "embedding_1 = h[h_dataset_name][:].reshape(t_len,a,b,-1)"
      ]
    },
    {
      "cell_type": "code",
      "execution_count": null,
      "metadata": {
        "id": "vXvnRli0po-A"
      },
      "outputs": [],
      "source": [
        "rotation_1 = h[h_transforms_name][0].reshape(t_len,a,b,-1)\n",
        "translation_1 = h[h_transforms_name][1].reshape(t_len,a,b,-1)\n",
        "scaling_1 = h[h_transforms_name][2].reshape(t_len,a,b,-1)"
      ]
    },
    {
      "cell_type": "code",
      "execution_count": null,
      "metadata": {
        "id": "mChysUmmpo-A"
      },
      "outputs": [],
      "source": [
        "xyscaling = np.zeros((t_len,a,b))\n",
        "rotations = np.zeros((t_len,a,b))\n",
        "translations = np.zeros((t_len,a,b))\n",
        "\n",
        "for t in range(t_len):\n",
        "    for i in range(a):\n",
        "        for j in range(b):\n",
        "            \n",
        "            acos = np.arccos(rotation_1[t,i,j,0])\n",
        "            asin = np.arcsin(rotation_1[t,i,j,3])\n",
        "\n",
        "            if acos>0:\n",
        "                if asin<0: theta = 2*np.pi+asin\n",
        "                else: theta = asin\n",
        "            if acos<0:\n",
        "                if asin<0: theta = theta = np.pi-asin\n",
        "                else: theta = acos\n",
        "\n",
        "            rotations[t,i,j] = theta\n",
        "            xyscaling[t,i,j] = np.sqrt(np.square(scaling_1[t,i,j,0]) + np.square(scaling_1[t,i,j,4]))\n",
        "            translations[t,i,j] = np.sqrt(np.square(translation_1[t,i,j,2]) + np.square(translation_1[t,i,j,5]))"
      ]
    },
    {
      "cell_type": "code",
      "execution_count": null,
      "metadata": {
        "scrolled": true,
        "id": "1TyDpte1po-A"
      },
      "outputs": [],
      "source": [
        "fig, axes = plt.subplots(nrows=1,ncols=4,figsize=(16,4))\n",
        "\n",
        "axes[0].set_title('Embedding')\n",
        "axes[0].hist(embedding_1.flatten())\n",
        "\n",
        "axes[1].set_title('Scaling')\n",
        "axes[1].hist(scaling_1.flatten())\n",
        "\n",
        "axes[2].set_title('Rotation')\n",
        "axes[2].hist(rotation_1.flatten())\n",
        "\n",
        "axes[3].set_title('Translation')\n",
        "axes[3].hist(translation_1.flatten())\n",
        "\n",
        "plt.tight_layout()"
      ]
    },
    {
      "cell_type": "code",
      "execution_count": null,
      "metadata": {
        "id": "1jUfUhjKpo-B"
      },
      "outputs": [],
      "source": [
        "max_e,min_e = embedding_1.max(),embedding_1.min()\n",
        "max_s,min_s = xyscaling.max(), scaling_1.min()\n",
        "max_t,min_t = translation_1.max(), translation_1.min()\n",
        "folder = make_folder(f'./BF_jVAE/{date} combined/')"
      ]
    },
    {
      "cell_type": "code",
      "execution_count": null,
      "metadata": {
        "scrolled": true,
        "id": "3QlkTdKWpo-B"
      },
      "outputs": [],
      "source": [
        "import io\n",
        "import PIL\n",
        "\n",
        "\n",
        "# make images of embeddings+original image\n",
        "for t,temp in enumerate(tqdm(temps)):\n",
        "    title = re.split('/|\\.',temp)[-3]+'_'+re.split('/|\\.',temp)[-2]\n",
        "    orig = hf['All'][t]\n",
        "\n",
        "\n",
        "    fig = plt.figure(figsize=(24,16))\n",
        "    gs = fig.add_gridspec(4,6)\n",
        "    axs = []\n",
        "    axs.append( fig.add_subplot(gs[:,:2]) ) # large subplot (2 rows, 2 columns)\n",
        "    axs.append( fig.add_subplot(gs[:,2:4]) ) # large subplot (2 rows, 2 columns)\n",
        "    axs.append( fig.add_subplot(gs[:,4:6]) ) # large subplot (2 rows, 2 columns)\n",
        "    fig.suptitle({title})\n",
        "    # for i in range(4):\n",
        "    #     for j in range(1,3):\n",
        "    #         axs.append( fig.add_axes(gs[i:i+1,j:j+1]) )   # small subplot (1st row, 3rd column)\n",
        "\n",
        "    # for i in [0,1,2]:\n",
        "    #     for j in [4,5]:\n",
        "    #         axs.append(fig.add_subplot(gs[i:i+1,j:j+1]))\n",
        "\n",
        "    axs[0].set_title('Full Image')\n",
        "    a0 = axs[0].imshow(orig)\n",
        "    divider = make_axes_locatable(axs[0])\n",
        "    cax = divider.append_axes('right', size='5%')\n",
        "    cb=fig.colorbar(a0, cax=cax, orientation='vertical', pad = 0.2)\n",
        "    cb.ax.xaxis.set_ticks_position('top')\n",
        "    cb.ax.xaxis.set_label_position('top')\n",
        "\n",
        "\n",
        "    #Embeddings\n",
        "\n",
        "    axs[1].set_title('Embeddings')\n",
        "    axs[1].axis('off')\n",
        "    fig_e, axes_e = layout_fig(embedding_size, mod=2);\n",
        "    for j, axe in enumerate(axes_e):\n",
        "        ax=axe.imshow(embedding_1[t,:,:,j].T,vmin=min_e,vmax=max_e)\n",
        "        divider = make_axes_locatable(axe)\n",
        "        cax = divider.append_axes('right', size='5%')\n",
        "        cb=fig.colorbar(ax, cax=cax, orientation='vertical')\n",
        "        cb.ax.xaxis.set_ticks_position('top')\n",
        "        cb.ax.xaxis.set_label_position('top')\n",
        "    fig_e.tight_layout();\n",
        "    img_buf = io.BytesIO()\n",
        "    fig_e.savefig(img_buf,bbox_inches='tight',format='png')\n",
        "    im = PIL.Image.open(img_buf)\n",
        "    axs[1].imshow(im)\n",
        "    img_buf.close()\n",
        "\n",
        "\n",
        "    #Transforms\n",
        "\n",
        "    axs[2].set_title('Transforms')\n",
        "    axs[2].axis('off')\n",
        "    fig_t, axes = layout_fig(6, mod=2)\n",
        "    title = re.split('/|\\.',temp)[-3]+'_'+re.split('/|\\.',temp)[-2]\n",
        "\n",
        "    ax=axes[0].imshow(scaling_1[t,:,:,0].T,vmin=min_s,vmax=max_s);\n",
        "    axes[0].set_title('x scaling')\n",
        "    divider = make_axes_locatable(axes[0])\n",
        "    cax = divider.append_axes('right', size='5%')\n",
        "    cb=fig.colorbar(ax, cax=cax, orientation='vertical')\n",
        "    cb.ax.xaxis.set_ticks_position('top')\n",
        "    cb.ax.xaxis.set_label_position('top')\n",
        "\n",
        "    ax=axes[1].imshow(scaling_1[t,:,:,4].T,vmin=min_s,vmax=max_s);\n",
        "    axes[1].set_title('y scaling')\n",
        "    divider = make_axes_locatable(axes[1])\n",
        "    cax = divider.append_axes('right', size='5%')\n",
        "    cb=fig.colorbar(ax, cax=cax, orientation='vertical')\n",
        "    cb.ax.xaxis.set_ticks_position('top')\n",
        "    cb.ax.xaxis.set_label_position('top')\n",
        "    plt.tight_layout()\n",
        "\n",
        "    ax=axes[2].imshow(xyscaling[t].T,vmin=min_s,vmax=max_s);\n",
        "    axes[2].set_title('combined scaling')\n",
        "    divider = make_axes_locatable(axes[2])\n",
        "    cax = divider.append_axes('right', size='5%')\n",
        "    cb=fig.colorbar(ax, cax=cax, orientation='vertical')\n",
        "    cb.ax.xaxis.set_ticks_position('top')\n",
        "    cb.ax.xaxis.set_label_position('top')\n",
        "    plt.tight_layout()\n",
        "\n",
        "    ax=axes[3].imshow(rotations[t].T);\n",
        "    axes[3].set_title('rotation (rad)')\n",
        "    divider = make_axes_locatable(axes[3])\n",
        "    cax = divider.append_axes('right', size='5%')\n",
        "    cb=fig.colorbar(ax, cax=cax, orientation='vertical')\n",
        "    cb.ax.xaxis.set_ticks_position('top')\n",
        "    cb.ax.xaxis.set_label_position('top')\n",
        "    plt.tight_layout()\n",
        "\n",
        "    ax=axes[4].imshow(translation_1[t,:,:,2].T,vmin=min_t,vmax=max_t);\n",
        "    axes[4].set_title('x translation')\n",
        "    divider = make_axes_locatable(axes[4])\n",
        "    cax = divider.append_axes('right', size='5%')\n",
        "    cb=fig.colorbar(ax, cax=cax, orientation='vertical')\n",
        "    cb.ax.xaxis.set_ticks_position('top')\n",
        "    cb.ax.xaxis.set_label_position('top')\n",
        "    plt.tight_layout()\n",
        "\n",
        "    ax=axes[5].imshow(translation_1[t,:,:,5].T,vmin=min_t,vmax=max_t);\n",
        "    axes[5].set_title('y translation')\n",
        "    divider = make_axes_locatable(axes[5])\n",
        "    cax = divider.append_axes('right', size='5%')\n",
        "    cb=fig.colorbar(ax, cax=cax, orientation='vertical')\n",
        "    cb.ax.xaxis.set_ticks_position('top')\n",
        "    cb.ax.xaxis.set_label_position('top')\n",
        "    plt.tight_layout()\n",
        "\n",
        "    fig_t.tight_layout();\n",
        "    img_buf = io.BytesIO()\n",
        "    fig_t.savefig(img_buf,bbox_inches='tight',format='png')\n",
        "    im = PIL.Image.open(img_buf)\n",
        "    axs[2].imshow(im)\n",
        "    img_buf.close()\n",
        "\n",
        "\n",
        "    fig.tight_layout()\n",
        "    fig.savefig(folder+f'{t:02d}.png',facecolor='white');\n"
      ]
    },
    {
      "cell_type": "code",
      "execution_count": null,
      "metadata": {
        "id": "oEjZ_IQkpo-C"
      },
      "outputs": [],
      "source": [
        "make_movie('combined',\n",
        "           folder,\n",
        "           folder,\n",
        "           'png',\n",
        "          3)"
      ]
    },
    {
      "cell_type": "code",
      "execution_count": null,
      "metadata": {
        "id": "OK8KU0PRpo-D"
      },
      "outputs": [],
      "source": [
        "embedding_1.shape"
      ]
    },
    {
      "cell_type": "code",
      "execution_count": null,
      "metadata": {
        "scrolled": true,
        "id": "IzRzaHLQpo-D"
      },
      "outputs": [],
      "source": [
        "# threshholding\n",
        "\n",
        "from skimage.filters import (threshold_otsu, threshold_niblack,\n",
        "                             threshold_sauvola)\n",
        "\n",
        "\n",
        "image = embedding_1[0,:,:,0]\n",
        "binary_global = image > threshold_otsu(image)\n",
        "\n",
        "window_size = 25\n",
        "thresh_niblack = threshold_niblack(image, window_size=window_size, k=0.8)\n",
        "thresh_sauvola = threshold_sauvola(image, window_size=window_size)\n",
        "\n",
        "binary_niblack = image > thresh_niblack\n",
        "binary_sauvola = image > thresh_sauvola\n",
        "\n",
        "plt.figure(figsize=(8, 7))\n",
        "plt.subplot(2, 2, 1)\n",
        "plt.imshow(image, cmap=plt.cm.gray)\n",
        "plt.title('Original')\n",
        "plt.axis('off')\n",
        "\n",
        "plt.subplot(2, 2, 2)\n",
        "plt.title('Global Threshold')\n",
        "plt.imshow(binary_global, cmap=plt.cm.gray)\n",
        "plt.axis('off')\n",
        "\n",
        "plt.subplot(2, 2, 3)\n",
        "plt.imshow(binary_niblack, cmap=plt.cm.gray)\n",
        "plt.title('Niblack Threshold')\n",
        "plt.axis('off')\n",
        "\n",
        "plt.subplot(2, 2, 4)\n",
        "plt.imshow(binary_sauvola, cmap=plt.cm.gray)\n",
        "plt.title('Sauvola Threshold')\n",
        "plt.axis('off')\n",
        "\n",
        "plt.show()"
      ]
    },
    {
      "cell_type": "code",
      "execution_count": null,
      "metadata": {
        "id": "sezJKqsCpo-E"
      },
      "outputs": [],
      "source": [
        ""
      ]
    },
    {
      "cell_type": "markdown",
      "metadata": {
        "id": "t-nXev-Zpo-E"
      },
      "source": [
        "# analyze embeddings"
      ]
    },
    {
      "cell_type": "markdown",
      "metadata": {
        "id": "SCzfaMHZpo-E"
      },
      "source": [
        "## Label embeddings with orientation names\n",
        "\n",
        "* count number of orientations and label as string\n",
        "* before forming the mask, you may need to play aroudn with some of the embeddings. For instance, dividing an embedding by the warping, or by a very bright embedding to segment out other areas.\n",
        "* maybe best to do each embedding separately"
      ]
    },
    {
      "cell_type": "markdown",
      "metadata": {
        "id": "zVZUfJJhpo-F"
      },
      "source": [
        "## make masks\n",
        "* pick out layer with warping. divide all imgs by it to get rid of warping a bit\n",
        "* if mean>0.5, use global threshold. else, use threshold = mean+2*std"
      ]
    },
    {
      "cell_type": "code",
      "execution_count": null,
      "metadata": {
        "id": "0f55PihYpo-G"
      },
      "outputs": [],
      "source": [
        "# label and channel number manually.\n",
        "emb_dict = {'-45': 4,'0': 0,'45': 7,'90':6}"
      ]
    },
    {
      "cell_type": "code",
      "execution_count": null,
      "metadata": {
        "id": "6bOwL1dTpo-H",
        "outputId": "74c0659a-e4a0-4201-9750-1e8d586b9e2b"
      },
      "outputs": [
        {
          "data": {
            "text/plain": [
              "dict_values([4, 0, 7, 6])"
            ]
          },
          "execution_count": 67,
          "metadata": {},
          "output_type": "execute_result"
        }
      ],
      "source": [
        "emb_dict.values()"
      ]
    },
    {
      "cell_type": "code",
      "execution_count": null,
      "metadata": {
        "id": "asr6TvYdpo-I"
      },
      "outputs": [],
      "source": [
        "from skimage import morphology\n",
        "from skimage.filters import threshold_otsu\n",
        "\n",
        "def make_mask(timage_idx, warp_idx):\n",
        "    '''\n",
        "    prints image, warp, histogram, and mask\n",
        "    image: 2D embedding channel to make a mask of.\n",
        "    warp: 2D embedding channel with the warp instead of the feature\n",
        "    ---\n",
        "    returns: mask\n",
        "    '''\n",
        "    warp=embedding_1[0,:,:,3]\n",
        "    warp/=warp.max()\n",
        "    image = ch0/(warp+1)\n",
        "    image = image/image.max()\n"
      ]
    },
    {
      "cell_type": "code",
      "execution_count": null,
      "metadata": {
        "scrolled": true,
        "id": "WsjLlrvZpo-J",
        "outputId": "b6409a94-af6e-4ed3-e86c-4dd86c868c79"
      },
      "outputs": [
        {
          "data": {
            "text/plain": [
              "<matplotlib.colorbar.Colorbar at 0x7fcad9df5400>"
            ]
          },
          "execution_count": 85,
          "metadata": {},
          "output_type": "execute_result"
        },
        {
          "data": {
            "image/png": "[encoded data removed]",
            "text/plain": [
              "<Figure size 432x288 with 2 Axes>"
            ]
          },
          "metadata": {
            "needs_background": "light"
          },
          "output_type": "display_data"
        }
      ],
      "source": [
        "warp=embedding_1[0,:,:,3]\n",
        "warp/=warp.max()\n",
        "plt.imshow(warp)\n",
        "plt.colorbar()"
      ]
    },
    {
      "cell_type": "code",
      "execution_count": null,
      "metadata": {
        "id": "dpCh_4rppo-K"
      },
      "outputs": [],
      "source": [
        "warp/=warp.max()"
      ]
    },
    {
      "cell_type": "code",
      "execution_count": null,
      "metadata": {
        "id": "OSpt9_dmpo-K",
        "outputId": "dcdfb5dd-11d9-4bf5-d22f-d4f4fdddc108"
      },
      "outputs": [
        {
          "data": {
            "text/plain": [
              "<matplotlib.colorbar.Colorbar at 0x7fcad9b9af40>"
            ]
          },
          "execution_count": 87,
          "metadata": {},
          "output_type": "execute_result"
        },
        {
          "data": {
            "image/png": "[encoded data removed]",
            "text/plain": [
              "<Figure size 432x288 with 2 Axes>"
            ]
          },
          "metadata": {
            "needs_background": "light"
          },
          "output_type": "display_data"
        }
      ],
      "source": [
        "ch0 = embedding_1[0,:,:,0]\n",
        "plt.imshow(ch0)\n",
        "plt.colorbar()"
      ]
    },
    {
      "cell_type": "code",
      "execution_count": null,
      "metadata": {
        "scrolled": true,
        "id": "zIm6TGVEpo-K",
        "outputId": "3fad7a5b-3a81-4631-d988-02b4f343f997"
      },
      "outputs": [
        {
          "data": {
            "text/plain": [
              "<matplotlib.colorbar.Colorbar at 0x7fcad92179a0>"
            ]
          },
          "execution_count": 113,
          "metadata": {},
          "output_type": "execute_result"
        },
        {
          "data": {
            "image/png": "[encoded data removed]",
            "text/plain": [
              "<Figure size 432x288 with 2 Axes>"
            ]
          },
          "metadata": {
            "needs_background": "light"
          },
          "output_type": "display_data"
        }
      ],
      "source": [
        "image = ch0/(warp+1)\n",
        "image = image/image.max()\n",
        "plt.imshow(image)\n",
        "plt.colorbar()"
      ]
    },
    {
      "cell_type": "code",
      "execution_count": null,
      "metadata": {
        "id": "6B1T6I36po-L",
        "outputId": "aae3cd17-ac95-4710-f72e-d2b0cd844829"
      },
      "outputs": [
        {
          "data": {
            "text/plain": [
              "<matplotlib.image.AxesImage at 0x7fcad94578b0>"
            ]
          },
          "execution_count": 103,
          "metadata": {},
          "output_type": "execute_result"
        },
        {
          "data": {
            "image/png": "[encoded data removed]",
            "text/plain": [
              "<Figure size 432x288 with 1 Axes>"
            ]
          },
          "metadata": {
            "needs_background": "light"
          },
          "output_type": "display_data"
        }
      ],
      "source": [
        "proc=morphology.opening(image)\n",
        "plt.imshow(proc)"
      ]
    },
    {
      "cell_type": "code",
      "execution_count": null,
      "metadata": {
        "scrolled": false,
        "id": "MjsqFDgcpo-L",
        "outputId": "5faf7bd5-bead-46da-86b2-a5cef42eabc4"
      },
      "outputs": [
        {
          "data": {
            "text/plain": [
              "<matplotlib.image.AxesImage at 0x7fcad94b2e50>"
            ]
          },
          "execution_count": 104,
          "metadata": {},
          "output_type": "execute_result"
        },
        {
          "data": {
            "image/png": "[encoded data removed]",
            "text/plain": [
              "<Figure size 432x288 with 1 Axes>"
            ]
          },
          "metadata": {
            "needs_background": "light"
          },
          "output_type": "display_data"
        }
      ],
      "source": [
        "binary_global = image > threshold_otsu(proc)\n",
        "plt.imshow(binary_global)"
      ]
    },
    {
      "cell_type": "code",
      "execution_count": null,
      "metadata": {
        "id": "_Fjmh9dfpo-L"
      },
      "outputs": [],
      "source": [
        "proc=binary_global"
      ]
    },
    {
      "cell_type": "code",
      "execution_count": null,
      "metadata": {
        "id": "tudHgdmWpo-M",
        "outputId": "db0dd564-db28-42ba-bd22-34d16eda23d4"
      },
      "outputs": [
        {
          "data": {
            "text/plain": [
              "<matplotlib.image.AxesImage at 0x7fcad92df220>"
            ]
          },
          "execution_count": 112,
          "metadata": {},
          "output_type": "execute_result"
        },
        {
          "data": {
            "image/png": "[encoded data removed]",
            "text/plain": [
              "<Figure size 432x288 with 1 Axes>"
            ]
          },
          "metadata": {
            "needs_background": "light"
          },
          "output_type": "display_data"
        }
      ],
      "source": [
        "proc = morphology.binary_opening(proc)\n",
        "proc = morphology.binary_closing(proc)\n",
        "plt.imshow(proc)"
      ]
    },
    {
      "cell_type": "code",
      "execution_count": null,
      "metadata": {
        "scrolled": true,
        "id": "dmW6wwzDpo-M",
        "outputId": "4a430088-2a08-43ec-bfb3-a327116e15b7"
      },
      "outputs": [
        {
          "data": {
            "text/plain": [
              "(array([1099.,  408.,  204.,  107.,   51.,   49.,   69.,   55.,   57.,\n",
              "          17.]),\n",
              " array([0.        , 0.13588879, 0.27177757, 0.40766633, 0.54355514,\n",
              "        0.6794439 , 0.81533265, 0.95122147, 1.0871103 , 1.222999  ,\n",
              "        1.3588878 ], dtype=float32),\n",
              " <BarContainer object of 10 artists>)"
            ]
          },
          "execution_count": 92,
          "metadata": {},
          "output_type": "execute_result"
        },
        {
          "data": {
            "image/png": "[encoded data removed]",
            "text/plain": [
              "<Figure size 432x288 with 1 Axes>"
            ]
          },
          "metadata": {
            "needs_background": "light"
          },
          "output_type": "display_data"
        }
      ],
      "source": [
        "# if the distribution is skewed, use otsu?\n",
        "plt.hist(image.flatten())"
      ]
    },
    {
      "cell_type": "code",
      "execution_count": null,
      "metadata": {
        "scrolled": false,
        "id": "-NA_XjqCpo-M",
        "outputId": "1f6da2b7-f03f-4e0f-f24a-ab079f02d3dc"
      },
      "outputs": [
        {
          "data": {
            "text/plain": [
              "<matplotlib.image.AxesImage at 0x7fcad90a9130>"
            ]
          },
          "execution_count": 117,
          "metadata": {},
          "output_type": "execute_result"
        },
        {
          "data": {
            "image/png": "[encoded data removed]",
            "text/plain": [
              "<Figure size 432x288 with 1 Axes>"
            ]
          },
          "metadata": {
            "needs_background": "light"
          },
          "output_type": "display_data"
        }
      ],
      "source": [
        "binary_global = image > threshold_otsu(image)\n",
        "proc = morphology.binary_opening(binary_global)\n",
        "proc = morphology.binary_closing(proc)\n",
        "plt.imshow(proc)"
      ]
    },
    {
      "cell_type": "markdown",
      "metadata": {
        "id": "9gZVNMikpo-M"
      },
      "source": [
        "## ch 4"
      ]
    },
    {
      "cell_type": "code",
      "execution_count": null,
      "metadata": {
        "scrolled": true,
        "id": "yxVFcW_apo-M",
        "outputId": "5ac49faa-f7fc-457d-e04d-f042c7d29db0"
      },
      "outputs": [
        {
          "data": {
            "text/plain": [
              "(0.50400937, 0.24239145)"
            ]
          },
          "execution_count": 124,
          "metadata": {},
          "output_type": "execute_result"
        }
      ],
      "source": [
        "mean,std = np.mean(image.flatten()),np.std(image.flatten())\n",
        "mean,std"
      ]
    },
    {
      "cell_type": "code",
      "execution_count": null,
      "metadata": {
        "id": "8hJYWMsipo-N",
        "outputId": "218916d5-1fcf-4f8a-f297-d62076e15fc6"
      },
      "outputs": [
        {
          "data": {
            "text/plain": [
              "0.9887922704219818"
            ]
          },
          "execution_count": 125,
          "metadata": {},
          "output_type": "execute_result"
        }
      ],
      "source": [
        "mean+std*2"
      ]
    },
    {
      "cell_type": "code",
      "execution_count": null,
      "metadata": {
        "scrolled": false,
        "id": "5o69GTDbpo-N",
        "outputId": "ca7a82a7-b87e-4a48-ed54-83e6d55a5934"
      },
      "outputs": [
        {
          "data": {
            "text/plain": [
              "<matplotlib.image.AxesImage at 0x7f8ee1c0b910>"
            ]
          },
          "execution_count": 127,
          "metadata": {},
          "output_type": "execute_result"
        },
        {
          "data": {
            "image/png": "[encoded data removed]",
            "text/plain": [
              "<Figure size 432x288 with 1 Axes>"
            ]
          },
          "metadata": {
            "needs_background": "light"
          },
          "output_type": "display_data"
        }
      ],
      "source": [
        "mask = image>(mean-std*2)\n",
        "plt.imshow(mask)"
      ]
    },
    {
      "cell_type": "code",
      "execution_count": null,
      "metadata": {
        "id": "Wu9ldgRvpo-O"
      },
      "outputs": [],
      "source": [
        "proc=morphology.binary_closing(mask,morphology.rectangle(3,8))\n",
        "proc=morphology.binary_closing(proc,morphology.rectangle(3,8))"
      ]
    },
    {
      "cell_type": "code",
      "execution_count": null,
      "metadata": {
        "id": "hiA10p1Wpo-O"
      },
      "outputs": [],
      "source": [
        "proc=morphology.binary_closing(mask,morphology.disk(5))\n",
        "proc=morphology.binary_closing(proc,morphology.disk(5))"
      ]
    },
    {
      "cell_type": "code",
      "execution_count": null,
      "metadata": {
        "scrolled": true,
        "id": "c1zbLmG7po-O",
        "outputId": "4879ad5d-000d-4fab-9148-aa9c8a0ec6ca"
      },
      "outputs": [
        {
          "data": {
            "text/plain": [
              "<matplotlib.image.AxesImage at 0x7f8ee2bf20d0>"
            ]
          },
          "execution_count": 108,
          "metadata": {},
          "output_type": "execute_result"
        },
        {
          "data": {
            "image/png": "[encoded data removed]",
            "text/plain": [
              "<Figure size 432x288 with 1 Axes>"
            ]
          },
          "metadata": {
            "needs_background": "light"
          },
          "output_type": "display_data"
        }
      ],
      "source": [
        "plt.imshow(proc)"
      ]
    },
    {
      "cell_type": "code",
      "execution_count": null,
      "metadata": {
        "scrolled": true,
        "id": "h6jY06J7po-O",
        "outputId": "55004bee-57d6-43a8-bfb4-b10ad2bb1fbc"
      },
      "outputs": [
        {
          "data": {
            "text/plain": [
              "<matplotlib.image.AxesImage at 0x7f8ee21542b0>"
            ]
          },
          "execution_count": 117,
          "metadata": {},
          "output_type": "execute_result"
        },
        {
          "data": {
            "image/png": "[encoded data removed]",
            "text/plain": [
              "<Figure size 432x288 with 1 Axes>"
            ]
          },
          "metadata": {
            "needs_background": "light"
          },
          "output_type": "display_data"
        }
      ],
      "source": [
        "proc2=morphology.binary_opening(proc)\n",
        "plt.imshow(proc2)"
      ]
    },
    {
      "cell_type": "code",
      "execution_count": null,
      "metadata": {
        "scrolled": true,
        "id": "ATzr1btkpo-O",
        "outputId": "5eb235fa-47fc-436d-869a-c29e3b02b3c6"
      },
      "outputs": [
        {
          "data": {
            "text/plain": [
              "<matplotlib.image.AxesImage at 0x7f8ee2aca7c0>"
            ]
          },
          "execution_count": 105,
          "metadata": {},
          "output_type": "execute_result"
        },
        {
          "data": {
            "image/png": "[encoded data removed]",
            "text/plain": [
              "<Figure size 432x288 with 1 Axes>"
            ]
          },
          "metadata": {
            "needs_background": "light"
          },
          "output_type": "display_data"
        }
      ],
      "source": [
        "proc[]\n",
        "plt.imshow(proc)"
      ]
    },
    {
      "cell_type": "code",
      "execution_count": null,
      "metadata": {
        "id": "yoxTXzDipo-P"
      },
      "outputs": [],
      "source": [
        ""
      ]
    },
    {
      "cell_type": "code",
      "execution_count": null,
      "metadata": {
        "id": "W22sKYLypo-P",
        "outputId": "1b159833-bd59-4f02-9e83-62270c6bf871"
      },
      "outputs": [
        {
          "data": {
            "text/plain": [
              "0.5016207"
            ]
          },
          "execution_count": 69,
          "metadata": {},
          "output_type": "execute_result"
        }
      ],
      "source": [
        "threshold_otsu(image)"
      ]
    },
    {
      "cell_type": "code",
      "execution_count": null,
      "metadata": {
        "id": "jCHr2YL8po-Q"
      },
      "outputs": [],
      "source": [
        ""
      ]
    },
    {
      "cell_type": "code",
      "execution_count": null,
      "metadata": {
        "id": "e00eVwO5po-Q"
      },
      "outputs": [],
      "source": [
        ""
      ]
    },
    {
      "cell_type": "code",
      "execution_count": null,
      "metadata": {
        "id": "TrwgGP1Hpo-Q"
      },
      "outputs": [],
      "source": [
        ""
      ]
    },
    {
      "cell_type": "code",
      "execution_count": null,
      "metadata": {
        "id": "BpjZOEjXpo-Q"
      },
      "outputs": [],
      "source": [
        ""
      ]
    },
    {
      "cell_type": "code",
      "execution_count": null,
      "metadata": {
        "id": "WgH44RRwpo-Q"
      },
      "outputs": [],
      "source": [
        ""
      ]
    },
    {
      "cell_type": "code",
      "execution_count": null,
      "metadata": {
        "id": "4wXLAyYWpo-R"
      },
      "outputs": [],
      "source": [
        ""
      ]
    },
    {
      "cell_type": "code",
      "execution_count": null,
      "metadata": {
        "id": "DUvT-cM6po-R"
      },
      "outputs": [],
      "source": [
        ""
      ]
    },
    {
      "cell_type": "code",
      "execution_count": null,
      "metadata": {
        "id": "bLXSqr5Ipo-R"
      },
      "outputs": [],
      "source": [
        ""
      ]
    },
    {
      "cell_type": "code",
      "execution_count": null,
      "metadata": {
        "id": "jBxJ5DPdpo-S"
      },
      "outputs": [],
      "source": [
        ""
      ]
    }
  ],
  "metadata": {
    "kernelspec": {
      "display_name": "Python 3 (ipykernel)",
      "language": "python",
      "name": "python3"
    },
    "language_info": {
      "codemirror_mode": {
        "name": "ipython",
        "version": 3
      },
      "file_extension": ".py",
      "mimetype": "text/x-python",
      "name": "python",
      "nbconvert_exporter": "python",
      "pygments_lexer": "ipython3",
      "version": "3.9.7"
    },
    "toc": {
      "base_numbering": 1,
      "nav_menu": {},
      "number_sections": true,
      "sideBar": true,
      "skip_h1_title": false,
      "title_cell": "Table of Contents",
      "title_sidebar": "Contents",
      "toc_cell": false,
      "toc_position": {
        "height": "859.617px",
        "left": "26px",
        "top": "147.483px",
        "width": "370.5px"
      },
      "toc_section_display": true,
      "toc_window_display": true
    },
    "varInspector": {
      "cols": {
        "lenName": 16,
        "lenType": 16,
        "lenVar": 40
      },
      "kernels_config": {
        "python": {
          "delete_cmd_postfix": "",
          "delete_cmd_prefix": "del ",
          "library": "var_list.py",
          "varRefreshCmd": "print(var_dic_list())"
        },
        "r": {
          "delete_cmd_postfix": ") ",
          "delete_cmd_prefix": "rm(",
          "library": "var_list.r",
          "varRefreshCmd": "cat(var_dic_list()) "
        }
      },
      "types_to_exclude": [
        "module",
        "function",
        "builtin_function_or_method",
        "instance",
        "_Feature"
      ],
      "window_display": false
    },
    "colab": {
      "name": "BF environmental processing.ipynb",
      "provenance": [],
      "collapsed_sections": [
        "123130d2",
        "5n7M-iGppo9m",
        "MN_6DCTVpo9s",
        "Gx2Qj8iDpo9v",
        "7RYdKEeppo9z",
        "D-T5wITopo91",
        "vQOhGU0Ipo99",
        "xNQuz3ddpo9-",
        "SCzfaMHZpo-E",
        "zVZUfJJhpo-F",
        "9gZVNMikpo-M"
      ],
      "toc_visible": true,
      "include_colab_link": true
    },
    "accelerator": "GPU"
  },
  "nbformat": 4,
  "nbformat_minor": 0
}